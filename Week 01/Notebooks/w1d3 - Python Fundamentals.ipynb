{
 "cells": [
  {
   "cell_type": "markdown",
   "id": "b5cd705f",
   "metadata": {},
   "source": [
    "# Summer of Code - Artificial Intelligence\n",
    "## Week 01<br>Day 03: Python Fundamentals\n",
    "![](Figures/w1d3.png)\n",
    "\n",
    "In this labwork, we will cover the essential concepts of Python **programming**."
   ]
  },
  {
   "cell_type": "code",
   "execution_count": 2,
   "id": "4b4e2b99",
   "metadata": {},
   "outputs": [
    {
     "name": "stdout",
     "output_type": "stream",
     "text": [
      "Hello world\n"
     ]
    }
   ],
   "source": [
    "print(\"Hello world\")"
   ]
  },
  {
   "cell_type": "markdown",
   "id": "4ca53f4e",
   "metadata": {},
   "source": [
    "## Introduction to Python\n",
    "\n",
    "Python is a high-level, interpreted programming language. It is popular for the following reasons:\n",
    "\n",
    "- Simple and readable syntax\n",
    "- Large standard library\n",
    "- Extensive third-party packages\n",
    "- Strong community support\n",
    "- Applications in AI, ML, Data Science, Web Development.\n"
   ]
  },
  {
   "cell_type": "markdown",
   "id": "0ce194a8",
   "metadata": {},
   "source": [
    "## Setting up Development Environment\n",
    "\n",
    "Visit the official Python website [python.org](https://www.python.org/) to download the latest version of Python.\n",
    "Open the downloaded installer to install Python on your system. While Installing make sure to select **Add Python to System Path**.\n",
    "Following are some popular IDEs for Python:\n",
    "\n",
    "- Visual Studio Code\n",
    "- PyCharm\n",
    "- Jupyter Notebook\n"
   ]
  },
  {
   "cell_type": "markdown",
   "id": "09a15d82",
   "metadata": {},
   "source": [
    "## Verifying Python Installation\n",
    "To verify that Python is installed correctly, open a terminal or command prompt and type:\n",
    "```bash\n",
    "python --version\n",
    "```\n",
    "You should see the installed Python version displayed."
   ]
  },
  {
   "cell_type": "markdown",
   "id": "f5086f8c",
   "metadata": {},
   "source": [
    "## VSCode and Jupyter Notebook\n",
    "VSCode is a popular code editor that supports Python development. Jupyter Notebook is an interactive environment that allows you run indivisual code cells and see the output immediately."
   ]
  },
  {
   "cell_type": "markdown",
   "id": "ecaa268a",
   "metadata": {},
   "source": [
    "## Basic Syntax"
   ]
  },
  {
   "cell_type": "code",
   "execution_count": 3,
   "id": "d59148e6",
   "metadata": {},
   "outputs": [
    {
     "name": "stdout",
     "output_type": "stream",
     "text": [
      "Hello world\n"
     ]
    }
   ],
   "source": [
    "print(\"Hello world\")"
   ]
  },
  {
   "cell_type": "markdown",
   "id": "10ec91aa",
   "metadata": {},
   "source": [
    "## Values and Expressions\n",
    "Values are pieces of data like numbers or text. Expressions combine values to produce new values."
   ]
  },
  {
   "cell_type": "code",
   "execution_count": null,
   "id": "f83a6001",
   "metadata": {},
   "outputs": [
    {
     "data": {
      "text/plain": [
       "26"
      ]
     },
     "execution_count": 4,
     "metadata": {},
     "output_type": "execute_result"
    }
   ],
   "source": [
    "26 # Number, literal\n",
    "26.5\n",
    "\"Ahmad\" # same 'Ahmad'\n",
    "\n",
    "26 + 10\n",
    "26 > 19"
   ]
  },
  {
   "cell_type": "markdown",
   "id": "9e4290f9",
   "metadata": {},
   "source": [
    "## Statements and Comments\n",
    "- Statements are instructions that Python can execute\n",
    "- Statements must be seperated by newline or ;\n",
    "- Comments help explain your code\n",
    "- Python supports single-line and multi-line comments"
   ]
  },
  {
   "cell_type": "code",
   "execution_count": 5,
   "id": "bc2af935",
   "metadata": {},
   "outputs": [
    {
     "name": "stdout",
     "output_type": "stream",
     "text": [
      "hello\n",
      "world\n"
     ]
    }
   ],
   "source": [
    "# This is a single line comment\n",
    "\"\"\"\n",
    "This is a multiline comment.\n",
    "it can span multiple line\n",
    "\"\"\"\n",
    "print(\"hello\") # this is another comment\n",
    "print(\"world\")"
   ]
  },
  {
   "cell_type": "markdown",
   "id": "db90e264",
   "metadata": {},
   "source": [
    "## Data Types\n",
    "Data types define the kind of data that we can work with. In Python, common data types include:\n",
    "- Numbers\n",
    "- Booleans\n",
    "- Strings\n"
   ]
  },
  {
   "cell_type": "code",
   "execution_count": null,
   "id": "b6e64c5e",
   "metadata": {},
   "outputs": [
    {
     "data": {
      "text/plain": [
       "10"
      ]
     },
     "execution_count": 8,
     "metadata": {},
     "output_type": "execute_result"
    }
   ],
   "source": [
    "10 # integer"
   ]
  },
  {
   "cell_type": "code",
   "execution_count": null,
   "id": "e6a82df9",
   "metadata": {},
   "outputs": [
    {
     "data": {
      "text/plain": [
       "False"
      ]
     },
     "execution_count": 7,
     "metadata": {},
     "output_type": "execute_result"
    }
   ],
   "source": [
    "True # Boolean\n",
    "False"
   ]
  },
  {
   "cell_type": "code",
   "execution_count": 40,
   "id": "f90797f0",
   "metadata": {},
   "outputs": [
    {
     "data": {
      "text/plain": [
       "'Hello'"
      ]
     },
     "execution_count": 40,
     "metadata": {},
     "output_type": "execute_result"
    }
   ],
   "source": [
    "\"Hello\" # string"
   ]
  },
  {
   "cell_type": "markdown",
   "id": "1e429454",
   "metadata": {},
   "source": [
    "## Variables\n",
    "- Variables are locations in memory used to store data.\n",
    "- Variables in Python are dynamically typed, meaning you don't need to declare their type explicitly."
   ]
  },
  {
   "cell_type": "code",
   "execution_count": 11,
   "id": "7fb04e15",
   "metadata": {},
   "outputs": [
    {
     "name": "stdout",
     "output_type": "stream",
     "text": [
      "25\n"
     ]
    }
   ],
   "source": [
    "age = 25 # this is an integer variable\n",
    "print(age)"
   ]
  },
  {
   "cell_type": "code",
   "execution_count": 14,
   "id": "12e4b43b",
   "metadata": {},
   "outputs": [
    {
     "name": "stdout",
     "output_type": "stream",
     "text": [
      "27\n"
     ]
    }
   ],
   "source": [
    "age = 27 # its value can be changed\n",
    "print(age)"
   ]
  },
  {
   "cell_type": "code",
   "execution_count": 18,
   "id": "74c6c8a3",
   "metadata": {},
   "outputs": [
    {
     "data": {
      "text/plain": [
       "'Twenty Five'"
      ]
     },
     "execution_count": 18,
     "metadata": {},
     "output_type": "execute_result"
    }
   ],
   "source": [
    "age = \"Twenty Five\"\n",
    "age"
   ]
  },
  {
   "cell_type": "code",
   "execution_count": 42,
   "id": "5ce75090",
   "metadata": {},
   "outputs": [
    {
     "name": "stdout",
     "output_type": "stream",
     "text": [
      "50\n",
      "30000\n"
     ]
    }
   ],
   "source": [
    "# More than one variables can be initialized in a single line\n",
    "age, salary = 50, 30000\n",
    "print(age)\n",
    "print(salary)"
   ]
  },
  {
   "cell_type": "markdown",
   "id": "c72f1486",
   "metadata": {},
   "source": [
    "# Identifiers and Keywords\n",
    "- Identifiers are names used to identify variables, functions, classes, etc.\n",
    "- Keywords are reserved words in Python that have special meanings and cannot be used as identifiers."
   ]
  },
  {
   "cell_type": "code",
   "execution_count": null,
   "id": "2bc2e827",
   "metadata": {},
   "outputs": [],
   "source": []
  },
  {
   "cell_type": "code",
   "execution_count": 41,
   "id": "f2467291",
   "metadata": {},
   "outputs": [
    {
     "name": "stdout",
     "output_type": "stream",
     "text": [
      "['False', 'None', 'True', 'and', 'as', 'assert', 'async', 'await', 'break', 'class', 'continue', 'def', 'del', 'elif', 'else', 'except', 'finally', 'for', 'from', 'global', 'if', 'import', 'in', 'is', 'lambda', 'nonlocal', 'not', 'or', 'pass', 'raise', 'return', 'try', 'while', 'with', 'yield']\n"
     ]
    }
   ],
   "source": [
    "# To see a list of keywords used in python\n",
    "import keyword\n",
    "\n",
    "print(keyword.kwlist)"
   ]
  },
  {
   "cell_type": "markdown",
   "id": "9ae7b469",
   "metadata": {},
   "source": [
    "### Rules for Naming Variables\n",
    "- Keywords cannot be used as variable name\n",
    "- Variable name cannot start with a digit\n",
    "- Variable name cannot contain special characters except underscore (`_`)\n",
    "- Whitespaces are not allowed within a variable name"
   ]
  },
  {
   "cell_type": "markdown",
   "id": "dfdb6689",
   "metadata": {},
   "source": [
    "# Operations\n",
    "- Python supports various operations, including arithmetic, comparison, and logical operations.\n",
    "- Operations are performed using operators.\n",
    "- These operators receive one or more values (operands) and produce a new value."
   ]
  },
  {
   "cell_type": "markdown",
   "id": "dd8209b0",
   "metadata": {},
   "source": [
    "## Arithmetic Operations\n",
    "Arithmetic operations refer to mathematical calculations.\n",
    "- Addition (`+`)\n",
    "- Subtraction (`-`)\n",
    "- Multiplication (`*`)\n",
    "- Division (`/`)\n",
    "- Floor Division (`//`): It discards values after decimal point\n",
    "- Modulus (`%`): Returns remainder of a division\n",
    "- Exponentiation (`**`)\n"
   ]
  },
  {
   "cell_type": "code",
   "execution_count": 20,
   "id": "09d02c3a",
   "metadata": {},
   "outputs": [
    {
     "data": {
      "text/plain": [
       "30"
      ]
     },
     "execution_count": 20,
     "metadata": {},
     "output_type": "execute_result"
    }
   ],
   "source": [
    "10 + 20 # expression, evalutes to a single value"
   ]
  },
  {
   "cell_type": "code",
   "execution_count": null,
   "id": "1c1a4353",
   "metadata": {},
   "outputs": [
    {
     "data": {
      "text/plain": [
       "50"
      ]
     },
     "execution_count": 25,
     "metadata": {},
     "output_type": "execute_result"
    }
   ],
   "source": [
    "first_number = 20 # Assignment operator\n",
    "second_number = 30\n",
    "first_number + second_number"
   ]
  },
  {
   "cell_type": "code",
   "execution_count": null,
   "id": "32a4c193",
   "metadata": {},
   "outputs": [
    {
     "data": {
      "text/plain": [
       "0.6666666666666666"
      ]
     },
     "execution_count": 26,
     "metadata": {},
     "output_type": "execute_result"
    }
   ],
   "source": [
    "first_number / second_number"
   ]
  },
  {
   "cell_type": "code",
   "execution_count": 28,
   "id": "d06bc45c",
   "metadata": {},
   "outputs": [
    {
     "data": {
      "text/plain": [
       "1"
      ]
     },
     "execution_count": 28,
     "metadata": {},
     "output_type": "execute_result"
    }
   ],
   "source": [
    "second_number // first_number # integer division"
   ]
  },
  {
   "cell_type": "code",
   "execution_count": 30,
   "id": "05452c2c",
   "metadata": {},
   "outputs": [
    {
     "data": {
      "text/plain": [
       "10"
      ]
     },
     "execution_count": 30,
     "metadata": {},
     "output_type": "execute_result"
    }
   ],
   "source": [
    "# Modulus operator: returns the remainder\n",
    "second_number % first_number"
   ]
  },
  {
   "cell_type": "code",
   "execution_count": null,
   "id": "25f755db",
   "metadata": {},
   "outputs": [
    {
     "data": {
      "text/plain": [
       "256"
      ]
     },
     "execution_count": 33,
     "metadata": {},
     "output_type": "execute_result"
    }
   ],
   "source": [
    "# Results of an expression can be stored in a variable\n",
    "a, b = 2, 8\n",
    "\n",
    "result = a**b\n",
    "result"
   ]
  },
  {
   "cell_type": "markdown",
   "id": "067bd554",
   "metadata": {},
   "source": [
    "## Operator Precedence\n",
    "which operation to perform first?\n",
    "- **\n",
    "- /, *\n",
    "- +, -\n",
    "\n",
    "Note: you can use `()` to change the precedence"
   ]
  },
  {
   "cell_type": "markdown",
   "id": "e443c5e8",
   "metadata": {},
   "source": [
    "## Comparison Operations\n",
    "Comparison operations compare two values.\n",
    "- Equal to (`==`)\n",
    "- Not equal to (`!=`)\n",
    "- Greater than (`>`)\n",
    "- Less than (`<`)\n",
    "- Greater than or equal to (`>=`)\n",
    "- Less than or equal to (`<=`)\n"
   ]
  },
  {
   "cell_type": "code",
   "execution_count": 47,
   "id": "bcc96554",
   "metadata": {},
   "outputs": [
    {
     "name": "stdout",
     "output_type": "stream",
     "text": [
      "False\n"
     ]
    }
   ],
   "source": [
    "val1 = 12\n",
    "val2 = 14\n",
    "\n",
    "is_greater = val1 == val2 # comparison expression will evaluate boolean value\n",
    "\n",
    "print(is_greater)"
   ]
  },
  {
   "cell_type": "code",
   "execution_count": 49,
   "id": "21015814",
   "metadata": {},
   "outputs": [
    {
     "data": {
      "text/plain": [
       "int"
      ]
     },
     "execution_count": 49,
     "metadata": {},
     "output_type": "execute_result"
    }
   ],
   "source": [
    "# You can check the data type of a variable\n",
    "age = 25\n",
    "type(age)"
   ]
  },
  {
   "cell_type": "code",
   "execution_count": 50,
   "id": "af63e4aa",
   "metadata": {},
   "outputs": [
    {
     "data": {
      "text/plain": [
       "float"
      ]
     },
     "execution_count": 50,
     "metadata": {},
     "output_type": "execute_result"
    }
   ],
   "source": [
    "age = 25.4\n",
    "type(age)"
   ]
  },
  {
   "cell_type": "code",
   "execution_count": 51,
   "id": "72a47ece",
   "metadata": {},
   "outputs": [
    {
     "data": {
      "text/plain": [
       "str"
      ]
     },
     "execution_count": 51,
     "metadata": {},
     "output_type": "execute_result"
    }
   ],
   "source": [
    "age = \"Twenty Five\"\n",
    "type(age)"
   ]
  },
  {
   "cell_type": "code",
   "execution_count": 52,
   "id": "ca3ebbb1",
   "metadata": {},
   "outputs": [
    {
     "data": {
      "text/plain": [
       "bool"
      ]
     },
     "execution_count": 52,
     "metadata": {},
     "output_type": "execute_result"
    }
   ],
   "source": [
    "type(is_greater)"
   ]
  },
  {
   "cell_type": "markdown",
   "id": "755b9d11",
   "metadata": {},
   "source": [
    "## Logical Operations\n",
    "Logical operations combine boolean values.\n",
    "- And (`and`)\n",
    "- Or (`or`)"
   ]
  },
  {
   "cell_type": "code",
   "execution_count": 57,
   "id": "764fc51d",
   "metadata": {},
   "outputs": [
    {
     "data": {
      "text/plain": [
       "True"
      ]
     },
     "execution_count": 57,
     "metadata": {},
     "output_type": "execute_result"
    }
   ],
   "source": [
    "# short circuit execution\n",
    "age = 18\n",
    "citizen = \"Pakistani\"\n",
    "is_adult = age >= 18\n",
    "is_pakistani = citizen == \"Pakistani\"\n",
    "\n",
    "is_adult and is_pakistani\n"
   ]
  },
  {
   "cell_type": "markdown",
   "id": "fa51c24a",
   "metadata": {},
   "source": [
    "# User Input\n",
    "- Python provides the `input()` function to take input from the user.\n",
    "- The input is always returned as a string.\n",
    "- The syntax of the input is:\n",
    "```python\n",
    "variable_name = input(\"Prompt message: \")\n"
   ]
  },
  {
   "cell_type": "code",
   "execution_count": 59,
   "id": "f764f384",
   "metadata": {},
   "outputs": [],
   "source": [
    "age = input(\"Enter you age:\")"
   ]
  },
  {
   "cell_type": "code",
   "execution_count": 62,
   "id": "a8292cdc",
   "metadata": {},
   "outputs": [
    {
     "data": {
      "text/plain": [
       "'25'"
      ]
     },
     "execution_count": 62,
     "metadata": {},
     "output_type": "execute_result"
    }
   ],
   "source": [
    "age"
   ]
  },
  {
   "cell_type": "code",
   "execution_count": 63,
   "id": "dc08e99e",
   "metadata": {},
   "outputs": [
    {
     "data": {
      "text/plain": [
       "str"
      ]
     },
     "execution_count": 63,
     "metadata": {},
     "output_type": "execute_result"
    }
   ],
   "source": [
    "type(age)"
   ]
  },
  {
   "cell_type": "markdown",
   "id": "58ae29fc",
   "metadata": {},
   "source": [
    "## Type Casting\n",
    "Type casting is the process of converting a variable from one data type to another.\n",
    "\n"
   ]
  },
  {
   "cell_type": "code",
   "execution_count": 66,
   "id": "c86595c3",
   "metadata": {},
   "outputs": [
    {
     "data": {
      "text/plain": [
       "int"
      ]
     },
     "execution_count": 66,
     "metadata": {},
     "output_type": "execute_result"
    }
   ],
   "source": [
    "age = int('25')\n",
    "type(age)"
   ]
  },
  {
   "cell_type": "code",
   "execution_count": 68,
   "id": "0feb3b9f",
   "metadata": {},
   "outputs": [
    {
     "name": "stdout",
     "output_type": "stream",
     "text": [
      "<class 'float'>\n",
      "25.0\n"
     ]
    }
   ],
   "source": [
    "age = float(age)\n",
    "print(type(age))\n",
    "print(age)"
   ]
  },
  {
   "cell_type": "code",
   "execution_count": 71,
   "id": "57c0b638",
   "metadata": {},
   "outputs": [
    {
     "data": {
      "text/plain": [
       "float"
      ]
     },
     "execution_count": 71,
     "metadata": {},
     "output_type": "execute_result"
    }
   ],
   "source": [
    "type(age)"
   ]
  },
  {
   "cell_type": "code",
   "execution_count": 72,
   "id": "d24797bd",
   "metadata": {},
   "outputs": [
    {
     "name": "stdout",
     "output_type": "stream",
     "text": [
      "<class 'int'>\n"
     ]
    }
   ],
   "source": [
    "number = 10\n",
    "print(type(number))"
   ]
  },
  {
   "cell_type": "code",
   "execution_count": 73,
   "id": "55f4a9b6",
   "metadata": {},
   "outputs": [
    {
     "data": {
      "text/plain": [
       "str"
      ]
     },
     "execution_count": 73,
     "metadata": {},
     "output_type": "execute_result"
    }
   ],
   "source": [
    "number_str = str(number)\n",
    "type(number_str)\n"
   ]
  },
  {
   "cell_type": "code",
   "execution_count": 74,
   "id": "1f6069b7",
   "metadata": {},
   "outputs": [
    {
     "data": {
      "text/plain": [
       "'10'"
      ]
     },
     "execution_count": 74,
     "metadata": {},
     "output_type": "execute_result"
    }
   ],
   "source": [
    "number_str"
   ]
  },
  {
   "cell_type": "markdown",
   "id": "b6edd5ea",
   "metadata": {},
   "source": [
    "## Exercises\n",
    "1. Write a Python program to take two numbers as input from the user and print their sum, difference, product, and quotient.\n",
    "2. Create a program for converting temperature from Celsius to Fahrenheit. The formula to convert Celsius to Fahrenheit is: F = (C * 9/5) + 32.\n",
    "3. Convert a given number of minutes into hours and minutes. For example, 130 minutes should be converted to 2 hours and 10 minutes.\n",
    "4. Find Area of a rectangle given its width and height."
   ]
  },
  {
   "cell_type": "markdown",
   "id": "47ef4f9f",
   "metadata": {},
   "source": [
    "## Solutions"
   ]
  },
  {
   "cell_type": "code",
   "execution_count": 20,
   "id": "5290347d",
   "metadata": {},
   "outputs": [
    {
     "name": "stdout",
     "output_type": "stream",
     "text": [
      "10.5\n",
      "12.4\n"
     ]
    }
   ],
   "source": [
    "# Write a Python program to take two numbers as input from the user\n",
    "# and print their sum, difference, product, and quotient.\n",
    "\n",
    "first_number = input(\"Enter first number: \")\n",
    "second_number = input(\"Enter second number: \")\n",
    "\n",
    "print(first_number)\n",
    "print(second_number)"
   ]
  },
  {
   "cell_type": "code",
   "execution_count": 23,
   "id": "2e80b1a7",
   "metadata": {},
   "outputs": [
    {
     "name": "stdout",
     "output_type": "stream",
     "text": [
      "<class 'str'>\n",
      "<class 'str'>\n"
     ]
    }
   ],
   "source": [
    "print(type(first_number))\n",
    "print(type(second_number))"
   ]
  },
  {
   "cell_type": "code",
   "execution_count": 25,
   "id": "921b1f0d",
   "metadata": {},
   "outputs": [],
   "source": [
    "first_number = float(first_number)\n",
    "second_number = float(second_number)"
   ]
  },
  {
   "cell_type": "code",
   "execution_count": 26,
   "id": "1448d659",
   "metadata": {},
   "outputs": [
    {
     "name": "stdout",
     "output_type": "stream",
     "text": [
      "22.9\n",
      "-1.9000000000000004\n",
      "130.20000000000002\n",
      "0.8467741935483871\n"
     ]
    }
   ],
   "source": [
    "summ = first_number + second_number\n",
    "difference = first_number - second_number\n",
    "product = first_number * second_number\n",
    "quotient = first_number / second_number\n",
    "\n",
    "print(summ)\n",
    "print(difference)\n",
    "print(product)\n",
    "print(quotient)"
   ]
  },
  {
   "cell_type": "code",
   "execution_count": 15,
   "id": "b3c1df50",
   "metadata": {},
   "outputs": [
    {
     "data": {
      "text/plain": [
       "2"
      ]
     },
     "execution_count": 15,
     "metadata": {},
     "output_type": "execute_result"
    }
   ],
   "source": [
    "# Convert a given number of minutes into hours and minutes.\n",
    "# For example, 130 minutes should be converted to 2 hours and 10 minutes.\n",
    "minutes = 130\n",
    "\n",
    "hours = minutes // 60\n",
    "hours"
   ]
  },
  {
   "cell_type": "code",
   "execution_count": 16,
   "id": "4dccd4ca",
   "metadata": {},
   "outputs": [
    {
     "data": {
      "text/plain": [
       "10"
      ]
     },
     "execution_count": 16,
     "metadata": {},
     "output_type": "execute_result"
    }
   ],
   "source": [
    "remaining_minutes = minutes % 60\n",
    "remaining_minutes"
   ]
  },
  {
   "cell_type": "code",
   "execution_count": 19,
   "id": "03e2fe58",
   "metadata": {},
   "outputs": [
    {
     "name": "stdout",
     "output_type": "stream",
     "text": [
      "Hours: 2\n",
      "Minutes: 10\n"
     ]
    }
   ],
   "source": [
    "print(\"Hours: \" + str(hours))\n",
    "print(\"Minutes: \" + str(remaining_minutes))"
   ]
  }
 ],
 "metadata": {
  "kernelspec": {
   "display_name": "Python 3",
   "language": "python",
   "name": "python3"
  },
  "language_info": {
   "codemirror_mode": {
    "name": "ipython",
    "version": 3
   },
   "file_extension": ".py",
   "mimetype": "text/x-python",
   "name": "python",
   "nbconvert_exporter": "python",
   "pygments_lexer": "ipython3",
   "version": "3.12.6"
  }
 },
 "nbformat": 4,
 "nbformat_minor": 5
}
