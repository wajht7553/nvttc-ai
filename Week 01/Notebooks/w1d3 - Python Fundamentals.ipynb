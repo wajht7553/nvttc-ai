{
 "cells": [
  {
   "cell_type": "markdown",
   "id": "b5cd705f",
   "metadata": {},
   "source": [
    "# Summer of Code - Artificial Intelligence\n",
    "## Week 01<br>Day 03: Python Fundamentals\n",
    "![](Figures/w1d3.png)\n",
    "\n",
    "In this labwork, we will cover the essential concepts of Python **programming**."
   ]
  },
  {
   "cell_type": "code",
   "execution_count": 3,
   "id": "4b4e2b99",
   "metadata": {},
   "outputs": [
    {
     "name": "stdout",
     "output_type": "stream",
     "text": [
      "Hello world\n"
     ]
    }
   ],
   "source": [
    "print(\"Hello world\")"
   ]
  },
  {
   "cell_type": "markdown",
   "id": "4ca53f4e",
   "metadata": {},
   "source": [
    "## Introduction to Python\n",
    "\n",
    "Python is a high-level, interpreted programming language. It is popular for the following reasons:\n",
    "\n",
    "- Simple and readable syntax\n",
    "- Large standard library\n",
    "- Extensive third-party packages\n",
    "- Strong community support\n",
    "- Applications in AI, ML, Data Science, Web Development.\n"
   ]
  },
  {
   "cell_type": "markdown",
   "id": "0ce194a8",
   "metadata": {},
   "source": [
    "## Setting up Development Environment\n",
    "\n",
    "Visit the official Python website [python.org](https://www.python.org/) to download the latest version of Python.\n",
    "Open the downloaded installer to install Python on your system. While Installing make sure to select **Add Python to System Path**.\n",
    "Following are some popular IDEs for Python:\n",
    "\n",
    "- Visual Studio Code\n",
    "- PyCharm\n",
    "- Jupyter Notebook\n"
   ]
  },
  {
   "cell_type": "markdown",
   "id": "09a15d82",
   "metadata": {},
   "source": [
    "## Verifying Python Installation\n",
    "To verify that Python is installed correctly, open a terminal or command prompt and type:\n",
    "```bash\n",
    "python --version\n",
    "```\n",
    "You should see the installed Python version displayed."
   ]
  },
  {
   "cell_type": "code",
   "execution_count": 5,
   "id": "5605d423",
   "metadata": {},
   "outputs": [
    {
     "name": "stdout",
     "output_type": "stream",
     "text": [
      "Python 3.13.7\n"
     ]
    }
   ],
   "source": [
    "!python --version"
   ]
  },
  {
   "cell_type": "markdown",
   "id": "f5086f8c",
   "metadata": {},
   "source": [
    "## VSCode and Jupyter Notebook\n",
    "VSCode is a popular code editor that supports Python development. Jupyter Notebook is an interactive environment that allows you run indivisual code cells and see the output immediately."
   ]
  },
  {
   "cell_type": "markdown",
   "id": "ecaa268a",
   "metadata": {},
   "source": [
    "## Basic Syntax"
   ]
  },
  {
   "cell_type": "code",
   "execution_count": null,
   "id": "d59148e6",
   "metadata": {},
   "outputs": [],
   "source": [
    "print(\"Hello world\")"
   ]
  },
  {
   "cell_type": "markdown",
   "id": "10ec91aa",
   "metadata": {},
   "source": [
    "## Values and Expressions\n",
    "Values are pieces of data like numbers or text. Expressions combine values to produce new values."
   ]
  },
  {
   "cell_type": "code",
   "execution_count": null,
   "id": "643ae1ba",
   "metadata": {},
   "outputs": [
    {
     "data": {
      "text/plain": [
       "12"
      ]
     },
     "execution_count": 10,
     "metadata": {},
     "output_type": "execute_result"
    }
   ],
   "source": [
    "12 # number (int)"
   ]
  },
  {
   "cell_type": "code",
   "execution_count": null,
   "id": "a2b82583",
   "metadata": {},
   "outputs": [
    {
     "data": {
      "text/plain": [
       "5.4"
      ]
     },
     "execution_count": 11,
     "metadata": {},
     "output_type": "execute_result"
    }
   ],
   "source": [
    "5.4 # number (float)"
   ]
  },
  {
   "cell_type": "code",
   "execution_count": null,
   "id": "f83a6001",
   "metadata": {},
   "outputs": [
    {
     "data": {
      "text/plain": [
       "'this is text'"
      ]
     },
     "execution_count": 12,
     "metadata": {},
     "output_type": "execute_result"
    }
   ],
   "source": [
    "\"this is text\" # string"
   ]
  },
  {
   "cell_type": "code",
   "execution_count": null,
   "id": "5c4cffc0",
   "metadata": {},
   "outputs": [],
   "source": [
    "\"a\""
   ]
  },
  {
   "cell_type": "code",
   "execution_count": null,
   "id": "17732379",
   "metadata": {},
   "outputs": [
    {
     "data": {
      "text/plain": [
       "17"
      ]
     },
     "execution_count": 13,
     "metadata": {},
     "output_type": "execute_result"
    }
   ],
   "source": [
    "12 + 5"
   ]
  },
  {
   "cell_type": "markdown",
   "id": "9e4290f9",
   "metadata": {},
   "source": [
    "## Statements and Comments\n",
    "- Statements are instructions that Python can execute\n",
    "- Statements must be seperated by newline or ;\n",
    "- Comments help explain your code\n",
    "- Python supports single-line and multi-line comments"
   ]
  },
  {
   "cell_type": "code",
   "execution_count": null,
   "id": "bc2af935",
   "metadata": {},
   "outputs": [],
   "source": [
    "# This is a single line comment\n",
    "# this is another\n",
    "\n",
    "\"\"\"\n",
    "This is a multiline comment.\n",
    "it can span multiple line\n",
    "\"\"\"\n",
    "\n",
    "print(\"Hello\") # statement\n",
    "print(\"World\")\n",
    "print(\"Welcome\")"
   ]
  },
  {
   "cell_type": "markdown",
   "id": "db90e264",
   "metadata": {},
   "source": [
    "## Data Types\n",
    "Data types define the kind of data that we can work with. In Python, common data types include:\n",
    "- Numbers\n",
    "- Booleans\n",
    "- Strings\n"
   ]
  },
  {
   "cell_type": "code",
   "execution_count": null,
   "id": "b6e64c5e",
   "metadata": {},
   "outputs": [],
   "source": [
    "10 # integer"
   ]
  },
  {
   "cell_type": "code",
   "execution_count": null,
   "id": "e6a82df9",
   "metadata": {},
   "outputs": [],
   "source": [
    "True # Boolean\n",
    "False"
   ]
  },
  {
   "cell_type": "code",
   "execution_count": null,
   "id": "f90797f0",
   "metadata": {},
   "outputs": [],
   "source": [
    "\"Hello\" # string"
   ]
  },
  {
   "cell_type": "markdown",
   "id": "1e429454",
   "metadata": {},
   "source": [
    "## Variables\n",
    "- Variables are locations in memory used to store data.\n",
    "- Variables in Python are dynamically typed, meaning you don't need to declare their type explicitly."
   ]
  },
  {
   "cell_type": "code",
   "execution_count": 18,
   "id": "7fb04e15",
   "metadata": {},
   "outputs": [
    {
     "name": "stdout",
     "output_type": "stream",
     "text": [
      "25\n"
     ]
    }
   ],
   "source": [
    "# identifier/label assignment_operator (=) value/expression/etc\n",
    "age = 25 # this is an integer variable\n",
    "\n",
    "\n",
    "print(age)"
   ]
  },
  {
   "cell_type": "code",
   "execution_count": 19,
   "id": "7eeb36ac",
   "metadata": {},
   "outputs": [
    {
     "data": {
      "text/plain": [
       "int"
      ]
     },
     "execution_count": 19,
     "metadata": {},
     "output_type": "execute_result"
    }
   ],
   "source": [
    "type(age)"
   ]
  },
  {
   "cell_type": "code",
   "execution_count": 20,
   "id": "12e4b43b",
   "metadata": {},
   "outputs": [
    {
     "name": "stdout",
     "output_type": "stream",
     "text": [
      "27\n"
     ]
    }
   ],
   "source": [
    "age = 27 # its value can be changed\n",
    "print(age)"
   ]
  },
  {
   "cell_type": "markdown",
   "id": "758e7f71",
   "metadata": {},
   "source": [
    "### Python is dynamically typed language"
   ]
  },
  {
   "cell_type": "code",
   "execution_count": null,
   "id": "74c6c8a3",
   "metadata": {},
   "outputs": [
    {
     "data": {
      "text/plain": [
       "'Twenty Five'"
      ]
     },
     "execution_count": 21,
     "metadata": {},
     "output_type": "execute_result"
    }
   ],
   "source": [
    "age = \"Twenty Five\" # it is also called initialization\n",
    "age"
   ]
  },
  {
   "cell_type": "code",
   "execution_count": 22,
   "id": "d4168fda",
   "metadata": {},
   "outputs": [
    {
     "data": {
      "text/plain": [
       "str"
      ]
     },
     "execution_count": 22,
     "metadata": {},
     "output_type": "execute_result"
    }
   ],
   "source": [
    "type(age)"
   ]
  },
  {
   "cell_type": "code",
   "execution_count": 23,
   "id": "5ce75090",
   "metadata": {},
   "outputs": [
    {
     "name": "stdout",
     "output_type": "stream",
     "text": [
      "50\n",
      "30000\n"
     ]
    }
   ],
   "source": [
    "# More than one variables can be initialized in a single line\n",
    "age, salary = 50, 30000\n",
    "print(age)\n",
    "print(salary)"
   ]
  },
  {
   "cell_type": "code",
   "execution_count": null,
   "id": "d4dfc6f4",
   "metadata": {},
   "outputs": [],
   "source": [
    "my_age = 24"
   ]
  },
  {
   "cell_type": "markdown",
   "id": "c72f1486",
   "metadata": {},
   "source": [
    "# Identifiers and Keywords\n",
    "- Identifiers are names used to identify variables, functions, classes, etc.\n",
    "- Keywords are reserved words in Python that have special meanings and cannot be used as identifiers."
   ]
  },
  {
   "cell_type": "code",
   "execution_count": 24,
   "id": "f2467291",
   "metadata": {},
   "outputs": [
    {
     "name": "stdout",
     "output_type": "stream",
     "text": [
      "['False', 'None', 'True', 'and', 'as', 'assert', 'async', 'await', 'break', 'class', 'continue', 'def', 'del', 'elif', 'else', 'except', 'finally', 'for', 'from', 'global', 'if', 'import', 'in', 'is', 'lambda', 'nonlocal', 'not', 'or', 'pass', 'raise', 'return', 'try', 'while', 'with', 'yield']\n"
     ]
    }
   ],
   "source": [
    "# To see a list of keywords used in python\n",
    "import keyword\n",
    "\n",
    "print(keyword.kwlist)"
   ]
  },
  {
   "cell_type": "markdown",
   "id": "9ae7b469",
   "metadata": {},
   "source": [
    "### Rules for Naming Variables\n",
    "- Keywords cannot be used as variable name\n",
    "- Variable name cannot start with a digit\n",
    "- Variable name cannot contain special characters except underscore (`_`)\n",
    "- Whitespaces are not allowed within a variable name"
   ]
  },
  {
   "cell_type": "markdown",
   "id": "dfdb6689",
   "metadata": {},
   "source": [
    "# Operations\n",
    "- Python supports various operations, including arithmetic, comparison, and logical operations.\n",
    "- Operations are performed using operators.\n",
    "- These operators receive one or more values (operands) and produce a new value."
   ]
  },
  {
   "cell_type": "markdown",
   "id": "dd8209b0",
   "metadata": {},
   "source": [
    "## Arithmetic Operations\n",
    "Arithmetic operations refer to mathematical calculations.\n",
    "- Addition (`+`)\n",
    "- Subtraction (`-`)\n",
    "- Multiplication (`*`)\n",
    "- Division (`/`)\n",
    "- Integer Division (`//`): It discards values after decimal point\n",
    "- Modulus (`%`): Returns remainder of a division\n",
    "- Exponentiation (`**`)\n"
   ]
  },
  {
   "cell_type": "code",
   "execution_count": 25,
   "id": "09d02c3a",
   "metadata": {},
   "outputs": [
    {
     "data": {
      "text/plain": [
       "30"
      ]
     },
     "execution_count": 25,
     "metadata": {},
     "output_type": "execute_result"
    }
   ],
   "source": [
    "10 + 20 # expression, evalutes to a single value"
   ]
  },
  {
   "cell_type": "code",
   "execution_count": 26,
   "id": "1c1a4353",
   "metadata": {},
   "outputs": [
    {
     "data": {
      "text/plain": [
       "50"
      ]
     },
     "execution_count": 26,
     "metadata": {},
     "output_type": "execute_result"
    }
   ],
   "source": [
    "first_number = 20 # Assignment operator\n",
    "second_number = 30\n",
    "first_number + second_number"
   ]
  },
  {
   "cell_type": "code",
   "execution_count": 27,
   "id": "32a4c193",
   "metadata": {},
   "outputs": [
    {
     "data": {
      "text/plain": [
       "0.6666666666666666"
      ]
     },
     "execution_count": 27,
     "metadata": {},
     "output_type": "execute_result"
    }
   ],
   "source": [
    "first_number / second_number"
   ]
  },
  {
   "cell_type": "code",
   "execution_count": 30,
   "id": "d06bc45c",
   "metadata": {},
   "outputs": [
    {
     "data": {
      "text/plain": [
       "1"
      ]
     },
     "execution_count": 30,
     "metadata": {},
     "output_type": "execute_result"
    }
   ],
   "source": [
    "second_number // first_number # integer division"
   ]
  },
  {
   "cell_type": "code",
   "execution_count": 31,
   "id": "05452c2c",
   "metadata": {},
   "outputs": [
    {
     "data": {
      "text/plain": [
       "10"
      ]
     },
     "execution_count": 31,
     "metadata": {},
     "output_type": "execute_result"
    }
   ],
   "source": [
    "# Modulus operator: returns the remainder\n",
    "second_number % first_number"
   ]
  },
  {
   "cell_type": "code",
   "execution_count": 32,
   "id": "25f755db",
   "metadata": {},
   "outputs": [
    {
     "data": {
      "text/plain": [
       "256"
      ]
     },
     "execution_count": 32,
     "metadata": {},
     "output_type": "execute_result"
    }
   ],
   "source": [
    "# Results of an expression can be stored in a variable\n",
    "a, b = 2, 8\n",
    "\n",
    "result = a**b\n",
    "result"
   ]
  },
  {
   "cell_type": "markdown",
   "id": "067bd554",
   "metadata": {},
   "source": [
    "## Operator Precedence\n",
    "which operation to perform first?\n",
    "- **\n",
    "- /, * (left to right)\n",
    "- +, (left to right)\n",
    "\n",
    "Note: you can use `()` to change the precedence"
   ]
  },
  {
   "cell_type": "markdown",
   "id": "e443c5e8",
   "metadata": {},
   "source": [
    "## Comparison Operations\n",
    "Comparison operations compare two values.\n",
    "- Equal to (`==`)\n",
    "- Not equal to (`!=`)\n",
    "- Greater than (`>`)\n",
    "- Less than (`<`)\n",
    "- Greater than or equal to (`>=`)\n",
    "- Less than or equal to (`<=`)\n"
   ]
  },
  {
   "cell_type": "code",
   "execution_count": 36,
   "id": "bcc96554",
   "metadata": {},
   "outputs": [
    {
     "name": "stdout",
     "output_type": "stream",
     "text": [
      "False\n"
     ]
    }
   ],
   "source": [
    "val1 = 12\n",
    "val2 = 14\n",
    "\n",
    "is_greater = val1 == val2 # comparison expression will evaluate boolean value\n",
    "\n",
    "print(is_greater)"
   ]
  },
  {
   "cell_type": "code",
   "execution_count": 37,
   "id": "1c44336f",
   "metadata": {},
   "outputs": [
    {
     "data": {
      "text/plain": [
       "bool"
      ]
     },
     "execution_count": 37,
     "metadata": {},
     "output_type": "execute_result"
    }
   ],
   "source": [
    "type(is_greater)"
   ]
  },
  {
   "cell_type": "code",
   "execution_count": 38,
   "id": "21015814",
   "metadata": {},
   "outputs": [
    {
     "data": {
      "text/plain": [
       "int"
      ]
     },
     "execution_count": 38,
     "metadata": {},
     "output_type": "execute_result"
    }
   ],
   "source": [
    "# You can check the data type of a variable\n",
    "age = 25\n",
    "type(age)"
   ]
  },
  {
   "cell_type": "code",
   "execution_count": 39,
   "id": "af63e4aa",
   "metadata": {},
   "outputs": [
    {
     "data": {
      "text/plain": [
       "float"
      ]
     },
     "execution_count": 39,
     "metadata": {},
     "output_type": "execute_result"
    }
   ],
   "source": [
    "age = 25.4\n",
    "type(age)"
   ]
  },
  {
   "cell_type": "code",
   "execution_count": 40,
   "id": "72a47ece",
   "metadata": {},
   "outputs": [
    {
     "data": {
      "text/plain": [
       "str"
      ]
     },
     "execution_count": 40,
     "metadata": {},
     "output_type": "execute_result"
    }
   ],
   "source": [
    "age = \"Twenty Five\"\n",
    "type(age)"
   ]
  },
  {
   "cell_type": "code",
   "execution_count": null,
   "id": "ca3ebbb1",
   "metadata": {},
   "outputs": [],
   "source": [
    "type(is_greater)"
   ]
  },
  {
   "cell_type": "markdown",
   "id": "755b9d11",
   "metadata": {},
   "source": [
    "## Logical Operations\n",
    "Logical operations combine boolean values.\n",
    "- And (`and`)\n",
    "- Or (`or`)\n",
    "- Not (`not`)"
   ]
  },
  {
   "cell_type": "code",
   "execution_count": 46,
   "id": "87122401",
   "metadata": {},
   "outputs": [
    {
     "data": {
      "text/plain": [
       "False"
      ]
     },
     "execution_count": 46,
     "metadata": {},
     "output_type": "execute_result"
    }
   ],
   "source": [
    "False and False # True when both values are True"
   ]
  },
  {
   "cell_type": "code",
   "execution_count": 48,
   "id": "7f40511b",
   "metadata": {},
   "outputs": [
    {
     "data": {
      "text/plain": [
       "False"
      ]
     },
     "execution_count": 48,
     "metadata": {},
     "output_type": "execute_result"
    }
   ],
   "source": [
    "False or False # True when either value is true"
   ]
  },
  {
   "cell_type": "code",
   "execution_count": 49,
   "id": "764fc51d",
   "metadata": {},
   "outputs": [
    {
     "data": {
      "text/plain": [
       "True"
      ]
     },
     "execution_count": 49,
     "metadata": {},
     "output_type": "execute_result"
    }
   ],
   "source": [
    "# short circuit execution\n",
    "age = 18\n",
    "citizen = \"Pakistani\"\n",
    "\n",
    "is_adult = age >= 18\n",
    "is_pakistani = citizen == \"Pakistani\"\n",
    "\n",
    "is_adult and is_pakistani\n"
   ]
  },
  {
   "cell_type": "markdown",
   "id": "fa51c24a",
   "metadata": {},
   "source": [
    "# User Input\n",
    "- Python provides the `input()` function to take input from the user.\n",
    "- The input is always returned as a string.\n",
    "- The syntax of the input is:\n",
    "```python\n",
    "variable_name = input(\"Prompt message: \")\n"
   ]
  },
  {
   "cell_type": "code",
   "execution_count": 51,
   "id": "f764f384",
   "metadata": {},
   "outputs": [],
   "source": [
    "age = input(\"Enter you age:\")"
   ]
  },
  {
   "cell_type": "code",
   "execution_count": 52,
   "id": "a8292cdc",
   "metadata": {},
   "outputs": [
    {
     "data": {
      "text/plain": [
       "'25'"
      ]
     },
     "execution_count": 52,
     "metadata": {},
     "output_type": "execute_result"
    }
   ],
   "source": [
    "age"
   ]
  },
  {
   "cell_type": "code",
   "execution_count": 53,
   "id": "dc08e99e",
   "metadata": {},
   "outputs": [
    {
     "data": {
      "text/plain": [
       "str"
      ]
     },
     "execution_count": 53,
     "metadata": {},
     "output_type": "execute_result"
    }
   ],
   "source": [
    "type(age)"
   ]
  },
  {
   "cell_type": "code",
   "execution_count": 56,
   "id": "4b14e3cb",
   "metadata": {},
   "outputs": [
    {
     "data": {
      "text/plain": [
       "True"
      ]
     },
     "execution_count": 56,
     "metadata": {},
     "output_type": "execute_result"
    }
   ],
   "source": [
    "25 == 25"
   ]
  },
  {
   "cell_type": "code",
   "execution_count": 57,
   "id": "e047aea1",
   "metadata": {},
   "outputs": [
    {
     "data": {
      "text/plain": [
       "False"
      ]
     },
     "execution_count": 57,
     "metadata": {},
     "output_type": "execute_result"
    }
   ],
   "source": [
    "\"25\" == 25"
   ]
  },
  {
   "cell_type": "markdown",
   "id": "58ae29fc",
   "metadata": {},
   "source": [
    "## Type Casting\n",
    "Type casting is the process of converting a variable from one data type to another.\n",
    "`int()`\n",
    "`float()`\n",
    "`str()`\n",
    "`bool()`"
   ]
  },
  {
   "cell_type": "code",
   "execution_count": 62,
   "id": "c86595c3",
   "metadata": {},
   "outputs": [
    {
     "data": {
      "text/plain": [
       "int"
      ]
     },
     "execution_count": 62,
     "metadata": {},
     "output_type": "execute_result"
    }
   ],
   "source": [
    "age = int('25')\n",
    "type(age)"
   ]
  },
  {
   "cell_type": "code",
   "execution_count": 63,
   "id": "0feb3b9f",
   "metadata": {},
   "outputs": [
    {
     "name": "stdout",
     "output_type": "stream",
     "text": [
      "<class 'float'>\n",
      "25.0\n"
     ]
    }
   ],
   "source": [
    "age = float(age)\n",
    "print(type(age))\n",
    "print(age)"
   ]
  },
  {
   "cell_type": "code",
   "execution_count": 64,
   "id": "57c0b638",
   "metadata": {},
   "outputs": [
    {
     "data": {
      "text/plain": [
       "float"
      ]
     },
     "execution_count": 64,
     "metadata": {},
     "output_type": "execute_result"
    }
   ],
   "source": [
    "type(age)"
   ]
  },
  {
   "cell_type": "code",
   "execution_count": 65,
   "id": "d24797bd",
   "metadata": {},
   "outputs": [
    {
     "name": "stdout",
     "output_type": "stream",
     "text": [
      "<class 'int'>\n"
     ]
    }
   ],
   "source": [
    "number = 10\n",
    "print(type(number))"
   ]
  },
  {
   "cell_type": "code",
   "execution_count": 66,
   "id": "55f4a9b6",
   "metadata": {},
   "outputs": [
    {
     "data": {
      "text/plain": [
       "str"
      ]
     },
     "execution_count": 66,
     "metadata": {},
     "output_type": "execute_result"
    }
   ],
   "source": [
    "number_str = str(number)\n",
    "type(number_str)\n"
   ]
  },
  {
   "cell_type": "code",
   "execution_count": 68,
   "id": "1f6069b7",
   "metadata": {},
   "outputs": [
    {
     "ename": "ValueError",
     "evalue": "invalid literal for int() with base 10: '15d'",
     "output_type": "error",
     "traceback": [
      "\u001b[31m---------------------------------------------------------------------------\u001b[39m",
      "\u001b[31mValueError\u001b[39m                                Traceback (most recent call last)",
      "\u001b[36mCell\u001b[39m\u001b[36m \u001b[39m\u001b[32mIn[68]\u001b[39m\u001b[32m, line 2\u001b[39m\n\u001b[32m      1\u001b[39m age = \u001b[33m\"\u001b[39m\u001b[33m15d\u001b[39m\u001b[33m\"\u001b[39m\n\u001b[32m----> \u001b[39m\u001b[32m2\u001b[39m \u001b[38;5;28;43mint\u001b[39;49m\u001b[43m(\u001b[49m\u001b[43mage\u001b[49m\u001b[43m)\u001b[49m\n",
      "\u001b[31mValueError\u001b[39m: invalid literal for int() with base 10: '15d'"
     ]
    }
   ],
   "source": [
    "age = \"15d\"\n",
    "int(age)"
   ]
  },
  {
   "cell_type": "markdown",
   "id": "b6edd5ea",
   "metadata": {},
   "source": [
    "## Exercises\n",
    "1. Write a Python program to take two numbers as input from the user and print their sum, difference, product, and quotient.\n",
    "2. Create a program for converting temperature from Celsius to Fahrenheit. The formula to convert Celsius to Fahrenheit is: F = (C * 9/5) + 32.\n",
    "3. Convert a given number of minutes into hours and minutes. For example, 130 minutes should be converted to 2 hours and 10 minutes.\n",
    "4. Find Area of a rectangle given its width and height."
   ]
  },
  {
   "cell_type": "markdown",
   "id": "47ef4f9f",
   "metadata": {},
   "source": [
    "## Solutions"
   ]
  },
  {
   "cell_type": "code",
   "execution_count": null,
   "id": "5290347d",
   "metadata": {},
   "outputs": [],
   "source": [
    "# Write a Python program to take two numbers as input from the user\n",
    "# and print their sum, difference, product, and quotient.\n",
    "\n",
    "first_number = input(\"Enter first number: \")\n",
    "second_number = input(\"Enter second number: \")\n",
    "\n",
    "print(first_number)\n",
    "print(second_number)"
   ]
  },
  {
   "cell_type": "code",
   "execution_count": null,
   "id": "2e80b1a7",
   "metadata": {},
   "outputs": [],
   "source": [
    "print(type(first_number))\n",
    "print(type(second_number))"
   ]
  },
  {
   "cell_type": "code",
   "execution_count": null,
   "id": "921b1f0d",
   "metadata": {},
   "outputs": [],
   "source": [
    "first_number = float(first_number)\n",
    "second_number = float(second_number)"
   ]
  },
  {
   "cell_type": "code",
   "execution_count": null,
   "id": "1448d659",
   "metadata": {},
   "outputs": [],
   "source": [
    "summ = first_number + second_number\n",
    "difference = first_number - second_number\n",
    "product = first_number * second_number\n",
    "quotient = first_number / second_number\n",
    "\n",
    "print(summ)\n",
    "print(difference)\n",
    "print(product)\n",
    "print(quotient)"
   ]
  },
  {
   "cell_type": "code",
   "execution_count": null,
   "id": "b3c1df50",
   "metadata": {},
   "outputs": [],
   "source": [
    "# Convert a given number of minutes into hours and minutes.\n",
    "# For example, 130 minutes should be converted to 2 hours and 10 minutes.\n",
    "minutes = 130\n",
    "\n",
    "hours = minutes // 60\n",
    "hours"
   ]
  },
  {
   "cell_type": "code",
   "execution_count": null,
   "id": "4dccd4ca",
   "metadata": {},
   "outputs": [],
   "source": [
    "remaining_minutes = minutes % 60\n",
    "remaining_minutes"
   ]
  },
  {
   "cell_type": "code",
   "execution_count": null,
   "id": "03e2fe58",
   "metadata": {},
   "outputs": [],
   "source": [
    "print(\"Hours: \" + str(hours))\n",
    "print(\"Minutes: \" + str(remaining_minutes))"
   ]
  }
 ],
 "metadata": {
  "kernelspec": {
   "display_name": "Python 3",
   "language": "python",
   "name": "python3"
  },
  "language_info": {
   "codemirror_mode": {
    "name": "ipython",
    "version": 3
   },
   "file_extension": ".py",
   "mimetype": "text/x-python",
   "name": "python",
   "nbconvert_exporter": "python",
   "pygments_lexer": "ipython3",
   "version": "3.13.7"
  }
 },
 "nbformat": 4,
 "nbformat_minor": 5
}
