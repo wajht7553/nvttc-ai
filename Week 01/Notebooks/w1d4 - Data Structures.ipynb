{
 "cells": [
  {
   "cell_type": "markdown",
   "id": "3a49a162",
   "metadata": {},
   "source": [
    "# Summer of Code - Artificial Intelligence\n",
    "## Week 01\n",
    "### Day 04: Data Structures\n",
    "\n",
    "In this lecture, we'll explore the fundamental **data structures** in Python:\n",
    "- Lists\n",
    "- Tuples\n",
    "- Sets\n",
    "- Dictionaries"
   ]
  },
  {
   "cell_type": "markdown",
   "id": "a875786a",
   "metadata": {},
   "source": [
    "# What is a Data Structure?\n",
    "A data structure is a way of organizing and storing data so that it can be accessed and modified efficiently. Data structures are essential for managing large amounts of data and for implementing algorithms."
   ]
  },
  {
   "cell_type": "markdown",
   "id": "27fe82b0",
   "metadata": {},
   "source": [
    "# Data Structures in Python"
   ]
  },
  {
   "cell_type": "markdown",
   "id": "b473eb64",
   "metadata": {},
   "source": [
    "## Strings\n",
    "- Strings are sequences of characters enclosed in single or double quotes.\n",
    "- Strings are immutable, meaning they cannot be changed after they are created.\n",
    "\n",
    "### Operations on Strings\n",
    "- Concatenation: Joining two or more strings together using the `+` operator.\n",
    "- Repetition: Repeating a string multiple times using the `*` operator."
   ]
  },
  {
   "cell_type": "code",
   "execution_count": 2,
   "id": "872de5fd",
   "metadata": {},
   "outputs": [
    {
     "data": {
      "text/plain": [
       "'Programming is fun'"
      ]
     },
     "execution_count": 2,
     "metadata": {},
     "output_type": "execute_result"
    }
   ],
   "source": [
    "text = \"Programming is fun\"\n",
    "text"
   ]
  },
  {
   "cell_type": "code",
   "execution_count": 4,
   "id": "8d3ce45d",
   "metadata": {},
   "outputs": [
    {
     "data": {
      "text/plain": [
       "18"
      ]
     },
     "execution_count": 4,
     "metadata": {},
     "output_type": "execute_result"
    }
   ],
   "source": [
    "len(text)"
   ]
  },
  {
   "cell_type": "code",
   "execution_count": 8,
   "id": "49e8e6cd",
   "metadata": {},
   "outputs": [
    {
     "data": {
      "text/plain": [
       "'a'"
      ]
     },
     "execution_count": 8,
     "metadata": {},
     "output_type": "execute_result"
    }
   ],
   "source": [
    "# index notation\n",
    "text[5]"
   ]
  },
  {
   "cell_type": "code",
   "execution_count": 9,
   "id": "080d5b3c",
   "metadata": {},
   "outputs": [
    {
     "data": {
      "text/plain": [
       "'WajahatUllah'"
      ]
     },
     "execution_count": 9,
     "metadata": {},
     "output_type": "execute_result"
    }
   ],
   "source": [
    "first_name = \"Wajahat\"\n",
    "last_name = \"Ullah\"\n",
    "\n",
    "first_name + last_name"
   ]
  },
  {
   "cell_type": "code",
   "execution_count": 10,
   "id": "ab49202a",
   "metadata": {},
   "outputs": [
    {
     "data": {
      "text/plain": [
       "'Wajahat Ullah'"
      ]
     },
     "execution_count": 10,
     "metadata": {},
     "output_type": "execute_result"
    }
   ],
   "source": [
    "\n",
    "\n",
    "first_name + \" \" + last_name"
   ]
  },
  {
   "cell_type": "code",
   "execution_count": 11,
   "id": "4e30a147",
   "metadata": {},
   "outputs": [
    {
     "data": {
      "text/plain": [
       "'abcabcabcabcabc'"
      ]
     },
     "execution_count": 11,
     "metadata": {},
     "output_type": "execute_result"
    }
   ],
   "source": [
    "# Repition\n",
    "'abc' * 5\n"
   ]
  },
  {
   "cell_type": "markdown",
   "id": "c5a93a16",
   "metadata": {},
   "source": [
    "### Introducing the `.` Operator\n",
    "The `.` operator is used to access methods and attributes of objects in Python."
   ]
  },
  {
   "cell_type": "code",
   "execution_count": 14,
   "id": "b14a8256",
   "metadata": {},
   "outputs": [
    {
     "name": "stdout",
     "output_type": "stream",
     "text": [
      "21\n",
      "12\n"
     ]
    },
    {
     "data": {
      "text/plain": [
       "'this is text'"
      ]
     },
     "execution_count": 14,
     "metadata": {},
     "output_type": "execute_result"
    }
   ],
   "source": [
    "text_raw = \"    this is text     \"\n",
    "print(len(text_raw))\n",
    "\n",
    "text_cleaned = text_raw.strip()\n",
    "print(len(text_cleaned))\n",
    "text_cleaned"
   ]
  },
  {
   "cell_type": "code",
   "execution_count": 15,
   "id": "83e7c354",
   "metadata": {},
   "outputs": [
    {
     "data": {
      "text/plain": [
       "'this is document'"
      ]
     },
     "execution_count": 15,
     "metadata": {},
     "output_type": "execute_result"
    }
   ],
   "source": [
    "updated_text = text_cleaned.replace('text', 'document')\n",
    "updated_text"
   ]
  },
  {
   "cell_type": "code",
   "execution_count": 16,
   "id": "211f2455",
   "metadata": {},
   "outputs": [
    {
     "name": "stdout",
     "output_type": "stream",
     "text": [
      "Welcome, Wajahat Ullah\n"
     ]
    }
   ],
   "source": [
    "name = \"Wajahat Ullah\"\n",
    "print(\"Welcome,\" + \" \" + name)"
   ]
  },
  {
   "cell_type": "markdown",
   "id": "af5a8956",
   "metadata": {},
   "source": [
    "## Formatted Strings\n",
    "also called f-strings"
   ]
  },
  {
   "cell_type": "code",
   "execution_count": 19,
   "id": "11dca56a",
   "metadata": {},
   "outputs": [
    {
     "name": "stdout",
     "output_type": "stream",
     "text": [
      "My name is Waqas. I am 25 years old.\n"
     ]
    }
   ],
   "source": [
    "name = \"Waqas\"\n",
    "age = 25\n",
    "\n",
    "# message = \"My name is \" + name + \". I am \" + str(age) + \" years old.\"\n",
    "\n",
    "message = f\"My name is {name}. I am {age} years old.\"\n",
    "\n",
    "print(message)\n"
   ]
  },
  {
   "cell_type": "markdown",
   "id": "1be53905",
   "metadata": {},
   "source": [
    "## Lists\n",
    "- Lists are ordered, mutable collections of items.\n",
    "- They can store elements of different types and allow duplicate values.\n",
    "\n",
    "\n",
    "### When to use Lists\n",
    "- When you need an ordered collection of items.\n",
    "- When you need to modify the collection (add, remove, or change items)."
   ]
  },
  {
   "cell_type": "code",
   "execution_count": null,
   "id": "05fdfded",
   "metadata": {},
   "outputs": [
    {
     "ename": "TypeError",
     "evalue": "'str' object does not support item assignment",
     "output_type": "error",
     "traceback": [
      "\u001b[31m---------------------------------------------------------------------------\u001b[39m",
      "\u001b[31mTypeError\u001b[39m                                 Traceback (most recent call last)",
      "\u001b[36mCell\u001b[39m\u001b[36m \u001b[39m\u001b[32mIn[24]\u001b[39m\u001b[32m, line 2\u001b[39m\n\u001b[32m      1\u001b[39m text = \u001b[33m\"\u001b[39m\u001b[33mqakistan\u001b[39m\u001b[33m\"\u001b[39m\n\u001b[32m----> \u001b[39m\u001b[32m2\u001b[39m \u001b[43mtext\u001b[49m\u001b[43m[\u001b[49m\u001b[32;43m0\u001b[39;49m\u001b[43m]\u001b[49m = \u001b[33m'\u001b[39m\u001b[33mp\u001b[39m\u001b[33m'\u001b[39m\n",
      "\u001b[31mTypeError\u001b[39m: 'str' object does not support item assignment"
     ]
    }
   ],
   "source": [
    "# text = \"qakistan\"\n",
    "# text[0] = 'p'"
   ]
  },
  {
   "cell_type": "code",
   "execution_count": 20,
   "id": "eb831d6d",
   "metadata": {},
   "outputs": [
    {
     "data": {
      "text/plain": [
       "['sunday', 'monday', 'tuesday']"
      ]
     },
     "execution_count": 20,
     "metadata": {},
     "output_type": "execute_result"
    }
   ],
   "source": [
    "days = ['sunday', 'monday', 'tuesday']\n",
    "days"
   ]
  },
  {
   "cell_type": "code",
   "execution_count": 21,
   "id": "1be3b26f",
   "metadata": {},
   "outputs": [
    {
     "data": {
      "text/plain": [
       "list"
      ]
     },
     "execution_count": 21,
     "metadata": {},
     "output_type": "execute_result"
    }
   ],
   "source": [
    "type(days)"
   ]
  },
  {
   "cell_type": "code",
   "execution_count": 22,
   "id": "fa354442",
   "metadata": {},
   "outputs": [
    {
     "data": {
      "text/plain": [
       "3"
      ]
     },
     "execution_count": 22,
     "metadata": {},
     "output_type": "execute_result"
    }
   ],
   "source": [
    "len(days)"
   ]
  },
  {
   "cell_type": "code",
   "execution_count": 25,
   "id": "340b63ae",
   "metadata": {},
   "outputs": [
    {
     "data": {
      "text/plain": [
       "'sunday'"
      ]
     },
     "execution_count": 25,
     "metadata": {},
     "output_type": "execute_result"
    }
   ],
   "source": [
    "days[0]"
   ]
  },
  {
   "cell_type": "code",
   "execution_count": 26,
   "id": "cdaeaf19",
   "metadata": {},
   "outputs": [
    {
     "data": {
      "text/plain": [
       "['Saturday', 'monday', 'tuesday']"
      ]
     },
     "execution_count": 26,
     "metadata": {},
     "output_type": "execute_result"
    }
   ],
   "source": [
    "days[0] = 'Saturday'\n",
    "days"
   ]
  },
  {
   "cell_type": "code",
   "execution_count": 27,
   "id": "06208a64",
   "metadata": {},
   "outputs": [
    {
     "data": {
      "text/plain": [
       "'tuesday'"
      ]
     },
     "execution_count": 27,
     "metadata": {},
     "output_type": "execute_result"
    }
   ],
   "source": [
    "days[-1]"
   ]
  },
  {
   "cell_type": "markdown",
   "id": "7f7c35af",
   "metadata": {},
   "source": [
    "### Slicing\n",
    "```\n",
    "[start_index:stop_index]\n",
    "```\n",
    "access items in the list (list_name), starting from (start_index) to stop_index (but item at the stop_index is not included)\n",
    "\n",
    "```\n",
    "[start:stop:step]\n",
    "```"
   ]
  },
  {
   "cell_type": "code",
   "execution_count": 46,
   "id": "00f3e545",
   "metadata": {},
   "outputs": [
    {
     "data": {
      "text/plain": [
       "['sunday', 'tuesday', 'Thursday']"
      ]
     },
     "execution_count": 46,
     "metadata": {},
     "output_type": "execute_result"
    }
   ],
   "source": [
    "days = [\"sunday\", \"monday\", \"tuesday\", \"Wednesday\", \"Thursday\", \"Friday\"]\n",
    "days[0:6:2]"
   ]
  },
  {
   "cell_type": "code",
   "execution_count": 47,
   "id": "82e36f70",
   "metadata": {},
   "outputs": [
    {
     "data": {
      "text/plain": [
       "['sunday', 'monday']"
      ]
     },
     "execution_count": 47,
     "metadata": {},
     "output_type": "execute_result"
    }
   ],
   "source": [
    "days[:2]"
   ]
  },
  {
   "cell_type": "code",
   "execution_count": 48,
   "id": "31a43edc",
   "metadata": {},
   "outputs": [
    {
     "data": {
      "text/plain": [
       "['sunday', 'monday', 'tuesday', 'Wednesday', 'Thursday', 'Friday']"
      ]
     },
     "execution_count": 48,
     "metadata": {},
     "output_type": "execute_result"
    }
   ],
   "source": [
    "days"
   ]
  },
  {
   "cell_type": "code",
   "execution_count": 49,
   "id": "d2bbb8f6",
   "metadata": {},
   "outputs": [
    {
     "data": {
      "text/plain": [
       "['sunday', 'monday', 'tuesday', 'Wednesday', 'Thursday', 'Friday', 'saturday']"
      ]
     },
     "execution_count": 49,
     "metadata": {},
     "output_type": "execute_result"
    }
   ],
   "source": [
    "days.append(\"saturday\")\n",
    "days"
   ]
  },
  {
   "cell_type": "code",
   "execution_count": 50,
   "id": "84c5c5e9",
   "metadata": {},
   "outputs": [
    {
     "data": {
      "text/plain": [
       "['sunday', 'monday', 'tuesday', 'Wednesday', 'Thursday', 'Friday', 'saturday']"
      ]
     },
     "execution_count": 50,
     "metadata": {},
     "output_type": "execute_result"
    }
   ],
   "source": [
    "days"
   ]
  },
  {
   "cell_type": "code",
   "execution_count": 51,
   "id": "6e88aa1d",
   "metadata": {},
   "outputs": [
    {
     "data": {
      "text/plain": [
       "['sunday', 'monday', 'tuesday', 'Wednesday', 'Thursday', 'Friday']"
      ]
     },
     "execution_count": 51,
     "metadata": {},
     "output_type": "execute_result"
    }
   ],
   "source": [
    "# remove item from the end\n",
    "days.pop()\n",
    "days"
   ]
  },
  {
   "cell_type": "code",
   "execution_count": 52,
   "id": "5b298978",
   "metadata": {},
   "outputs": [
    {
     "data": {
      "text/plain": [
       "['monday', 'tuesday', 'Wednesday', 'Thursday', 'Friday']"
      ]
     },
     "execution_count": 52,
     "metadata": {},
     "output_type": "execute_result"
    }
   ],
   "source": [
    "days.pop(0)\n",
    "days"
   ]
  },
  {
   "cell_type": "code",
   "execution_count": 53,
   "id": "5a77a38f",
   "metadata": {},
   "outputs": [
    {
     "data": {
      "text/plain": [
       "['monday', 'tuesday', 'Wednesday', 'sunday', 'Thursday', 'Friday']"
      ]
     },
     "execution_count": 53,
     "metadata": {},
     "output_type": "execute_result"
    }
   ],
   "source": [
    "days.insert(-2, \"sunday\")\n",
    "days"
   ]
  },
  {
   "cell_type": "code",
   "execution_count": 54,
   "id": "771d7373",
   "metadata": {},
   "outputs": [
    {
     "data": {
      "text/plain": [
       "['sunday', 'monday', 'tuesday', 'Wednesday', 'sunday', 'Thursday', 'Friday']"
      ]
     },
     "execution_count": 54,
     "metadata": {},
     "output_type": "execute_result"
    }
   ],
   "source": [
    "days.insert(0, \"sunday\")\n",
    "days"
   ]
  },
  {
   "cell_type": "code",
   "execution_count": 55,
   "id": "2723c377",
   "metadata": {},
   "outputs": [
    {
     "data": {
      "text/plain": [
       "['sunday', 'tuesday', 'Wednesday', 'sunday', 'Thursday', 'Friday']"
      ]
     },
     "execution_count": 55,
     "metadata": {},
     "output_type": "execute_result"
    }
   ],
   "source": [
    "days.remove('monday')\n",
    "days"
   ]
  },
  {
   "cell_type": "code",
   "execution_count": 56,
   "id": "20c2d6d4",
   "metadata": {},
   "outputs": [
    {
     "data": {
      "text/plain": [
       "['sunday', 'tuesday', 'Wednesday', 'sunday', 'Thursday', 'Friday', 'sunday']"
      ]
     },
     "execution_count": 56,
     "metadata": {},
     "output_type": "execute_result"
    }
   ],
   "source": [
    "days.append('sunday')\n",
    "days"
   ]
  },
  {
   "cell_type": "code",
   "execution_count": 57,
   "id": "02deb130",
   "metadata": {},
   "outputs": [
    {
     "data": {
      "text/plain": [
       "['tuesday', 'Wednesday', 'sunday', 'Thursday', 'Friday', 'sunday']"
      ]
     },
     "execution_count": 57,
     "metadata": {},
     "output_type": "execute_result"
    }
   ],
   "source": [
    "days.remove('sunday')\n",
    "days"
   ]
  },
  {
   "cell_type": "code",
   "execution_count": 60,
   "id": "ed8ab983",
   "metadata": {},
   "outputs": [],
   "source": [
    "numbers = [12, 90, 45, 67, 1, 50]\n",
    "\n",
    "numbers.sort()"
   ]
  },
  {
   "cell_type": "code",
   "execution_count": 61,
   "id": "127269ec",
   "metadata": {},
   "outputs": [
    {
     "data": {
      "text/plain": [
       "[1, 12, 45, 50, 67, 90]"
      ]
     },
     "execution_count": 61,
     "metadata": {},
     "output_type": "execute_result"
    }
   ],
   "source": [
    "numbers"
   ]
  },
  {
   "cell_type": "code",
   "execution_count": 62,
   "id": "f6b634c6",
   "metadata": {},
   "outputs": [
    {
     "data": {
      "text/plain": [
       "[1, 12, 45, 50, 67, 90]"
      ]
     },
     "execution_count": 62,
     "metadata": {},
     "output_type": "execute_result"
    }
   ],
   "source": [
    "numbers = [12, 90, 45, 67, 1, 50]\n",
    "\n",
    "numbers_sorted = sorted(numbers)\n",
    "numbers_sorted"
   ]
  },
  {
   "cell_type": "code",
   "execution_count": 63,
   "id": "c6d54e88",
   "metadata": {},
   "outputs": [
    {
     "data": {
      "text/plain": [
       "[12, 90, 45, 67, 1, 50]"
      ]
     },
     "execution_count": 63,
     "metadata": {},
     "output_type": "execute_result"
    }
   ],
   "source": [
    "numbers"
   ]
  },
  {
   "cell_type": "markdown",
   "id": "164b32eb",
   "metadata": {},
   "source": [
    "## Tuples\n",
    "- Tuples are ordered, immutable collections.\n",
    "- Once created, their elements cannot be changed.\n",
    "\n",
    "### When to Use Tuples\n",
    "- Use tuples when you want to ensure that the data remains constant.\n",
    "- They are often used for fixed collections of items, such as coordinates or RGB values."
   ]
  },
  {
   "cell_type": "code",
   "execution_count": null,
   "id": "957bf8ec",
   "metadata": {},
   "outputs": [],
   "source": [
    "color = (127, 10, 127)\n",
    "color = (123, 10, 123)\n",
    "\n",
    "\n",
    "12 in color"
   ]
  },
  {
   "cell_type": "markdown",
   "id": "30918880",
   "metadata": {},
   "source": [
    "## Sets\n",
    "- Sets are unordered collections of unique elements.\n",
    "- They are mutable but do not allow duplicates.\n",
    "- Useful for membership tests and removing duplicates.\n",
    "\n",
    "### When to Use Sets?\n",
    "- When you need to store unique items.\n",
    "- When you need to perform mathematical set operations like union, intersection, and difference.\n"
   ]
  },
  {
   "cell_type": "code",
   "execution_count": null,
   "id": "0a894190",
   "metadata": {},
   "outputs": [],
   "source": [
    "natural_numbers = {1, 2, 3, 3, 4}\n",
    "type(natural_numbers)"
   ]
  },
  {
   "cell_type": "code",
   "execution_count": null,
   "id": "8be42984",
   "metadata": {},
   "outputs": [],
   "source": [
    "natural_numbers"
   ]
  },
  {
   "cell_type": "code",
   "execution_count": null,
   "id": "d9303e53",
   "metadata": {},
   "outputs": [],
   "source": [
    "numbers = [1, 2, 3, 4, 5, 5, 4, 3, 2, 1]\n",
    "uniques_numbers = set(numbers)\n",
    "uniques_numbers"
   ]
  },
  {
   "cell_type": "code",
   "execution_count": null,
   "id": "77bc86af",
   "metadata": {},
   "outputs": [],
   "source": [
    "len(uniques_numbers)"
   ]
  },
  {
   "cell_type": "code",
   "execution_count": null,
   "id": "c65e0e53",
   "metadata": {},
   "outputs": [],
   "source": [
    "5 not in uniques_numbers"
   ]
  },
  {
   "cell_type": "code",
   "execution_count": null,
   "id": "ba7543f2",
   "metadata": {},
   "outputs": [],
   "source": [
    "a = {1, 2, 3}\n",
    "b = {3, 4, 5}\n",
    "\n",
    "a | b"
   ]
  },
  {
   "cell_type": "markdown",
   "id": "7087a40a",
   "metadata": {},
   "source": [
    "## Dictionary\n",
    "```python\n",
    "dictionary_variable = {\n",
    "  key : value,\n",
    "  key2 : value\n",
    "}\n",
    "```"
   ]
  },
  {
   "cell_type": "code",
   "execution_count": null,
   "id": "462fefb5",
   "metadata": {},
   "outputs": [],
   "source": [
    "person = {\n",
    "  'name' : \"Wajahat\",\n",
    "  'age' : 24,\n",
    "  'Height': 5,\n",
    "  'is_muslim': False,\n",
    "  'marks': [20, 30, 20, 40]\n",
    "}\n",
    "\n",
    "type(person)"
   ]
  },
  {
   "cell_type": "code",
   "execution_count": null,
   "id": "fe27a885",
   "metadata": {},
   "outputs": [],
   "source": [
    "person"
   ]
  },
  {
   "cell_type": "code",
   "execution_count": null,
   "id": "93f6bf9f",
   "metadata": {},
   "outputs": [],
   "source": [
    "# Access elements\n",
    "person['age']"
   ]
  },
  {
   "cell_type": "code",
   "execution_count": null,
   "id": "5f11a6d1",
   "metadata": {},
   "outputs": [],
   "source": [
    "# get keys of the dictionary\n",
    "person.keys()"
   ]
  },
  {
   "cell_type": "code",
   "execution_count": null,
   "id": "4bd0642b",
   "metadata": {},
   "outputs": [],
   "source": [
    "# get values in the dictionary\n",
    "person.values()"
   ]
  },
  {
   "cell_type": "code",
   "execution_count": null,
   "id": "0135a9a5",
   "metadata": {},
   "outputs": [],
   "source": [
    "# get (key, value) as tuple\n",
    "person.items()"
   ]
  },
  {
   "cell_type": "code",
   "execution_count": null,
   "id": "e2d10298",
   "metadata": {},
   "outputs": [],
   "source": [
    "name = person.pop('name')\n",
    "name"
   ]
  },
  {
   "cell_type": "code",
   "execution_count": null,
   "id": "86d26995",
   "metadata": {},
   "outputs": [],
   "source": [
    "person"
   ]
  },
  {
   "cell_type": "markdown",
   "id": "46283d5a",
   "metadata": {},
   "source": [
    "## Practice Exercises\n",
    "\n",
    "- Concatenate two strings and print the result.\n",
    "- Replace all occurrences of a specific word in a string with another word using the `replace()` method.\n",
    "- Create a list of numbers from 1 to 10. Use slicing to create a new list that contains only the odd numbers.\n",
    "- Given a tuple of names, use tuple indexing to print the first name in uppercase.\n",
    "- Create a set from a list with duplicate values and print the set.\n",
    "- Write a dictionary to store the marks of three subjects and calculate the average by directly accessing the values.\n",
    "- Given two sets, use set methods to find their union and intersection."
   ]
  }
 ],
 "metadata": {
  "kernelspec": {
   "display_name": "Python 3",
   "language": "python",
   "name": "python3"
  },
  "language_info": {
   "codemirror_mode": {
    "name": "ipython",
    "version": 3
   },
   "file_extension": ".py",
   "mimetype": "text/x-python",
   "name": "python",
   "nbconvert_exporter": "python",
   "pygments_lexer": "ipython3",
   "version": "3.13.7"
  }
 },
 "nbformat": 4,
 "nbformat_minor": 5
}
