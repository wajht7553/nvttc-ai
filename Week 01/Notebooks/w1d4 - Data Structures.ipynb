{
 "cells": [
  {
   "cell_type": "markdown",
   "id": "3a49a162",
   "metadata": {},
   "source": [
    "# Summer of Code - Artificial Intelligence\n",
    "## Week 01<br>Day 04: Data Structures\n",
    "![](Figures/w1d4.png)\n",
    "\n",
    "In this lecture, we'll explore the fundamental data structures in Python:\n",
    "- Lists\n",
    "- Tuples\n",
    "- Sets\n",
    "- Dictionaries"
   ]
  },
  {
   "cell_type": "markdown",
   "id": "a875786a",
   "metadata": {},
   "source": [
    "## What is a Data Structure?\n",
    "A data structure is a way of organizing and storing data so that it can be accessed and modified efficiently. Data structures are essential for managing large amounts of data and for implementing algorithms."
   ]
  },
  {
   "cell_type": "markdown",
   "id": "b473eb64",
   "metadata": {},
   "source": [
    "## Strings\n",
    "- Strings are sequences of characters enclosed in single or double quotes.\n",
    "- Strings are immutable, meaning they cannot be changed after they are created.\n",
    "\n",
    "### Operations on Strings\n",
    "- Concatenation: Joining two or more strings together using the `+` operator.\n",
    "- Repetition: Repeating a string multiple times using the `*` operator."
   ]
  },
  {
   "cell_type": "code",
   "execution_count": 8,
   "id": "872de5fd",
   "metadata": {},
   "outputs": [
    {
     "data": {
      "text/plain": [
       "'Programming is fun'"
      ]
     },
     "execution_count": 8,
     "metadata": {},
     "output_type": "execute_result"
    }
   ],
   "source": [
    "text = \"Programming is fun\"\n",
    "text"
   ]
  },
  {
   "cell_type": "code",
   "execution_count": 9,
   "id": "8d3ce45d",
   "metadata": {},
   "outputs": [
    {
     "data": {
      "text/plain": [
       "18"
      ]
     },
     "execution_count": 9,
     "metadata": {},
     "output_type": "execute_result"
    }
   ],
   "source": [
    "len(text)"
   ]
  },
  {
   "cell_type": "code",
   "execution_count": 11,
   "id": "49e8e6cd",
   "metadata": {},
   "outputs": [
    {
     "data": {
      "text/plain": [
       "'a'"
      ]
     },
     "execution_count": 11,
     "metadata": {},
     "output_type": "execute_result"
    }
   ],
   "source": [
    "text[5]"
   ]
  },
  {
   "cell_type": "code",
   "execution_count": 15,
   "id": "080d5b3c",
   "metadata": {},
   "outputs": [
    {
     "data": {
      "text/plain": [
       "'Wajahat Ullah'"
      ]
     },
     "execution_count": 15,
     "metadata": {},
     "output_type": "execute_result"
    }
   ],
   "source": [
    "first_name = \"Wajahat\"\n",
    "last_name = \"Ullah\"\n",
    "\n",
    "first_name + \" \" + last_name"
   ]
  },
  {
   "cell_type": "code",
   "execution_count": 19,
   "id": "4e30a147",
   "metadata": {},
   "outputs": [
    {
     "data": {
      "text/plain": [
       "'abcabcabcabcabc'"
      ]
     },
     "execution_count": 19,
     "metadata": {},
     "output_type": "execute_result"
    }
   ],
   "source": [
    "# Repition\n",
    "'abc' * 5\n"
   ]
  },
  {
   "cell_type": "markdown",
   "id": "c5a93a16",
   "metadata": {},
   "source": [
    "### Introducing the `.` Operator\n",
    "The `.` operator is used to access methods and attributes of objects in Python."
   ]
  },
  {
   "cell_type": "code",
   "execution_count": 23,
   "id": "b14a8256",
   "metadata": {},
   "outputs": [
    {
     "data": {
      "text/plain": [
       "'this is text'"
      ]
     },
     "execution_count": 23,
     "metadata": {},
     "output_type": "execute_result"
    }
   ],
   "source": [
    "text_raw = \"    this is text     \"\n",
    "\n",
    "text_cleaned = text_raw.strip()\n",
    "text_cleaned"
   ]
  },
  {
   "cell_type": "code",
   "execution_count": 43,
   "id": "83e7c354",
   "metadata": {},
   "outputs": [
    {
     "data": {
      "text/plain": [
       "'this is document'"
      ]
     },
     "execution_count": 43,
     "metadata": {},
     "output_type": "execute_result"
    }
   ],
   "source": [
    "updated_text = text_cleaned.replace('text', 'document')\n",
    "updated_text"
   ]
  },
  {
   "cell_type": "code",
   "execution_count": 50,
   "id": "211f2455",
   "metadata": {},
   "outputs": [
    {
     "name": "stdout",
     "output_type": "stream",
     "text": [
      "Welcome, Wajahat Ullah\n"
     ]
    }
   ],
   "source": [
    "name = \"Wajahat Ullah\"\n",
    "print(\"Welcome,\" + \" \" + name)"
   ]
  },
  {
   "cell_type": "markdown",
   "id": "af5a8956",
   "metadata": {},
   "source": [
    "## Formatted Strings\n",
    "also called f-strings"
   ]
  },
  {
   "cell_type": "code",
   "execution_count": 25,
   "id": "11dca56a",
   "metadata": {},
   "outputs": [
    {
     "name": "stdout",
     "output_type": "stream",
     "text": [
      "My name is Waqas. I am 25 years old.\n"
     ]
    }
   ],
   "source": [
    "\n",
    "\n",
    "\n",
    "name = \"Waqas\"\n",
    "age = 25\n",
    "\n",
    "\n",
    "\n",
    "message = f\"My name is {name}. I am {age} years old.\"\n",
    "\n",
    "print(message)\n"
   ]
  },
  {
   "cell_type": "markdown",
   "id": "1be53905",
   "metadata": {},
   "source": [
    "## Lists\n",
    "- Lists are ordered, mutable collections of items.\n",
    "- They can store elements of different types and allow duplicate values.\n",
    "\n",
    "\n",
    "### When to use Lists\n",
    "- When you need an ordered collection of items.\n",
    "- When you need to modify the collection (add, remove, or change items)."
   ]
  },
  {
   "cell_type": "code",
   "execution_count": 1,
   "id": "eb831d6d",
   "metadata": {},
   "outputs": [
    {
     "data": {
      "text/plain": [
       "['sunday', 'monday', 'tuesday']"
      ]
     },
     "execution_count": 1,
     "metadata": {},
     "output_type": "execute_result"
    }
   ],
   "source": [
    "days = ['sunday', 'monday', 'tuesday']\n",
    "days"
   ]
  },
  {
   "cell_type": "code",
   "execution_count": 2,
   "id": "1be3b26f",
   "metadata": {},
   "outputs": [
    {
     "data": {
      "text/plain": [
       "list"
      ]
     },
     "execution_count": 2,
     "metadata": {},
     "output_type": "execute_result"
    }
   ],
   "source": [
    "type(days)"
   ]
  },
  {
   "cell_type": "code",
   "execution_count": 3,
   "id": "fa354442",
   "metadata": {},
   "outputs": [
    {
     "data": {
      "text/plain": [
       "3"
      ]
     },
     "execution_count": 3,
     "metadata": {},
     "output_type": "execute_result"
    }
   ],
   "source": [
    "len(days)"
   ]
  },
  {
   "cell_type": "code",
   "execution_count": 4,
   "id": "340b63ae",
   "metadata": {},
   "outputs": [
    {
     "data": {
      "text/plain": [
       "'sunday'"
      ]
     },
     "execution_count": 4,
     "metadata": {},
     "output_type": "execute_result"
    }
   ],
   "source": [
    "days[0]"
   ]
  },
  {
   "cell_type": "code",
   "execution_count": 5,
   "id": "06208a64",
   "metadata": {},
   "outputs": [
    {
     "data": {
      "text/plain": [
       "'tuesday'"
      ]
     },
     "execution_count": 5,
     "metadata": {},
     "output_type": "execute_result"
    }
   ],
   "source": [
    "days[-1]"
   ]
  },
  {
   "cell_type": "markdown",
   "id": "7f7c35af",
   "metadata": {},
   "source": [
    "### Slicing\n",
    "```\n",
    "[start_index:stop_index]\n",
    "```\n",
    "access items in the list (list_name), starting from (start_index) to stop_index (but item at the stop_index is not included)\n",
    "\n",
    "```\n",
    "[start:stop:step]\n",
    "```"
   ]
  },
  {
   "cell_type": "code",
   "execution_count": 41,
   "id": "00f3e545",
   "metadata": {},
   "outputs": [
    {
     "data": {
      "text/plain": [
       "['Friday', 'Thursday', 'Wednesday', 'tuesday', 'monday', 'sunday']"
      ]
     },
     "execution_count": 41,
     "metadata": {},
     "output_type": "execute_result"
    }
   ],
   "source": [
    "days = [\"sunday\", \"monday\", \"tuesday\", \"Wednesday\", \"Thursday\", \"Friday\"]\n",
    "days[::-1]"
   ]
  },
  {
   "cell_type": "code",
   "execution_count": null,
   "id": "d2bbb8f6",
   "metadata": {},
   "outputs": [],
   "source": [
    "days.append(\"Wednesday\")"
   ]
  },
  {
   "cell_type": "code",
   "execution_count": 77,
   "id": "84c5c5e9",
   "metadata": {},
   "outputs": [
    {
     "data": {
      "text/plain": [
       "['sunday', 'monday', 'tuesday', 'Wednesday']"
      ]
     },
     "execution_count": 77,
     "metadata": {},
     "output_type": "execute_result"
    }
   ],
   "source": [
    "days"
   ]
  },
  {
   "cell_type": "code",
   "execution_count": 78,
   "id": "6e88aa1d",
   "metadata": {},
   "outputs": [
    {
     "data": {
      "text/plain": [
       "'Wednesday'"
      ]
     },
     "execution_count": 78,
     "metadata": {},
     "output_type": "execute_result"
    }
   ],
   "source": [
    "# remove item from the end\n",
    "days.pop()"
   ]
  },
  {
   "cell_type": "code",
   "execution_count": 79,
   "id": "5b298978",
   "metadata": {},
   "outputs": [
    {
     "data": {
      "text/plain": [
       "['sunday', 'monday', 'tuesday']"
      ]
     },
     "execution_count": 79,
     "metadata": {},
     "output_type": "execute_result"
    }
   ],
   "source": [
    "days"
   ]
  },
  {
   "cell_type": "code",
   "execution_count": 80,
   "id": "f1d29b7e",
   "metadata": {},
   "outputs": [
    {
     "data": {
      "text/plain": [
       "['monday', 'tuesday']"
      ]
     },
     "execution_count": 80,
     "metadata": {},
     "output_type": "execute_result"
    }
   ],
   "source": [
    "days.pop(0)\n",
    "days"
   ]
  },
  {
   "cell_type": "code",
   "execution_count": 81,
   "id": "5a77a38f",
   "metadata": {},
   "outputs": [
    {
     "data": {
      "text/plain": [
       "['Sunday', 'monday', 'tuesday']"
      ]
     },
     "execution_count": 81,
     "metadata": {},
     "output_type": "execute_result"
    }
   ],
   "source": [
    "days.insert(0, \"Sunday\")\n",
    "days"
   ]
  },
  {
   "cell_type": "code",
   "execution_count": 82,
   "id": "2723c377",
   "metadata": {},
   "outputs": [
    {
     "data": {
      "text/plain": [
       "['Sunday', 'tuesday']"
      ]
     },
     "execution_count": 82,
     "metadata": {},
     "output_type": "execute_result"
    }
   ],
   "source": [
    "days.remove('monday')\n",
    "days"
   ]
  },
  {
   "cell_type": "code",
   "execution_count": 86,
   "id": "20c2d6d4",
   "metadata": {},
   "outputs": [
    {
     "data": {
      "text/plain": [
       "['Sunday', 'tuesday', 'sunday']"
      ]
     },
     "execution_count": 86,
     "metadata": {},
     "output_type": "execute_result"
    }
   ],
   "source": [
    "days.append('sunday')\n",
    "days"
   ]
  },
  {
   "cell_type": "code",
   "execution_count": 89,
   "id": "b75154f5",
   "metadata": {},
   "outputs": [
    {
     "data": {
      "text/plain": [
       "['sunday', 'tuesday', 'sunday']"
      ]
     },
     "execution_count": 89,
     "metadata": {},
     "output_type": "execute_result"
    }
   ],
   "source": [
    "days[0] = 'sunday'\n",
    "days"
   ]
  },
  {
   "cell_type": "code",
   "execution_count": 90,
   "id": "02deb130",
   "metadata": {},
   "outputs": [
    {
     "data": {
      "text/plain": [
       "['tuesday', 'sunday']"
      ]
     },
     "execution_count": 90,
     "metadata": {},
     "output_type": "execute_result"
    }
   ],
   "source": [
    "days.remove('sunday')\n",
    "days"
   ]
  },
  {
   "cell_type": "markdown",
   "id": "164b32eb",
   "metadata": {},
   "source": [
    "## Tuples\n",
    "- Tuples are ordered, immutable collections.\n",
    "- Once created, their elements cannot be changed.\n",
    "\n",
    "### When to Use Tuples\n",
    "- Use tuples when you want to ensure that the data remains constant.\n",
    "- They are often used for fixed collections of items, such as coordinates or RGB values."
   ]
  },
  {
   "cell_type": "code",
   "execution_count": 42,
   "id": "957bf8ec",
   "metadata": {},
   "outputs": [
    {
     "data": {
      "text/plain": [
       "False"
      ]
     },
     "execution_count": 42,
     "metadata": {},
     "output_type": "execute_result"
    }
   ],
   "source": [
    "color = (127, 10, 127)\n",
    "color = (123, 10, 123)\n",
    "\n",
    "\n",
    "12 in color"
   ]
  },
  {
   "cell_type": "markdown",
   "id": "30918880",
   "metadata": {},
   "source": [
    "## Sets\n",
    "- Sets are unordered collections of unique elements.\n",
    "- They are mutable but do not allow duplicates.\n",
    "- Useful for membership tests and removing duplicates.\n",
    "\n",
    "### When to Use Sets?\n",
    "- When you need to store unique items.\n",
    "- When you need to perform mathematical set operations like union, intersection, and difference.\n"
   ]
  },
  {
   "cell_type": "code",
   "execution_count": 6,
   "id": "0a894190",
   "metadata": {},
   "outputs": [
    {
     "data": {
      "text/plain": [
       "set"
      ]
     },
     "execution_count": 6,
     "metadata": {},
     "output_type": "execute_result"
    }
   ],
   "source": [
    "natural_numbers = {1, 2, 3, 3, 4}\n",
    "type(natural_numbers)"
   ]
  },
  {
   "cell_type": "code",
   "execution_count": 7,
   "id": "8be42984",
   "metadata": {},
   "outputs": [
    {
     "data": {
      "text/plain": [
       "{1, 2, 3, 4}"
      ]
     },
     "execution_count": 7,
     "metadata": {},
     "output_type": "execute_result"
    }
   ],
   "source": [
    "natural_numbers"
   ]
  },
  {
   "cell_type": "code",
   "execution_count": 108,
   "id": "d9303e53",
   "metadata": {},
   "outputs": [
    {
     "data": {
      "text/plain": [
       "{1, 2, 3, 4, 5}"
      ]
     },
     "execution_count": 108,
     "metadata": {},
     "output_type": "execute_result"
    }
   ],
   "source": [
    "numbers = [1, 2, 3, 4, 5, 5, 4, 3, 2, 1]\n",
    "uniques_numbers = set(numbers)\n",
    "uniques_numbers"
   ]
  },
  {
   "cell_type": "code",
   "execution_count": 111,
   "id": "77bc86af",
   "metadata": {},
   "outputs": [
    {
     "data": {
      "text/plain": [
       "5"
      ]
     },
     "execution_count": 111,
     "metadata": {},
     "output_type": "execute_result"
    }
   ],
   "source": [
    "len(uniques_numbers)"
   ]
  },
  {
   "cell_type": "code",
   "execution_count": 118,
   "id": "c65e0e53",
   "metadata": {},
   "outputs": [
    {
     "data": {
      "text/plain": [
       "False"
      ]
     },
     "execution_count": 118,
     "metadata": {},
     "output_type": "execute_result"
    }
   ],
   "source": [
    "5 not in uniques_numbers"
   ]
  },
  {
   "cell_type": "code",
   "execution_count": 123,
   "id": "ba7543f2",
   "metadata": {},
   "outputs": [
    {
     "data": {
      "text/plain": [
       "{1, 2, 3, 4, 5}"
      ]
     },
     "execution_count": 123,
     "metadata": {},
     "output_type": "execute_result"
    }
   ],
   "source": [
    "a = {1, 2, 3}\n",
    "b = {3, 4, 5}\n",
    "\n",
    "a | b"
   ]
  },
  {
   "cell_type": "markdown",
   "id": "7087a40a",
   "metadata": {},
   "source": [
    "## Dictionary\n",
    "```python\n",
    "dictionary_variable = {\n",
    "  key : value,\n",
    "  key2 : value\n",
    "}\n",
    "```"
   ]
  },
  {
   "cell_type": "code",
   "execution_count": 56,
   "id": "462fefb5",
   "metadata": {},
   "outputs": [
    {
     "data": {
      "text/plain": [
       "dict"
      ]
     },
     "execution_count": 56,
     "metadata": {},
     "output_type": "execute_result"
    }
   ],
   "source": [
    "person = {\n",
    "  'name' : \"Wajahat\",\n",
    "  'age' : 24,\n",
    "  'Height': 5,\n",
    "  'is_muslim': False,\n",
    "  'marks': [20, 30, 20, 40]\n",
    "}\n",
    "\n",
    "type(person)"
   ]
  },
  {
   "cell_type": "code",
   "execution_count": 44,
   "id": "fe27a885",
   "metadata": {},
   "outputs": [
    {
     "data": {
      "text/plain": [
       "{'name': 'Wajahat',\n",
       " 'age': 24,\n",
       " 'Height': 5,\n",
       " 'is_muslim': False,\n",
       " 'marks': [20, 30, 20, 40]}"
      ]
     },
     "execution_count": 44,
     "metadata": {},
     "output_type": "execute_result"
    }
   ],
   "source": [
    "person"
   ]
  },
  {
   "cell_type": "code",
   "execution_count": 47,
   "id": "93f6bf9f",
   "metadata": {},
   "outputs": [
    {
     "data": {
      "text/plain": [
       "24"
      ]
     },
     "execution_count": 47,
     "metadata": {},
     "output_type": "execute_result"
    }
   ],
   "source": [
    "# Access elements\n",
    "person['age']"
   ]
  },
  {
   "cell_type": "code",
   "execution_count": 51,
   "id": "5f11a6d1",
   "metadata": {},
   "outputs": [
    {
     "data": {
      "text/plain": [
       "dict_keys(['name', 'age', 'Height', 'is_muslim', 'marks'])"
      ]
     },
     "execution_count": 51,
     "metadata": {},
     "output_type": "execute_result"
    }
   ],
   "source": [
    "# get keys of the dictionary\n",
    "person.keys()"
   ]
  },
  {
   "cell_type": "code",
   "execution_count": 52,
   "id": "4bd0642b",
   "metadata": {},
   "outputs": [
    {
     "data": {
      "text/plain": [
       "dict_values(['Wajahat', 24, 5, False, [20, 30, 20, 40]])"
      ]
     },
     "execution_count": 52,
     "metadata": {},
     "output_type": "execute_result"
    }
   ],
   "source": [
    "# get values in the dictionary\n",
    "person.values()"
   ]
  },
  {
   "cell_type": "code",
   "execution_count": 53,
   "id": "0135a9a5",
   "metadata": {},
   "outputs": [
    {
     "data": {
      "text/plain": [
       "dict_items([('name', 'Wajahat'), ('age', 24), ('Height', 5), ('is_muslim', False), ('marks', [20, 30, 20, 40])])"
      ]
     },
     "execution_count": 53,
     "metadata": {},
     "output_type": "execute_result"
    }
   ],
   "source": [
    "# get (key, value) as tuple\n",
    "person.items()"
   ]
  },
  {
   "cell_type": "code",
   "execution_count": 57,
   "id": "e2d10298",
   "metadata": {},
   "outputs": [
    {
     "data": {
      "text/plain": [
       "'Wajahat'"
      ]
     },
     "execution_count": 57,
     "metadata": {},
     "output_type": "execute_result"
    }
   ],
   "source": [
    "name = person.pop('name')\n",
    "name"
   ]
  },
  {
   "cell_type": "code",
   "execution_count": 58,
   "id": "86d26995",
   "metadata": {},
   "outputs": [
    {
     "data": {
      "text/plain": [
       "{'age': 24, 'Height': 5, 'is_muslim': False, 'marks': [20, 30, 20, 40]}"
      ]
     },
     "execution_count": 58,
     "metadata": {},
     "output_type": "execute_result"
    }
   ],
   "source": [
    "person"
   ]
  },
  {
   "cell_type": "markdown",
   "id": "46283d5a",
   "metadata": {},
   "source": [
    "## Practice Exercises\n",
    "\n",
    "- Concatenate two strings and print the result.\n",
    "- Replace all occurrences of a specific word in a string with another word using the `replace()` method.\n",
    "- Create a list of numbers from 1 to 10. Use slicing to create a new list that contains only the odd numbers.\n",
    "- Given a tuple of names, use tuple indexing to print the first name in uppercase.\n",
    "- Create a set from a list with duplicate values and print the set.\n",
    "- Write a dictionary to store the marks of three subjects and calculate the average by directly accessing the values.\n",
    "- Given two sets, use set methods to find their union and intersection."
   ]
  }
 ],
 "metadata": {
  "kernelspec": {
   "display_name": "Python 3",
   "language": "python",
   "name": "python3"
  },
  "language_info": {
   "codemirror_mode": {
    "name": "ipython",
    "version": 3
   },
   "file_extension": ".py",
   "mimetype": "text/x-python",
   "name": "python",
   "nbconvert_exporter": "python",
   "pygments_lexer": "ipython3",
   "version": "3.13.7"
  }
 },
 "nbformat": 4,
 "nbformat_minor": 5
}
