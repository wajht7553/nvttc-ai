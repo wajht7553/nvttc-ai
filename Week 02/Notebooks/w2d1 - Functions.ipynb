{
 "cells": [
  {
   "cell_type": "markdown",
   "id": "9ed97e39",
   "metadata": {},
   "source": [
    "# Summer of Code - Artificial Intelligence\n",
    "## Week 02: Python Fundamentals\n",
    "### Day 01: Functions\n",
    "### Day 02: Exception Handling and File Handling\n",
    "\n",
    "In this notebook, we will learn about **Functions**, **Exception Handling**, and **File Handling** in Python.\n"
   ]
  },
  {
   "cell_type": "markdown",
   "id": "b5eaafb1",
   "metadata": {},
   "source": [
    "# Functions in Python\n",
    "- A function is a block of reusable code that performs a specific task.\n",
    "- Functions help in organizing code, improving readability, and avoiding repetition.\n",
    "- Functions can take inputs (parameters) and return outputs (results).\n",
    "The syntax for defining a function in Python is as follows:\n",
    "```python\n",
    "def function_name(parameters):\n",
    "    # Function body\n",
    "    # Code to be executed\n",
    "    return result  # Optional\n",
    "```"
   ]
  },
  {
   "cell_type": "code",
   "execution_count": null,
   "id": "f4cc97b7",
   "metadata": {},
   "outputs": [],
   "source": [
    "def greet():\n",
    "  print(\"Welcome to Python Class\")\n",
    "\n",
    "\n"
   ]
  },
  {
   "cell_type": "code",
   "execution_count": null,
   "id": "fcf48215",
   "metadata": {},
   "outputs": [
    {
     "name": "stdout",
     "output_type": "stream",
     "text": [
      "Welcome to Python Class\n"
     ]
    }
   ],
   "source": [
    "# Calling the function\n",
    "greet()"
   ]
  },
  {
   "cell_type": "markdown",
   "id": "a9e6433c",
   "metadata": {},
   "source": [
    "## Parameters and Arguments\n",
    "- Parameters are placeholders for values that a function can accept.\n",
    "- Arguments are the actual values passed to the function when it is called."
   ]
  },
  {
   "cell_type": "code",
   "execution_count": null,
   "metadata": {},
   "outputs": [],
   "source": [
    "# Function can take input (parameters)\n",
    "def greet(name): # name is parameter\n",
    "  print(f\"Hello {name}, Welcome to class\")"
   ]
  },
  {
   "cell_type": "code",
   "execution_count": 10,
   "metadata": {},
   "outputs": [
    {
     "name": "stdout",
     "output_type": "stream",
     "text": [
      "Hello Ahmad, Welcome to class\n"
     ]
    }
   ],
   "source": [
    "greet(\"Ahmad\")"
   ]
  },
  {
   "cell_type": "code",
   "execution_count": 11,
   "id": "9d84c710",
   "metadata": {},
   "outputs": [
    {
     "name": "stdout",
     "output_type": "stream",
     "text": [
      "Hello Qasim, Welcome to class\n"
     ]
    }
   ],
   "source": [
    "greet(\"Qasim\")"
   ]
  },
  {
   "cell_type": "code",
   "execution_count": 5,
   "id": "0c2b4050",
   "metadata": {},
   "outputs": [],
   "source": [
    "# Functions can take multiple parameters and return output\n",
    "def add(x, y): # x and y are parameters\n",
    "  \"\"\"Add two numbers\"\"\"\n",
    "  z = x + y\n",
    "  return z # return the result\n"
   ]
  },
  {
   "cell_type": "code",
   "execution_count": 6,
   "id": "9d688b50",
   "metadata": {},
   "outputs": [],
   "source": [
    "num1 = 13\n",
    "num2 = 14\n",
    "\n",
    "# Arguments are values passed to the function when calling it\n",
    "summ = add(num1, num2)"
   ]
  },
  {
   "cell_type": "code",
   "execution_count": null,
   "id": "e44ab847",
   "metadata": {},
   "outputs": [],
   "source": [
    "# functions can return multiple values\n",
    "def sum_and_prod(x, y):\n",
    "  print(f\"x = {x}, y = {y}\")\n",
    "  return x+y, x*y\n",
    "\n",
    "\n"
   ]
  },
  {
   "cell_type": "code",
   "execution_count": 8,
   "id": "55843897",
   "metadata": {},
   "outputs": [
    {
     "name": "stdout",
     "output_type": "stream",
     "text": [
      "x = 13, y = 14\n"
     ]
    }
   ],
   "source": [
    "summ, prod = sum_and_prod(num1, num2)"
   ]
  },
  {
   "cell_type": "markdown",
   "id": "4af2b702",
   "metadata": {},
   "source": [
    "## Variables and Scope\n",
    "Scope refers to the visibility and accessibility of variables in different parts of the code.\n",
    "- Variables defined inside a function are local to that function and cannot be accessed outside.\n",
    "- Variables defined outside a function are global and can be accessed inside the function."
   ]
  },
  {
   "cell_type": "code",
   "execution_count": 10,
   "id": "c10615ff",
   "metadata": {},
   "outputs": [
    {
     "name": "stdout",
     "output_type": "stream",
     "text": [
      "10\n"
     ]
    }
   ],
   "source": [
    "# Scope of variables\n",
    "def func():\n",
    "  a = 10 # local variable\n",
    "  print(a)\n",
    "func()\n",
    "\n",
    "# print(a) # Error, a is not defined here"
   ]
  },
  {
   "cell_type": "code",
   "execution_count": 11,
   "id": "40dc001b",
   "metadata": {},
   "outputs": [
    {
     "name": "stdout",
     "output_type": "stream",
     "text": [
      "20\n",
      "30\n"
     ]
    }
   ],
   "source": [
    "b = 20  # global variable\n",
    "print(b)\n",
    "\n",
    "\n",
    "def func2():\n",
    "    global b # accessing global variable, not creating a new local variable\n",
    "    b = 30  # modifying global variable\n",
    "    print(b)\n",
    "func2()"
   ]
  },
  {
   "cell_type": "markdown",
   "id": "c22bf213",
   "metadata": {},
   "source": [
    "### Default, Positional, and Keyword Arguments\n",
    "- Default arguments have a default value if no argument is provided.\n",
    "- Positional arguments are passed in the order defined in the function.\n",
    "- Keyword arguments are passed by explicitly naming them, allowing for flexibility in order."
   ]
  },
  {
   "cell_type": "code",
   "execution_count": null,
   "id": "0ea34642",
   "metadata": {},
   "outputs": [
    {
     "name": "stdout",
     "output_type": "stream",
     "text": [
      "x = 13, y = 14\n",
      "Sum: 27\n",
      "Product: 182\n"
     ]
    }
   ],
   "source": [
    "# keyword arguments can be used to call functions\n",
    "# This allows passing arguments in any order\n",
    "summ, prod = sum_and_prod(x=num1, y=num2)\n",
    "print(f\"Sum: {summ}\")\n",
    "print(f\"Product: {prod}\")"
   ]
  },
  {
   "cell_type": "code",
   "execution_count": null,
   "id": "f2b3a9ba",
   "metadata": {},
   "outputs": [],
   "source": [
    "# default arguments\n",
    "def add(x=0, y=0, z =0):\n",
    "    print(f\"x = {x}, y = {y}, z={z}\")\n",
    "    summ = x + y + z\n",
    "    return summ\n",
    "\n",
    "summ"
   ]
  },
  {
   "cell_type": "code",
   "execution_count": null,
   "id": "82ffd6c3",
   "metadata": {},
   "outputs": [
    {
     "name": "stdout",
     "output_type": "stream",
     "text": [
      "x = 12, y = 10, z=30\n"
     ]
    },
    {
     "data": {
      "text/plain": [
       "52"
      ]
     },
     "metadata": {},
     "output_type": "display_data"
    }
   ],
   "source": [
    "# passing arguments as positional args\n",
    "add(12, 10, 30)"
   ]
  },
  {
   "cell_type": "code",
   "execution_count": null,
   "id": "f4d86986",
   "metadata": {},
   "outputs": [
    {
     "name": "stdout",
     "output_type": "stream",
     "text": [
      "x = 0, y = 10, z=1\n"
     ]
    },
    {
     "data": {
      "text/plain": [
       "11"
      ]
     },
     "metadata": {},
     "output_type": "display_data"
    }
   ],
   "source": [
    "# passign args as keyword args\n",
    "add(y=10, x=0, z=1)"
   ]
  },
  {
   "cell_type": "code",
   "execution_count": null,
   "id": "4dafc3de",
   "metadata": {},
   "outputs": [
    {
     "name": "stdout",
     "output_type": "stream",
     "text": [
      "x = 0, y = 0, z=10\n"
     ]
    },
    {
     "data": {
      "text/plain": [
       "10"
      ]
     },
     "metadata": {},
     "output_type": "display_data"
    }
   ],
   "source": [
    "add(z=10) # you can skip default arguments"
   ]
  },
  {
   "cell_type": "markdown",
   "id": "23d6579e",
   "metadata": {},
   "source": [
    "## Lambda Functions\n",
    "- Lambda functions are small anonymous functions defined using the `lambda` keyword.\n",
    "- They can take any number of arguments but can only have one expression.\n",
    "The syntax for defining a lambda function is as follows:\n",
    "```python\n",
    "lambda arguments: expression\n",
    "```"
   ]
  },
  {
   "cell_type": "code",
   "execution_count": null,
   "id": "f05fe97f",
   "metadata": {},
   "outputs": [
    {
     "data": {
      "text/plain": [
       "9"
      ]
     },
     "execution_count": 1,
     "metadata": {},
     "output_type": "execute_result"
    }
   ],
   "source": [
    "def square(x):\n",
    "  # statement 1\n",
    "  # stateme 2\n",
    "  return x ** 2\n",
    "\n",
    "square(3)"
   ]
  },
  {
   "cell_type": "code",
   "execution_count": 5,
   "id": "c90ae306",
   "metadata": {},
   "outputs": [],
   "source": [
    "square = lambda x: x ** 2"
   ]
  },
  {
   "cell_type": "code",
   "execution_count": 7,
   "id": "e2ccd53f",
   "metadata": {},
   "outputs": [
    {
     "data": {
      "text/plain": [
       "16"
      ]
     },
     "execution_count": 7,
     "metadata": {},
     "output_type": "execute_result"
    }
   ],
   "source": [
    "square(4)"
   ]
  },
  {
   "cell_type": "markdown",
   "id": "518122b7",
   "metadata": {},
   "source": [
    "## Higher-Order Functions\n",
    "- Higher-order functions are functions that can take other functions as arguments or return functions as results.\n",
    "- Common higher-order functions in Python include `map()`, `filter()`, and `reduce()`."
   ]
  },
  {
   "cell_type": "code",
   "execution_count": null,
   "id": "01d104b4",
   "metadata": {},
   "outputs": [],
   "source": [
    "def add_one(x):\n",
    "  return x + 1\n",
    "\n",
    "def add_two(x):\n",
    "  return x + 2\n",
    "\n",
    "def increment(x, adder): # higher order function\n",
    "  return adder(x)"
   ]
  },
  {
   "cell_type": "code",
   "execution_count": 12,
   "id": "e332e4a0",
   "metadata": {},
   "outputs": [
    {
     "data": {
      "text/plain": [
       "14"
      ]
     },
     "execution_count": 12,
     "metadata": {},
     "output_type": "execute_result"
    }
   ],
   "source": [
    "increment(12, add_two)\n"
   ]
  },
  {
   "cell_type": "code",
   "execution_count": 13,
   "id": "95b12001",
   "metadata": {},
   "outputs": [
    {
     "name": "stdout",
     "output_type": "stream",
     "text": [
      "<function add_one at 0x000001E9AA141800>\n"
     ]
    }
   ],
   "source": [
    "print(add_one)"
   ]
  },
  {
   "cell_type": "code",
   "execution_count": 20,
   "id": "79a54360",
   "metadata": {},
   "outputs": [
    {
     "data": {
      "text/plain": [
       "[0, 4, 8, 12, 16, 20, 24, 28, 32, 36, 40, 44, 48]"
      ]
     },
     "execution_count": 20,
     "metadata": {},
     "output_type": "execute_result"
    }
   ],
   "source": [
    "# map() applies a function to all items in an input list and returns \n",
    "# a new list with the results.\n",
    "numbers = list(range(0, 50, 4))\n",
    "numbers"
   ]
  },
  {
   "cell_type": "code",
   "execution_count": 21,
   "id": "88ceb454",
   "metadata": {},
   "outputs": [
    {
     "data": {
      "text/plain": [
       "[1, 5, 9, 13, 17, 21, 25, 29, 33, 37, 41, 45, 49]"
      ]
     },
     "execution_count": 21,
     "metadata": {},
     "output_type": "execute_result"
    }
   ],
   "source": [
    "list(map(lambda x: x+1, numbers))"
   ]
  },
  {
   "cell_type": "code",
   "execution_count": 27,
   "id": "34c08251",
   "metadata": {},
   "outputs": [],
   "source": [
    "def my_filter(x):\n",
    "  return x > 24"
   ]
  },
  {
   "cell_type": "code",
   "execution_count": 28,
   "id": "7c95cad5",
   "metadata": {},
   "outputs": [
    {
     "data": {
      "text/plain": [
       "[28, 32, 36, 40, 44, 48]"
      ]
     },
     "execution_count": 28,
     "metadata": {},
     "output_type": "execute_result"
    }
   ],
   "source": [
    "# filter() creates a list of elements for which a function returns true.\n",
    "list(filter(my_filter, numbers))"
   ]
  },
  {
   "cell_type": "code",
   "execution_count": null,
   "id": "b725103a",
   "metadata": {},
   "outputs": [
    {
     "data": {
      "text/plain": [
       "9"
      ]
     },
     "execution_count": 33,
     "metadata": {},
     "output_type": "execute_result"
    }
   ],
   "source": [
    "# reduce() applies a rolling computation to sequential pairs of \n",
    "# values in a list and returns a single value.\n",
    "import maths_functions\n",
    "\n",
    "maths_functions.square(3)"
   ]
  },
  {
   "cell_type": "code",
   "execution_count": 34,
   "id": "0fa11639",
   "metadata": {},
   "outputs": [
    {
     "data": {
      "text/plain": [
       "3.141"
      ]
     },
     "execution_count": 34,
     "metadata": {},
     "output_type": "execute_result"
    }
   ],
   "source": [
    "import maths_functions as mfunc\n",
    "\n",
    "mfunc.pi"
   ]
  },
  {
   "cell_type": "code",
   "execution_count": 36,
   "id": "4c132f00",
   "metadata": {},
   "outputs": [
    {
     "data": {
      "text/plain": [
       "576"
      ]
     },
     "execution_count": 36,
     "metadata": {},
     "output_type": "execute_result"
    }
   ],
   "source": [
    "from maths_functions import square, pi\n",
    "\n",
    "square(24)"
   ]
  },
  {
   "cell_type": "code",
   "execution_count": 37,
   "id": "3f779c5b",
   "metadata": {},
   "outputs": [
    {
     "data": {
      "text/plain": [
       "3.141"
      ]
     },
     "execution_count": 37,
     "metadata": {},
     "output_type": "execute_result"
    }
   ],
   "source": [
    "pi"
   ]
  },
  {
   "cell_type": "code",
   "execution_count": 42,
   "id": "eda6e1b9",
   "metadata": {},
   "outputs": [
    {
     "data": {
      "text/plain": [
       "0"
      ]
     },
     "execution_count": 42,
     "metadata": {},
     "output_type": "execute_result"
    }
   ],
   "source": [
    "from functools import reduce\n",
    "\n",
    "reduce(lambda x, y: x*y, numbers)"
   ]
  },
  {
   "cell_type": "markdown",
   "id": "5acc9efd",
   "metadata": {},
   "source": [
    "# Errors and Exceptions\n",
    "- Errors are issues in the code that prevent it from running correctly.\n",
    "  - Syntax errors occur when the code does not follow the correct syntax rules.\n",
    "  - Runtime errors occur during the execution of the code.\n",
    "  - Logical errors occur when the code runs but produces incorrect results.\n",
    "- Exceptions are specific types of errors that can be handled using try-except blocks."
   ]
  },
  {
   "cell_type": "code",
   "execution_count": null,
   "id": "05b21577",
   "metadata": {},
   "outputs": [],
   "source": [
    "# Errors and Exceptions example\n",
    "num1 = float(input(\"Enter first number: \"))\n",
    "num2 = float(input(\"Enter second number: \"))\n",
    "\n",
    "summ = num1 + num2\n",
    "print(f\"Sum: {summ}\")\n",
    "\n",
    "diff = num1 - num2\n",
    "print(f\"Difference: {diff}\")\n",
    "\n",
    "prod = num1 * num2\n",
    "print(f\"Product: {prod}\")\n",
    "\n",
    "quot = num1 / num2 # Careful, problematic, try entering 0 for second number\n",
    "print(f\"Quotient: {quot}\")\n",
    "\n"
   ]
  },
  {
   "cell_type": "markdown",
   "id": "36f0b769",
   "metadata": {},
   "source": [
    "# Exception Handling\n",
    "- Exception handling allows you to manage errors gracefully without crashing the program.\n",
    "The syntax for handling exceptions in Python is as follows:\n",
    "```python\n",
    "try:\n",
    "    # Code that may raise an exception\n",
    "except ExceptionType: # Can be multiple except blocks for different exceptions\n",
    "    # Code to handle the exception\n",
    "finally:\n",
    "    # Optional code that runs regardless of whether an exception occurred\n",
    "```"
   ]
  },
  {
   "cell_type": "code",
   "execution_count": 12,
   "id": "3e63fda0",
   "metadata": {},
   "outputs": [
    {
     "name": "stdout",
     "output_type": "stream",
     "text": [
      "Sum: 12.0\n",
      "Difference: 12.0\n",
      "Product: 0.0\n",
      "Error: Division by zero is not allowed.\n",
      "Quotient: None\n"
     ]
    }
   ],
   "source": [
    "num1 = float(input(\"Enter first number: \"))\n",
    "num2 = float(input(\"Enter second number: \"))\n",
    "\n",
    "summ = num1 + num2\n",
    "print(f\"Sum: {summ}\")\n",
    "\n",
    "diff = num1 - num2\n",
    "print(f\"Difference: {diff}\")\n",
    "\n",
    "prod = num1 * num2\n",
    "print(f\"Product: {prod}\")\n",
    "\n",
    "# quot = num1 / num2  # Since division by zero can raise an exception, we will handle it\n",
    "\n",
    "try:\n",
    "    quot = num1 / num2\n",
    "except ZeroDivisionError:\n",
    "    quot = None\n",
    "    print(\"Error: Division by zero is not allowed.\")\n",
    "\n",
    "\n",
    "print(f\"Quotient: {quot}\")"
   ]
  },
  {
   "cell_type": "code",
   "execution_count": 13,
   "id": "0f32ab67",
   "metadata": {},
   "outputs": [
    {
     "name": "stdout",
     "output_type": "stream",
     "text": [
      "Error: Division by zero is not allowed.\n"
     ]
    }
   ],
   "source": [
    "# You can check for multiple exceptions\n",
    "try:\n",
    "  quot = num1 / num2\n",
    "except ZeroDivisionError:\n",
    "  quot = None\n",
    "  print(\"Error: Division by zero is not allowed.\")\n",
    "except Exception as e:\n",
    "  print(e)\n",
    "  print(\"Something went wrong!\")"
   ]
  },
  {
   "cell_type": "code",
   "execution_count": null,
   "id": "db6092cc",
   "metadata": {},
   "outputs": [
    {
     "name": "stdout",
     "output_type": "stream",
     "text": [
      "Error: Division by zero is not allowed.\n"
     ]
    }
   ],
   "source": [
    "# Error handling can optionally include else block, which is executed\n",
    "# when no error occurs in try block\n",
    "try:\n",
    "    quot = num1 / num2\n",
    "except ZeroDivisionError:\n",
    "    quot = None\n",
    "    print(\"Error: Division by zero is not allowed.\")\n",
    "except Exception as e:\n",
    "    print(e)\n",
    "else: # this block is executed when no error occurs in try block\n",
    "  print(\"No error occurred\")"
   ]
  },
  {
   "cell_type": "code",
   "execution_count": null,
   "id": "b59e59b4",
   "metadata": {},
   "outputs": [],
   "source": [
    "# Error handling can optionally include finally block, which is\n",
    "# always executed at the end. It doesn't matter whether error occurs\n",
    "# or not in the try block. Usually used for releasing resources\n",
    "\n",
    "try:\n",
    "  file = open(\"example.txt\", \"w\") # open a file for writing\n",
    "  file.write(\"Hello World!\\n\")\n",
    "  result = num1 / num2  # error can occur if num2 is zero\n",
    "except ZeroDivisionError:\n",
    "    print(\"Error: Division by zero is not allowed.\")\n",
    "finally:\n",
    "    file.close()\n",
    "    print(\"File closed. This block is always executed, releasing resources if needed.\")\n"
   ]
  },
  {
   "cell_type": "markdown",
   "id": "8e2f06fe",
   "metadata": {},
   "source": [
    "# Working with Files\n",
    "- Python allows you to read from and write to files on your system.\n",
    "- Common file operations include opening, reading, writing, and closing files.\n",
    "- The syntax for file handling in Python is as follows:\n",
    "```python\n",
    "file = open('filename', 'mode')  # Open a file\n",
    "# Perform file operations (read, write, etc.)\n",
    "file.close()  # Close the file\n",
    "```\n"
   ]
  },
  {
   "cell_type": "code",
   "execution_count": 45,
   "id": "c72506dd",
   "metadata": {},
   "outputs": [
    {
     "data": {
      "text/plain": [
       "'Ahmad\"s cat'"
      ]
     },
     "execution_count": 45,
     "metadata": {},
     "output_type": "execute_result"
    }
   ],
   "source": [
    "\"Ahmad\\\"s cat\""
   ]
  },
  {
   "cell_type": "code",
   "execution_count": 47,
   "id": "1cefc11a",
   "metadata": {},
   "outputs": [
    {
     "data": {
      "text/plain": [
       "'C:\\\\Users\\\\DIPLAB\\\\Desktop\\\\Summer of Code - AI\\\\Week 02\\\\Notebooks\\\\functions.txt'"
      ]
     },
     "execution_count": 47,
     "metadata": {},
     "output_type": "execute_result"
    }
   ],
   "source": [
    "\"C:\\\\Users\\\\DIPLAB\\\\Desktop\\\\Summer of Code - AI\\\\Week 02\\\\Notebooks\\\\functions.txt\""
   ]
  },
  {
   "cell_type": "code",
   "execution_count": null,
   "id": "7282e3e5",
   "metadata": {},
   "outputs": [
    {
     "data": {
      "text/plain": [
       "<_io.TextIOWrapper name='C:\\\\Users\\\\DIPLAB\\\\Desktop\\\\Summer of Code - AI\\\\Week 02\\\\Notebooks\\\\functions.txt' mode='r' encoding='cp1252'>"
      ]
     },
     "execution_count": 50,
     "metadata": {},
     "output_type": "execute_result"
    }
   ],
   "source": [
    "# Absolute Path\n",
    "# open(\"C:\\\\Users\\\\DIPLAB\\\\Desktop\\\\Summer of Code - AI\\\\Week 02\\\\Notebooks\\\\functions.txt\", 'r')"
   ]
  },
  {
   "cell_type": "code",
   "execution_count": 2,
   "id": "09b711b7",
   "metadata": {},
   "outputs": [
    {
     "data": {
      "text/plain": [
       "<_io.TextIOWrapper name='functions.txt' mode='r' encoding='cp1252'>"
      ]
     },
     "execution_count": 2,
     "metadata": {},
     "output_type": "execute_result"
    }
   ],
   "source": [
    "# Relative Path\n",
    "file = open(\"functions.txt\", mode='r')\n",
    "file"
   ]
  },
  {
   "cell_type": "code",
   "execution_count": 4,
   "id": "7bb79b47",
   "metadata": {},
   "outputs": [
    {
     "data": {
      "text/plain": [
       "'functions.txt'"
      ]
     },
     "execution_count": 4,
     "metadata": {},
     "output_type": "execute_result"
    }
   ],
   "source": [
    "file.name"
   ]
  },
  {
   "cell_type": "code",
   "execution_count": 5,
   "id": "035f6e58",
   "metadata": {},
   "outputs": [
    {
     "data": {
      "text/plain": [
       "False"
      ]
     },
     "execution_count": 5,
     "metadata": {},
     "output_type": "execute_result"
    }
   ],
   "source": [
    "file.closed"
   ]
  },
  {
   "cell_type": "code",
   "execution_count": 6,
   "id": "918965b3",
   "metadata": {},
   "outputs": [],
   "source": [
    "file.close()"
   ]
  },
  {
   "cell_type": "code",
   "execution_count": 7,
   "id": "a6d2076e",
   "metadata": {},
   "outputs": [
    {
     "data": {
      "text/plain": [
       "True"
      ]
     },
     "execution_count": 7,
     "metadata": {},
     "output_type": "execute_result"
    }
   ],
   "source": [
    "file.closed"
   ]
  },
  {
   "cell_type": "code",
   "execution_count": 8,
   "id": "5f3bbe51",
   "metadata": {},
   "outputs": [
    {
     "ename": "ValueError",
     "evalue": "I/O operation on closed file.",
     "output_type": "error",
     "traceback": [
      "\u001b[31m---------------------------------------------------------------------------\u001b[39m",
      "\u001b[31mValueError\u001b[39m                                Traceback (most recent call last)",
      "\u001b[36mCell\u001b[39m\u001b[36m \u001b[39m\u001b[32mIn[8]\u001b[39m\u001b[32m, line 1\u001b[39m\n\u001b[32m----> \u001b[39m\u001b[32m1\u001b[39m \u001b[43mfile\u001b[49m\u001b[43m.\u001b[49m\u001b[43mread\u001b[49m\u001b[43m(\u001b[49m\u001b[43m)\u001b[49m\n",
      "\u001b[31mValueError\u001b[39m: I/O operation on closed file."
     ]
    }
   ],
   "source": [
    "file.read()"
   ]
  },
  {
   "cell_type": "code",
   "execution_count": 22,
   "id": "105d0ed4",
   "metadata": {},
   "outputs": [
    {
     "data": {
      "text/plain": [
       "<_io.TextIOWrapper name='functions.txt' mode='r' encoding='cp1252'>"
      ]
     },
     "execution_count": 22,
     "metadata": {},
     "output_type": "execute_result"
    }
   ],
   "source": [
    "file = open('functions.txt', 'r')\n",
    "file"
   ]
  },
  {
   "cell_type": "markdown",
   "id": "a238c176",
   "metadata": {},
   "source": [
    "## Reading from Files\n",
    "- read()\n",
    "- readline()\n",
    "- readlines()"
   ]
  },
  {
   "cell_type": "code",
   "execution_count": 23,
   "id": "2ca5b3a9",
   "metadata": {},
   "outputs": [
    {
     "data": {
      "text/plain": [
       "'def square(x):\\n  \"\"\"returns the square of the input\"\"\"\\n  return x**2\\n\\n\\n\\npi = 3.141'"
      ]
     },
     "execution_count": 23,
     "metadata": {},
     "output_type": "execute_result"
    }
   ],
   "source": [
    "file.read()"
   ]
  },
  {
   "cell_type": "code",
   "execution_count": 25,
   "id": "50b42868",
   "metadata": {},
   "outputs": [
    {
     "data": {
      "text/plain": [
       "''"
      ]
     },
     "execution_count": 25,
     "metadata": {},
     "output_type": "execute_result"
    }
   ],
   "source": [
    "file.read() # since cursor is at the end of the file"
   ]
  },
  {
   "cell_type": "code",
   "execution_count": 26,
   "id": "41f79bfc",
   "metadata": {},
   "outputs": [
    {
     "data": {
      "text/plain": [
       "0"
      ]
     },
     "execution_count": 26,
     "metadata": {},
     "output_type": "execute_result"
    }
   ],
   "source": [
    "# To move cursor to the starting position\n",
    "file.seek(0)"
   ]
  },
  {
   "cell_type": "code",
   "execution_count": 27,
   "id": "501b8bbf",
   "metadata": {},
   "outputs": [
    {
     "data": {
      "text/plain": [
       "'def square(x):\\n'"
      ]
     },
     "execution_count": 27,
     "metadata": {},
     "output_type": "execute_result"
    }
   ],
   "source": [
    "# readline\n",
    "file.readline()"
   ]
  },
  {
   "cell_type": "code",
   "execution_count": 29,
   "id": "43e5e312",
   "metadata": {},
   "outputs": [
    {
     "data": {
      "text/plain": [
       "16"
      ]
     },
     "execution_count": 29,
     "metadata": {},
     "output_type": "execute_result"
    }
   ],
   "source": [
    "# To know the cursor position\n",
    "file.tell()"
   ]
  },
  {
   "cell_type": "code",
   "execution_count": 30,
   "id": "368e2154",
   "metadata": {},
   "outputs": [
    {
     "data": {
      "text/plain": [
       "'  \"\"\"returns the square of the input\"\"\"\\n'"
      ]
     },
     "execution_count": 30,
     "metadata": {},
     "output_type": "execute_result"
    }
   ],
   "source": [
    "file.readline()"
   ]
  },
  {
   "cell_type": "code",
   "execution_count": 31,
   "id": "2bee4094",
   "metadata": {},
   "outputs": [
    {
     "data": {
      "text/plain": [
       "'  return x**2\\n'"
      ]
     },
     "execution_count": 31,
     "metadata": {},
     "output_type": "execute_result"
    }
   ],
   "source": [
    "file.readline()"
   ]
  },
  {
   "cell_type": "code",
   "execution_count": 32,
   "id": "4faa100f",
   "metadata": {},
   "outputs": [
    {
     "data": {
      "text/plain": [
       "'\\n'"
      ]
     },
     "execution_count": 32,
     "metadata": {},
     "output_type": "execute_result"
    }
   ],
   "source": [
    "file.readline()"
   ]
  },
  {
   "cell_type": "code",
   "execution_count": 33,
   "id": "656440ec",
   "metadata": {},
   "outputs": [
    {
     "data": {
      "text/plain": [
       "'\\n'"
      ]
     },
     "execution_count": 33,
     "metadata": {},
     "output_type": "execute_result"
    }
   ],
   "source": [
    "file.readline()"
   ]
  },
  {
   "cell_type": "code",
   "execution_count": 34,
   "id": "c4b54202",
   "metadata": {},
   "outputs": [
    {
     "data": {
      "text/plain": [
       "'\\n'"
      ]
     },
     "execution_count": 34,
     "metadata": {},
     "output_type": "execute_result"
    }
   ],
   "source": [
    "file.readline()"
   ]
  },
  {
   "cell_type": "code",
   "execution_count": 35,
   "id": "6c2cf7ca",
   "metadata": {},
   "outputs": [
    {
     "data": {
      "text/plain": [
       "'pi = 3.141'"
      ]
     },
     "execution_count": 35,
     "metadata": {},
     "output_type": "execute_result"
    }
   ],
   "source": [
    "file.readline()"
   ]
  },
  {
   "cell_type": "code",
   "execution_count": 37,
   "id": "c42a6b50",
   "metadata": {},
   "outputs": [
    {
     "data": {
      "text/plain": [
       "''"
      ]
     },
     "execution_count": 37,
     "metadata": {},
     "output_type": "execute_result"
    }
   ],
   "source": [
    "file.readline() # reached end"
   ]
  },
  {
   "cell_type": "code",
   "execution_count": 38,
   "id": "3e2da570",
   "metadata": {},
   "outputs": [
    {
     "data": {
      "text/plain": [
       "0"
      ]
     },
     "execution_count": 38,
     "metadata": {},
     "output_type": "execute_result"
    }
   ],
   "source": [
    "# move cursor to starting position again\n",
    "file.seek(0)"
   ]
  },
  {
   "cell_type": "code",
   "execution_count": 39,
   "id": "5ad54d7c",
   "metadata": {},
   "outputs": [
    {
     "data": {
      "text/plain": [
       "['def square(x):\\n',\n",
       " '  \"\"\"returns the square of the input\"\"\"\\n',\n",
       " '  return x**2\\n',\n",
       " '\\n',\n",
       " '\\n',\n",
       " '\\n',\n",
       " 'pi = 3.141']"
      ]
     },
     "execution_count": 39,
     "metadata": {},
     "output_type": "execute_result"
    }
   ],
   "source": [
    "# readlines\n",
    "file.readlines()"
   ]
  },
  {
   "cell_type": "code",
   "execution_count": 40,
   "id": "4d2b15ca",
   "metadata": {},
   "outputs": [],
   "source": [
    "file.close()"
   ]
  },
  {
   "cell_type": "markdown",
   "id": "42aec84f",
   "metadata": {},
   "source": [
    "## Writing to Files\n",
    "- write(\"text\")\n",
    "- writelines([\"list\", \"of\", \"texts\"])"
   ]
  },
  {
   "cell_type": "code",
   "execution_count": null,
   "id": "020904a3",
   "metadata": {},
   "outputs": [],
   "source": [
    "f = open('functions.txt', mode='w')\n",
    "f.write(\"This is a line\")\n",
    "f.write(\"\\n\")\n",
    "f.write(\"This is second line\")\n",
    "f.close() # file will be updated after it is closed"
   ]
  },
  {
   "cell_type": "code",
   "execution_count": 12,
   "id": "b7a2961b",
   "metadata": {},
   "outputs": [],
   "source": [
    "poem = [\n",
    "  \"Twinkle twinkle little stars\\n\",\n",
    "  \"how i wonder what you are\\n\",\n",
    "  \"statements\\n\"\n",
    "]\n",
    "\n",
    "f = open(f'functions.txt', mode='a')\n",
    "f.writelines(poem)\n",
    "f.close()"
   ]
  },
  {
   "cell_type": "markdown",
   "id": "5883dd2f",
   "metadata": {},
   "source": [
    "## Context Managers\n",
    "- Context managers provide a way to manage resources, such as file handling, ensuring that they are properly acquired and released.\n",
    "- In Python, the `with` statement is used to create a context manager.\n",
    "\n",
    "The syntax for using a context manager is as follows:\n",
    "```python\n",
    "with open('filename', 'mode') as file:\n",
    "    # Perform file operations (read, write, etc.)\n",
    "    # The file is automatically closed when the block is exited\n",
    "```"
   ]
  },
  {
   "cell_type": "code",
   "execution_count": null,
   "id": "e28430f8",
   "metadata": {},
   "outputs": [],
   "source": [
    "with open('functions.txt', mode='r') as f:\n",
    "  f.readlines()"
   ]
  },
  {
   "cell_type": "code",
   "execution_count": 45,
   "id": "dd2e8aa0",
   "metadata": {},
   "outputs": [
    {
     "name": "stdout",
     "output_type": "stream",
     "text": [
      "File closed\n"
     ]
    }
   ],
   "source": [
    "with open(\"functions.txt\", mode=\"a\") as f:\n",
    "    f.write(\"Wajahat\")\n",
    "\n",
    "print(\"File closed\")"
   ]
  }
 ],
 "metadata": {
  "kernelspec": {
   "display_name": "Python 3",
   "language": "python",
   "name": "python3"
  },
  "language_info": {
   "codemirror_mode": {
    "name": "ipython",
    "version": 3
   },
   "file_extension": ".py",
   "mimetype": "text/x-python",
   "name": "python",
   "nbconvert_exporter": "python",
   "pygments_lexer": "ipython3",
   "version": "3.13.7"
  }
 },
 "nbformat": 4,
 "nbformat_minor": 5
}
