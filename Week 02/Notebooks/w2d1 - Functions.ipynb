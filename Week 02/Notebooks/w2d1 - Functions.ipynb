{
 "cells": [
  {
   "cell_type": "markdown",
   "id": "9ed97e39",
   "metadata": {},
   "source": [
    "# Summer of Code - Artificial Intelligence\n",
    "## Week 02: Python Fundamentals\n",
    "### Day 01: Functions\n",
    "### Day 02: Exception Handling and File Handling\n",
    "\n",
    "In this notebook, we will learn about **Functions**, **Exception Handling**, and **File Handling** in Python.\n"
   ]
  },
  {
   "cell_type": "markdown",
   "id": "b5eaafb1",
   "metadata": {},
   "source": [
    "# Functions in Python\n",
    "- A function is a block of reusable code that performs a specific task.\n",
    "- Functions help in organizing code, improving readability, and avoiding repetition.\n",
    "- Functions can take inputs (parameters) and return outputs (results).\n",
    "The syntax for defining a function in Python is as follows:\n",
    "```python\n",
    "def function_name(parameters):\n",
    "    # Function body\n",
    "    # Code to be executed\n",
    "    return result  # Optional\n",
    "```"
   ]
  },
  {
   "cell_type": "code",
   "execution_count": null,
   "id": "f4cc97b7",
   "metadata": {},
   "outputs": [],
   "source": [
    "def greet():\n",
    "    # statements\n",
    "    print(\"Hello Ahmad, Welcome\")"
   ]
  },
  {
   "cell_type": "code",
   "execution_count": null,
   "id": "cc97d7c2",
   "metadata": {},
   "outputs": [],
   "source": [
    "greet"
   ]
  },
  {
   "cell_type": "code",
   "execution_count": null,
   "id": "af5079d0",
   "metadata": {},
   "outputs": [],
   "source": [
    "greet()"
   ]
  },
  {
   "cell_type": "code",
   "execution_count": null,
   "id": "fcf48215",
   "metadata": {},
   "outputs": [],
   "source": [
    "def greet(name): # parameters\n",
    "    print(\"name: \" + name)\n",
    "    print(f\"Hello {name}, Welcome\")\n",
    "\n",
    "# # calling the function\n",
    "name = input(\"Enter your name: \")\n",
    "greet(name) # \"Ali\" is an Argument to name parameter"
   ]
  },
  {
   "cell_type": "markdown",
   "id": "a9e6433c",
   "metadata": {},
   "source": [
    "## Parameters and Arguments\n",
    "- Parameters are placeholders for values that a function can accept.\n",
    "- Arguments are the actual values passed to the function when it is called."
   ]
  },
  {
   "cell_type": "code",
   "execution_count": null,
   "metadata": {},
   "outputs": [],
   "source": [
    "# Function can take input (parameters)\n",
    "def greet(name): # name is parameter\n",
    "  print(f\"Hello {name}, Welcome to class\")"
   ]
  },
  {
   "cell_type": "code",
   "execution_count": null,
   "metadata": {},
   "outputs": [],
   "source": [
    "greet(\"Ahmad\")\n",
    "\n",
    "# other statements"
   ]
  },
  {
   "cell_type": "code",
   "execution_count": null,
   "id": "0c2b4050",
   "metadata": {},
   "outputs": [],
   "source": [
    "def add(x, y):\n",
    "    summ = x + y\n",
    "    return summ"
   ]
  },
  {
   "cell_type": "code",
   "execution_count": null,
   "id": "035f28ed",
   "metadata": {},
   "outputs": [],
   "source": [
    "result = add(12, 30)"
   ]
  },
  {
   "cell_type": "code",
   "execution_count": null,
   "id": "7abab830",
   "metadata": {},
   "outputs": [],
   "source": [
    "abc = greet(\"Arsalan\")"
   ]
  },
  {
   "cell_type": "code",
   "execution_count": null,
   "id": "9d688b50",
   "metadata": {},
   "outputs": [],
   "source": [
    "num1 = 13\n",
    "num2 = 14\n",
    "\n",
    "# Arguments are values passed to the function when calling it\n",
    "summ = add(num1, num2)"
   ]
  },
  {
   "cell_type": "code",
   "execution_count": null,
   "id": "e44ab847",
   "metadata": {},
   "outputs": [],
   "source": [
    "# functions can return multiple values\n",
    "def sum_and_prod(x, y, z):\n",
    "  print(f\"x = {x}, y = {y}, z = {z}\")\n",
    "  summ = x + y + z\n",
    "  prod = x * y * z\n",
    "  \n",
    "  return summ, prod"
   ]
  },
  {
   "cell_type": "code",
   "execution_count": null,
   "id": "55843897",
   "metadata": {},
   "outputs": [],
   "source": [
    "abc = sum_and_prod(2, 4, 6)\n",
    "abc"
   ]
  },
  {
   "cell_type": "code",
   "execution_count": null,
   "id": "67edfed2",
   "metadata": {},
   "outputs": [],
   "source": [
    "type(abc)"
   ]
  },
  {
   "cell_type": "markdown",
   "id": "4af2b702",
   "metadata": {},
   "source": [
    "## Variables and Scope\n",
    "Scope refers to the visibility and accessibility of variables in different parts of the code.\n",
    "- Variables defined inside a function are local to that function and cannot be accessed outside.\n",
    "- Variables defined outside a function are global and can be accessed inside the function."
   ]
  },
  {
   "cell_type": "code",
   "execution_count": null,
   "id": "c10615ff",
   "metadata": {},
   "outputs": [],
   "source": [
    "# Scope of variables\n",
    "def func():\n",
    "  a = 10 # local variable\n",
    "  print(a)\n",
    "func()\n",
    "# print(a)  # error, a is local to func()\n"
   ]
  },
  {
   "cell_type": "code",
   "execution_count": null,
   "id": "1607499a",
   "metadata": {},
   "outputs": [],
   "source": []
  },
  {
   "cell_type": "code",
   "execution_count": null,
   "id": "40dc001b",
   "metadata": {},
   "outputs": [
    {
     "name": "stdout",
     "output_type": "stream",
     "text": [
      "outside func2: 20\n",
      "inside func2: 50\n",
      "50\n"
     ]
    }
   ],
   "source": [
    "c = 20  # global variable\n",
    "print(f\"outside func2: {c}\")\n",
    "c = 40\n",
    "\n",
    "def func2():\n",
    "    global c\n",
    "    c = 50\n",
    "    print(f\"inside func2: {c}\")\n",
    "\n",
    "func2()\n",
    "\n",
    "print(c)"
   ]
  },
  {
   "cell_type": "code",
   "execution_count": 2,
   "id": "b66242b2",
   "metadata": {},
   "outputs": [
    {
     "name": "stdout",
     "output_type": "stream",
     "text": [
      "outside my_function: 10\n",
      "inside my_function: 12\n"
     ]
    }
   ],
   "source": [
    "aaa = 10\n",
    "print(f\"outside my_function: {aaa}\")\n",
    "\n",
    "\n",
    "def my_function():\n",
    "    aaa = 12\n",
    "    print(f\"inside my_function: {aaa}\")\n",
    "\n",
    "my_function()"
   ]
  },
  {
   "cell_type": "markdown",
   "id": "c22bf213",
   "metadata": {},
   "source": [
    "## Default, Positional, and Keyword Arguments\n",
    "- Default arguments have a default value if no argument is provided.\n",
    "- Positional arguments are passed in the order defined in the function.\n",
    "- Keyword arguments are passed by explicitly naming them, allowing for flexibility in order."
   ]
  },
  {
   "cell_type": "code",
   "execution_count": null,
   "id": "0ea34642",
   "metadata": {},
   "outputs": [],
   "source": [
    "# keyword arguments can be used to call functions\n",
    "# This allows passing arguments in any order\n",
    "def sum_and_prod(w, x, y, z):\n",
    "    print(f\"w = {w}, x = {x}, y = {y}, z = {z}\")\n",
    "    return w+x+y+z, w*x*y*z"
   ]
  },
  {
   "cell_type": "code",
   "execution_count": null,
   "id": "975ec2ab",
   "metadata": {},
   "outputs": [
    {
     "name": "stdout",
     "output_type": "stream",
     "text": [
      "w = 2, x = 3, y = 4, z = 5\n"
     ]
    },
    {
     "data": {
      "text/plain": [
       "(14, 120)"
      ]
     },
     "execution_count": 10,
     "metadata": {},
     "output_type": "execute_result"
    }
   ],
   "source": [
    "sum_and_prod(2, 3, 4, 5) # Passing arguments as positional args"
   ]
  },
  {
   "cell_type": "code",
   "execution_count": 12,
   "id": "9bd8d42f",
   "metadata": {},
   "outputs": [
    {
     "name": "stdout",
     "output_type": "stream",
     "text": [
      "w = 3, x = 2, y = 0, z = 1\n"
     ]
    },
    {
     "data": {
      "text/plain": [
       "(6, 0)"
      ]
     },
     "execution_count": 12,
     "metadata": {},
     "output_type": "execute_result"
    }
   ],
   "source": [
    "sum_and_prod(w=3, x=2, y=0, z=1) # Keyword arguments"
   ]
  },
  {
   "cell_type": "code",
   "execution_count": 15,
   "id": "9d363110",
   "metadata": {},
   "outputs": [
    {
     "name": "stdout",
     "output_type": "stream",
     "text": [
      "w = 4, x = 2, y = 10, z = 3\n"
     ]
    },
    {
     "data": {
      "text/plain": [
       "(19, 240)"
      ]
     },
     "execution_count": 15,
     "metadata": {},
     "output_type": "execute_result"
    }
   ],
   "source": [
    "sum_and_prod(y=10, x=2, z=3, w=4)"
   ]
  },
  {
   "cell_type": "code",
   "execution_count": 21,
   "id": "b7d21307",
   "metadata": {},
   "outputs": [
    {
     "name": "stdout",
     "output_type": "stream",
     "text": [
      "w = 5, x = 0, y = 0, z = 10\n"
     ]
    },
    {
     "data": {
      "text/plain": [
       "(15, 0)"
      ]
     },
     "execution_count": 21,
     "metadata": {},
     "output_type": "execute_result"
    }
   ],
   "source": [
    "def sum_and_prod(w=0, x=0, y=0, z=0):\n",
    "\n",
    "    print(f\"w = {w}, x = {x}, y = {y}, z = {z}\")\n",
    "\n",
    "    return w + x + y + z, w * x * y * z\n",
    "\n",
    "\n",
    "sum_and_prod(5, z=10)"
   ]
  },
  {
   "cell_type": "code",
   "execution_count": null,
   "id": "f2b3a9ba",
   "metadata": {},
   "outputs": [],
   "source": [
    "# default arguments\n",
    "def add(x=0, y=0, z =0):\n",
    "    print(f\"x = {x}, y = {y}, z={z}\")\n",
    "    summ = x + y + z\n",
    "    return summ\n",
    "\n",
    "summ"
   ]
  },
  {
   "cell_type": "code",
   "execution_count": null,
   "id": "82ffd6c3",
   "metadata": {},
   "outputs": [],
   "source": [
    "# passing arguments as positional args\n",
    "add(12, 10, 30)"
   ]
  },
  {
   "cell_type": "code",
   "execution_count": null,
   "id": "f4d86986",
   "metadata": {},
   "outputs": [],
   "source": [
    "# passign args as keyword args\n",
    "add(y=10, x=0, z=1)"
   ]
  },
  {
   "cell_type": "code",
   "execution_count": null,
   "id": "4dafc3de",
   "metadata": {},
   "outputs": [],
   "source": [
    "add(z=10) # you can skip default arguments"
   ]
  },
  {
   "cell_type": "markdown",
   "id": "23d6579e",
   "metadata": {},
   "source": [
    "## Lambda Functions\n",
    "- Lambda functions are small anonymous functions defined using the `lambda` keyword.\n",
    "- They can take any number of arguments but can only have one expression.\n",
    "The syntax for defining a lambda function is as follows:\n",
    "```python\n",
    "lambda arguments: expression\n",
    "```"
   ]
  },
  {
   "cell_type": "code",
   "execution_count": null,
   "id": "f05fe97f",
   "metadata": {},
   "outputs": [],
   "source": [
    "def square(x):\n",
    "  # statement 1\n",
    "  # stateme 2\n",
    "  return x ** 2\n",
    "\n",
    "square(3)"
   ]
  },
  {
   "cell_type": "code",
   "execution_count": null,
   "id": "c90ae306",
   "metadata": {},
   "outputs": [],
   "source": [
    "square = lambda x: x ** 2"
   ]
  },
  {
   "cell_type": "code",
   "execution_count": null,
   "id": "e2ccd53f",
   "metadata": {},
   "outputs": [],
   "source": [
    "square(4)"
   ]
  },
  {
   "cell_type": "markdown",
   "id": "518122b7",
   "metadata": {},
   "source": [
    "## Higher-Order Functions\n",
    "- Higher-order functions are functions that can take other functions as arguments or return functions as results.\n",
    "- Common higher-order functions in Python include `map()`, `filter()`, and `reduce()`."
   ]
  },
  {
   "cell_type": "code",
   "execution_count": null,
   "id": "01d104b4",
   "metadata": {},
   "outputs": [],
   "source": [
    "def add_one(x):\n",
    "  return x + 1\n",
    "\n",
    "def add_two(x):\n",
    "  return x + 2\n",
    "\n",
    "def increment(x, adder): # higher order function\n",
    "  return adder(x)"
   ]
  },
  {
   "cell_type": "code",
   "execution_count": null,
   "id": "e332e4a0",
   "metadata": {},
   "outputs": [],
   "source": [
    "increment(12, add_two)\n"
   ]
  },
  {
   "cell_type": "code",
   "execution_count": null,
   "id": "95b12001",
   "metadata": {},
   "outputs": [],
   "source": [
    "print(add_one)"
   ]
  },
  {
   "cell_type": "code",
   "execution_count": null,
   "id": "79a54360",
   "metadata": {},
   "outputs": [],
   "source": [
    "# map() applies a function to all items in an input list and returns \n",
    "# a new list with the results.\n",
    "numbers = list(range(0, 50, 4))\n",
    "numbers"
   ]
  },
  {
   "cell_type": "code",
   "execution_count": null,
   "id": "88ceb454",
   "metadata": {},
   "outputs": [],
   "source": [
    "list(map(lambda x: x+1, numbers))"
   ]
  },
  {
   "cell_type": "code",
   "execution_count": null,
   "id": "34c08251",
   "metadata": {},
   "outputs": [],
   "source": [
    "def my_filter(x):\n",
    "  return x > 24"
   ]
  },
  {
   "cell_type": "code",
   "execution_count": null,
   "id": "7c95cad5",
   "metadata": {},
   "outputs": [],
   "source": [
    "# filter() creates a list of elements for which a function returns true.\n",
    "list(filter(my_filter, numbers))"
   ]
  },
  {
   "cell_type": "code",
   "execution_count": null,
   "id": "b725103a",
   "metadata": {},
   "outputs": [],
   "source": [
    "# reduce() applies a rolling computation to sequential pairs of \n",
    "# values in a list and returns a single value.\n",
    "import maths_functions\n",
    "\n",
    "maths_functions.square(3)"
   ]
  },
  {
   "cell_type": "code",
   "execution_count": null,
   "id": "0fa11639",
   "metadata": {},
   "outputs": [],
   "source": [
    "import maths_functions as mfunc\n",
    "\n",
    "mfunc.pi"
   ]
  },
  {
   "cell_type": "code",
   "execution_count": null,
   "id": "4c132f00",
   "metadata": {},
   "outputs": [],
   "source": [
    "from maths_functions import square, pi\n",
    "\n",
    "square(24)"
   ]
  },
  {
   "cell_type": "code",
   "execution_count": null,
   "id": "3f779c5b",
   "metadata": {},
   "outputs": [],
   "source": [
    "pi"
   ]
  },
  {
   "cell_type": "code",
   "execution_count": null,
   "id": "eda6e1b9",
   "metadata": {},
   "outputs": [],
   "source": [
    "from functools import reduce\n",
    "\n",
    "reduce(lambda x, y: x*y, numbers)"
   ]
  },
  {
   "cell_type": "markdown",
   "id": "5acc9efd",
   "metadata": {},
   "source": [
    "# Errors and Exceptions\n",
    "- Errors are issues in the code that prevent it from running correctly.\n",
    "  - Syntax errors occur when the code does not follow the correct syntax rules.\n",
    "  - Runtime errors occur during the execution of the code.\n",
    "  - Logical errors occur when the code runs but produces incorrect results.\n",
    "- Exceptions are specific types of errors that can be handled using try-except blocks."
   ]
  },
  {
   "cell_type": "code",
   "execution_count": null,
   "id": "05b21577",
   "metadata": {},
   "outputs": [],
   "source": [
    "# Errors and Exceptions example\n",
    "num1 = float(input(\"Enter first number: \"))\n",
    "num2 = float(input(\"Enter second number: \"))\n",
    "\n",
    "summ = num1 + num2\n",
    "print(f\"Sum: {summ}\")\n",
    "\n",
    "diff = num1 - num2\n",
    "print(f\"Difference: {diff}\")\n",
    "\n",
    "prod = num1 * num2\n",
    "print(f\"Product: {prod}\")\n",
    "\n",
    "quot = num1 / num2 # Careful, problematic, try entering 0 for second number\n",
    "print(f\"Quotient: {quot}\")\n",
    "\n"
   ]
  },
  {
   "cell_type": "markdown",
   "id": "36f0b769",
   "metadata": {},
   "source": [
    "# Exception Handling\n",
    "- Exception handling allows you to manage errors gracefully without crashing the program.\n",
    "The syntax for handling exceptions in Python is as follows:\n",
    "```python\n",
    "try:\n",
    "    # Code that may raise an exception\n",
    "except ExceptionType: # Can be multiple except blocks for different exceptions\n",
    "    # Code to handle the exception\n",
    "finally:\n",
    "    # Optional code that runs regardless of whether an exception occurred\n",
    "```"
   ]
  },
  {
   "cell_type": "code",
   "execution_count": null,
   "id": "3e63fda0",
   "metadata": {},
   "outputs": [],
   "source": [
    "num1 = float(input(\"Enter first number: \"))\n",
    "num2 = float(input(\"Enter second number: \"))\n",
    "\n",
    "summ = num1 + num2\n",
    "print(f\"Sum: {summ}\")\n",
    "\n",
    "diff = num1 - num2\n",
    "print(f\"Difference: {diff}\")\n",
    "\n",
    "prod = num1 * num2\n",
    "print(f\"Product: {prod}\")\n",
    "\n",
    "# quot = num1 / num2  # Since division by zero can raise an exception, we will handle it\n",
    "\n",
    "try:\n",
    "    quot = num1 / num2\n",
    "except ZeroDivisionError:\n",
    "    quot = None\n",
    "    print(\"Error: Division by zero is not allowed.\")\n",
    "\n",
    "\n",
    "print(f\"Quotient: {quot}\")"
   ]
  },
  {
   "cell_type": "code",
   "execution_count": null,
   "id": "0f32ab67",
   "metadata": {},
   "outputs": [],
   "source": [
    "# You can check for multiple exceptions\n",
    "try:\n",
    "  quot = num1 / num2\n",
    "except ZeroDivisionError:\n",
    "  quot = None\n",
    "  print(\"Error: Division by zero is not allowed.\")\n",
    "except Exception as e:\n",
    "  print(e)\n",
    "  print(\"Something went wrong!\")"
   ]
  },
  {
   "cell_type": "code",
   "execution_count": null,
   "id": "db6092cc",
   "metadata": {},
   "outputs": [],
   "source": [
    "# Error handling can optionally include else block, which is executed\n",
    "# when no error occurs in try block\n",
    "try:\n",
    "    quot = num1 / num2\n",
    "except ZeroDivisionError:\n",
    "    quot = None\n",
    "    print(\"Error: Division by zero is not allowed.\")\n",
    "except Exception as e:\n",
    "    print(e)\n",
    "else: # this block is executed when no error occurs in try block\n",
    "  print(\"No error occurred\")"
   ]
  },
  {
   "cell_type": "code",
   "execution_count": null,
   "id": "b59e59b4",
   "metadata": {},
   "outputs": [],
   "source": [
    "# Error handling can optionally include finally block, which is\n",
    "# always executed at the end. It doesn't matter whether error occurs\n",
    "# or not in the try block. Usually used for releasing resources\n",
    "\n",
    "try:\n",
    "  file = open(\"example.txt\", \"w\") # open a file for writing\n",
    "  file.write(\"Hello World!\\n\")\n",
    "  result = num1 / num2  # error can occur if num2 is zero\n",
    "except ZeroDivisionError:\n",
    "    print(\"Error: Division by zero is not allowed.\")\n",
    "finally:\n",
    "    file.close()\n",
    "    print(\"File closed. This block is always executed, releasing resources if needed.\")\n"
   ]
  },
  {
   "cell_type": "markdown",
   "id": "8e2f06fe",
   "metadata": {},
   "source": [
    "# Working with Files\n",
    "- Python allows you to read from and write to files on your system.\n",
    "- Common file operations include opening, reading, writing, and closing files.\n",
    "- The syntax for file handling in Python is as follows:\n",
    "```python\n",
    "file = open('filename', 'mode')  # Open a file\n",
    "# Perform file operations (read, write, etc.)\n",
    "file.close()  # Close the file\n",
    "```\n"
   ]
  },
  {
   "cell_type": "code",
   "execution_count": null,
   "id": "c72506dd",
   "metadata": {},
   "outputs": [],
   "source": [
    "\"Ahmad\\\"s cat\""
   ]
  },
  {
   "cell_type": "code",
   "execution_count": null,
   "id": "1cefc11a",
   "metadata": {},
   "outputs": [],
   "source": [
    "\"C:\\\\Users\\\\DIPLAB\\\\Desktop\\\\Summer of Code - AI\\\\Week 02\\\\Notebooks\\\\functions.txt\""
   ]
  },
  {
   "cell_type": "code",
   "execution_count": null,
   "id": "7282e3e5",
   "metadata": {},
   "outputs": [],
   "source": [
    "# Absolute Path\n",
    "# open(\"C:\\\\Users\\\\DIPLAB\\\\Desktop\\\\Summer of Code - AI\\\\Week 02\\\\Notebooks\\\\functions.txt\", 'r')"
   ]
  },
  {
   "cell_type": "code",
   "execution_count": null,
   "id": "09b711b7",
   "metadata": {},
   "outputs": [],
   "source": [
    "# Relative Path\n",
    "file = open(\"functions.txt\", mode='r')\n",
    "file"
   ]
  },
  {
   "cell_type": "code",
   "execution_count": null,
   "id": "7bb79b47",
   "metadata": {},
   "outputs": [],
   "source": [
    "file.name"
   ]
  },
  {
   "cell_type": "code",
   "execution_count": null,
   "id": "035f6e58",
   "metadata": {},
   "outputs": [],
   "source": [
    "file.closed"
   ]
  },
  {
   "cell_type": "code",
   "execution_count": null,
   "id": "918965b3",
   "metadata": {},
   "outputs": [],
   "source": [
    "file.close()"
   ]
  },
  {
   "cell_type": "code",
   "execution_count": null,
   "id": "a6d2076e",
   "metadata": {},
   "outputs": [],
   "source": [
    "file.closed"
   ]
  },
  {
   "cell_type": "code",
   "execution_count": null,
   "id": "5f3bbe51",
   "metadata": {},
   "outputs": [],
   "source": [
    "file.read()"
   ]
  },
  {
   "cell_type": "code",
   "execution_count": null,
   "id": "105d0ed4",
   "metadata": {},
   "outputs": [],
   "source": [
    "file = open('functions.txt', 'r')\n",
    "file"
   ]
  },
  {
   "cell_type": "markdown",
   "id": "a238c176",
   "metadata": {},
   "source": [
    "## Reading from Files\n",
    "- read()\n",
    "- readline()\n",
    "- readlines()"
   ]
  },
  {
   "cell_type": "code",
   "execution_count": null,
   "id": "2ca5b3a9",
   "metadata": {},
   "outputs": [],
   "source": [
    "file.read()"
   ]
  },
  {
   "cell_type": "code",
   "execution_count": null,
   "id": "50b42868",
   "metadata": {},
   "outputs": [],
   "source": [
    "file.read() # since cursor is at the end of the file"
   ]
  },
  {
   "cell_type": "code",
   "execution_count": null,
   "id": "41f79bfc",
   "metadata": {},
   "outputs": [],
   "source": [
    "# To move cursor to the starting position\n",
    "file.seek(0)"
   ]
  },
  {
   "cell_type": "code",
   "execution_count": null,
   "id": "501b8bbf",
   "metadata": {},
   "outputs": [],
   "source": [
    "# readline\n",
    "file.readline()"
   ]
  },
  {
   "cell_type": "code",
   "execution_count": null,
   "id": "43e5e312",
   "metadata": {},
   "outputs": [],
   "source": [
    "# To know the cursor position\n",
    "file.tell()"
   ]
  },
  {
   "cell_type": "code",
   "execution_count": null,
   "id": "368e2154",
   "metadata": {},
   "outputs": [],
   "source": [
    "file.readline()"
   ]
  },
  {
   "cell_type": "code",
   "execution_count": null,
   "id": "2bee4094",
   "metadata": {},
   "outputs": [],
   "source": [
    "file.readline()"
   ]
  },
  {
   "cell_type": "code",
   "execution_count": null,
   "id": "4faa100f",
   "metadata": {},
   "outputs": [],
   "source": [
    "file.readline()"
   ]
  },
  {
   "cell_type": "code",
   "execution_count": null,
   "id": "656440ec",
   "metadata": {},
   "outputs": [],
   "source": [
    "file.readline()"
   ]
  },
  {
   "cell_type": "code",
   "execution_count": null,
   "id": "c4b54202",
   "metadata": {},
   "outputs": [],
   "source": [
    "file.readline()"
   ]
  },
  {
   "cell_type": "code",
   "execution_count": null,
   "id": "6c2cf7ca",
   "metadata": {},
   "outputs": [],
   "source": [
    "file.readline()"
   ]
  },
  {
   "cell_type": "code",
   "execution_count": null,
   "id": "c42a6b50",
   "metadata": {},
   "outputs": [],
   "source": [
    "file.readline() # reached end"
   ]
  },
  {
   "cell_type": "code",
   "execution_count": null,
   "id": "3e2da570",
   "metadata": {},
   "outputs": [],
   "source": [
    "# move cursor to starting position again\n",
    "file.seek(0)"
   ]
  },
  {
   "cell_type": "code",
   "execution_count": null,
   "id": "5ad54d7c",
   "metadata": {},
   "outputs": [],
   "source": [
    "# readlines\n",
    "file.readlines()"
   ]
  },
  {
   "cell_type": "code",
   "execution_count": null,
   "id": "4d2b15ca",
   "metadata": {},
   "outputs": [],
   "source": [
    "file.close()"
   ]
  },
  {
   "cell_type": "markdown",
   "id": "42aec84f",
   "metadata": {},
   "source": [
    "## Writing to Files\n",
    "- write(\"text\")\n",
    "- writelines([\"list\", \"of\", \"texts\"])"
   ]
  },
  {
   "cell_type": "code",
   "execution_count": null,
   "id": "020904a3",
   "metadata": {},
   "outputs": [],
   "source": [
    "f = open('functions.txt', mode='w')\n",
    "f.write(\"This is a line\")\n",
    "f.write(\"\\n\")\n",
    "f.write(\"This is second line\")\n",
    "f.close() # file will be updated after it is closed"
   ]
  },
  {
   "cell_type": "code",
   "execution_count": null,
   "id": "b7a2961b",
   "metadata": {},
   "outputs": [],
   "source": [
    "poem = [\n",
    "  \"Twinkle twinkle little stars\\n\",\n",
    "  \"how i wonder what you are\\n\",\n",
    "  \"statements\\n\"\n",
    "]\n",
    "\n",
    "f = open(f'functions.txt', mode='a')\n",
    "f.writelines(poem)\n",
    "f.close()"
   ]
  },
  {
   "cell_type": "markdown",
   "id": "5883dd2f",
   "metadata": {},
   "source": [
    "## Context Managers\n",
    "- Context managers provide a way to manage resources, such as file handling, ensuring that they are properly acquired and released.\n",
    "- In Python, the `with` statement is used to create a context manager.\n",
    "\n",
    "The syntax for using a context manager is as follows:\n",
    "```python\n",
    "with open('filename', 'mode') as file:\n",
    "    # Perform file operations (read, write, etc.)\n",
    "    # The file is automatically closed when the block is exited\n",
    "```"
   ]
  },
  {
   "cell_type": "code",
   "execution_count": null,
   "id": "e28430f8",
   "metadata": {},
   "outputs": [],
   "source": [
    "with open('functions.txt', mode='r') as f:\n",
    "  f.readlines()"
   ]
  },
  {
   "cell_type": "code",
   "execution_count": null,
   "id": "dd2e8aa0",
   "metadata": {},
   "outputs": [],
   "source": [
    "with open(\"functions.txt\", mode=\"a\") as f:\n",
    "    f.write(\"Wajahat\")\n",
    "\n",
    "print(\"File closed\")"
   ]
  }
 ],
 "metadata": {
  "kernelspec": {
   "display_name": "tf-env",
   "language": "python",
   "name": "python3"
  },
  "language_info": {
   "codemirror_mode": {
    "name": "ipython",
    "version": 3
   },
   "file_extension": ".py",
   "mimetype": "text/x-python",
   "name": "python",
   "nbconvert_exporter": "python",
   "pygments_lexer": "ipython3",
   "version": "3.9.21"
  }
 },
 "nbformat": 4,
 "nbformat_minor": 5
}
