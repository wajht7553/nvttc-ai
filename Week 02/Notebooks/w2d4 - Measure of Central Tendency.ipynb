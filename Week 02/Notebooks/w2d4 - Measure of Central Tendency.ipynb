{
    "cells": [
        {
            "cell_type": "markdown",
            "id": "2feae60a",
            "metadata": {},
            "source": [
                "# Summer of Code - Artificial Intelligence\n",
                "## Week 02: Descriptive Statistics and Probability\n",
                "### Day 04: Measure of Central Tendency\n",
                "\n",
                "In this notebook, we will learn about **Data, its types, and Measures of Central Tendency** using Python."
            ]
        },
        {
            "cell_type": "markdown",
            "id": "3c110963",
            "metadata": {},
            "source": [
                "# What is Statistics?\n",
                "Statistics is the science of collecting, organizing, analyzing, and interpreting data.\n",
                "- By collection we mean gathering data from various sources.\n",
                "- By organization we mean arranging the data in a systematic way.\n",
                "- By analysis we mean examining the data to find patterns and relationships.\n",
                "- By interpretation we mean making sense of the data and drawing conclusions."
            ]
        },
        {
            "cell_type": "markdown",
            "id": "a24f72d3",
            "metadata": {},
            "source": [
                "## Descriptive Statistics\n",
                "Descriptive statistics deals with summarizing and describing the main features of a data. It provides simple summaries about the sample and the measures. Descriptive statistics is used to present quantitative descriptions in a manageable form."
            ]
        },
        {
            "cell_type": "markdown",
            "id": "eb0bb4df",
            "metadata": {},
            "source": [
                "# Data\n",
                "Data is a collection of information that can be analyzed and used to make decisions.\n",
                "- Data can be in the form of numbers, text, images, audio, video, etc.\n",
                "- Data can be structured (organized in a specific format) or unstructured (not organized in a specific format)."
            ]
        },
        {
            "cell_type": "markdown",
            "id": "9bd8a3d9",
            "metadata": {},
            "source": [
                "## Types of Data\n",
                "1. **Quantitative Data**: Numerical data that can be measured and counted.\n",
                "   - Examples: Height, weight, age, income, temperature.\n",
                "2. **Qualitative Data**: Categorical data that describes characteristics or attributes\n",
                "    - Examples: Gender, race, marital status, education level, eye color."
            ]
        },
        {
            "cell_type": "markdown",
            "id": "d0decc85",
            "metadata": {},
            "source": [
                "### Quantitative Data\n",
                "Quantitative data can be further classified into two types:\n",
                "1. **Discrete Data**: Data that can take on only specific values (usually whole numbers).\n",
                "   - Examples: Number of students in a class, number of cars in a parking lot.\n",
                "2. **Continuous Data**: Data that can take on any value within a range (including fractions and decimals).\n",
                "    - Examples: Height, weight, temperature, time."
            ]
        },
        {
            "cell_type": "markdown",
            "id": "d27b99d0",
            "metadata": {},
            "source": [
                "### Qualitative Data\n",
                "Qualitative data can be further classified into two types:\n",
                "1. **Nominal Data**: Data that can be categorized but not ordered.\n",
                "   - Examples: Gender, race, marital status, education level, eye color.\n",
                "2. **Ordinal Data**: Data that can be categorized and ordered.\n",
                "   - Examples: Education level (high school, bachelor's, master's, doctorate), customer satisfaction (very unsatisfied, unsatisfied, neutral, satisfied, very satisfied)."
            ]
        },
        {
            "cell_type": "code",
            "execution_count": 2,
            "id": "be6477bf",
            "metadata": {},
            "outputs": [
                {
                    "name": "stdout",
                    "output_type": "stream",
                    "text": [
                        "2\n",
                        "3\n",
                        "1\n",
                        "1\n",
                        "1\n"
                    ]
                }
            ],
            "source": [
                "# Categorical/Qualitative\n",
                "fruits = [\"Apple\", \"Banana\", \"Cherry\", \"Apple\", \"Date\", \"Banana\", \"Banana\", \"Grape\"]\n",
                "\n",
                "Apple = 0\n",
                "Banana = 0\n",
                "Cherry = 0\n",
                "Date = 0\n",
                "Grape = 0\n",
                "\n",
                "for fruit in fruits:\n",
                "    if fruit == \"Apple\":\n",
                "        Apple += 1\n",
                "    elif fruit == \"Banana\":\n",
                "        Banana += 1\n",
                "    elif fruit == \"Cherry\":\n",
                "        Cherry += 1\n",
                "    elif fruit == \"Date\":\n",
                "        Date += 1\n",
                "    elif fruit == \"Grape\":\n",
                "        Grape += 1\n",
                "\n",
                "print(Apple)\n",
                "print(Banana)\n",
                "print(Cherry)\n",
                "print(Date)\n",
                "print(Grape)"
            ]
        },
        {
            "cell_type": "code",
            "execution_count": 3,
            "id": "9b3aaaa7",
            "metadata": {},
            "outputs": [
                {
                    "data": {
                        "text/plain": [
                            "{'Apple': 2, 'Banana': 3, 'Cherry': 1, 'Date': 1, 'Grape': 1}"
                        ]
                    },
                    "execution_count": 3,
                    "metadata": {},
                    "output_type": "execute_result"
                }
            ],
            "source": [
                "fruit_counts = {\n",
                "    \"Apple\": 0,\n",
                "    \"Banana\": 0,\n",
                "    \"Cherry\": 0,\n",
                "    \"Date\": 0,\n",
                "    \"Grape\": 0,\n",
                "}\n",
                "\n",
                "for fruit in fruits:\n",
                "    fruit_counts[fruit] += 1\n",
                "\n",
                "fruit_counts"
            ]
        },
        {
            "cell_type": "code",
            "execution_count": 4,
            "id": "118045f0",
            "metadata": {},
            "outputs": [],
            "source": [
                "# name, class, marks\n",
                "row1 = [\"Ahmad\", \"Physics\", 90]\n",
                "row2 = [\"Ali\", \"Chemistry\", 90]"
            ]
        },
        {
            "cell_type": "code",
            "execution_count": 8,
            "id": "4e83c9af",
            "metadata": {},
            "outputs": [
                {
                    "data": {
                        "text/plain": [
                            "['Ahmad', 'Physics', 90]"
                        ]
                    },
                    "execution_count": 8,
                    "metadata": {},
                    "output_type": "execute_result"
                }
            ],
            "source": [
                "table = [\n",
                "    [\"Ahmad\", \"Physics\", 90],\n",
                "    [\"Ali\", \"Chemistry\", 90],\n",
                "    [\"Ali\", \"Chemistry\", 90]\n",
                "    ]\n",
                "\n",
                "table[0]"
            ]
        },
        {
            "cell_type": "code",
            "execution_count": 9,
            "id": "7030e64b",
            "metadata": {},
            "outputs": [
                {
                    "data": {
                        "text/plain": [
                            "'Ahmad'"
                        ]
                    },
                    "execution_count": 9,
                    "metadata": {},
                    "output_type": "execute_result"
                }
            ],
            "source": [
                "table[0][0]"
            ]
        },
        {
            "cell_type": "markdown",
            "id": "0529494d",
            "metadata": {},
            "source": [
                "# Measures of Central Tendency\n",
                "Measures of central tendency are statistical measures that describe the center or average of a dataset. The three most common measures of central tendency are:\n",
                "1. **Mean**: The mean is the sum of all the values in a dataset divided by the number of values. It is also known as the average, calculated as:\n",
                "$$\\text{Mean} = \\frac{\\sum_{i=1}^{n} x_i}{n}$$\n"
            ]
        },
        {
            "cell_type": "code",
            "execution_count": 20,
            "id": "24eeb95e",
            "metadata": {},
            "outputs": [
                {
                    "data": {
                        "text/plain": [
                            "45.285714285714285"
                        ]
                    },
                    "execution_count": 20,
                    "metadata": {},
                    "output_type": "execute_result"
                }
            ],
            "source": [
                "numerical_data = [12, 19, 30, 25, 21, 10, 200]\n",
                "\n",
                "summ = 0\n",
                "for number in numerical_data:\n",
                "    summ += number\n",
                "    \n",
                "average = summ / len(numerical_data)\n",
                "average"
            ]
        },
        {
            "cell_type": "code",
            "execution_count": 21,
            "id": "c6c25e0e",
            "metadata": {},
            "outputs": [
                {
                    "data": {
                        "text/plain": [
                            "45.285714285714285"
                        ]
                    },
                    "execution_count": 21,
                    "metadata": {},
                    "output_type": "execute_result"
                }
            ],
            "source": [
                "sum(numerical_data) / len(numerical_data)"
            ]
        },
        {
            "cell_type": "markdown",
            "id": "34485a97",
            "metadata": {},
            "source": [
                "\n",
                "where $x_i$ represents each value in the dataset and $n$ is the total number of values.\n",
                "\n",
                "2. **Median**: The median is the middle value in a dataset when the values are arranged in ascending or descending order. If there is an even number of values, the median is the average of the two middle values.\n"
            ]
        },
        {
            "cell_type": "code",
            "execution_count": null,
            "id": "ab7fcfac",
            "metadata": {},
            "outputs": [
                {
                    "data": {
                        "text/plain": [
                            "[10, 12, 19, 21, 25, 30]"
                        ]
                    },
                    "execution_count": 15,
                    "metadata": {},
                    "output_type": "execute_result"
                }
            ],
            "source": [
                "numerical_data = [12, 19, 30, 25, 21, 10, 200]\n",
                "\n",
                "numerical_data.sort() # changes original data\n",
                "numerical_data"
            ]
        },
        {
            "cell_type": "code",
            "execution_count": 22,
            "id": "7a0570df",
            "metadata": {},
            "outputs": [
                {
                    "data": {
                        "text/plain": [
                            "[10, 12, 19, 21, 25, 30, 200]"
                        ]
                    },
                    "execution_count": 22,
                    "metadata": {},
                    "output_type": "execute_result"
                }
            ],
            "source": [
                "numerical_data = [12, 19, 30, 25, 21, 10, 200]\n",
                "\n",
                "numerical_data_sorted = sorted(numerical_data)\n",
                "\n",
                "numerical_data_sorted"
            ]
        },
        {
            "cell_type": "code",
            "execution_count": 17,
            "id": "3a826a3e",
            "metadata": {},
            "outputs": [
                {
                    "data": {
                        "text/plain": [
                            "[12, 19, 30, 25, 21, 10]"
                        ]
                    },
                    "execution_count": 17,
                    "metadata": {},
                    "output_type": "execute_result"
                }
            ],
            "source": [
                "numerical_data"
            ]
        },
        {
            "cell_type": "code",
            "execution_count": 23,
            "id": "aa3846b8",
            "metadata": {},
            "outputs": [
                {
                    "name": "stdout",
                    "output_type": "stream",
                    "text": [
                        "25\n"
                    ]
                }
            ],
            "source": [
                "if len(numerical_data_sorted) % 2 == 0:\n",
                "    idx1 = len(numerical_data_sorted) // 2\n",
                "    idx2 = len(numerical_data_sorted) // 2 + 1\n",
                "    median = (numerical_data_sorted[idx1] + numerical_data_sorted[idx2]) / 2\n",
                "else:\n",
                "    idx = (len(numerical_data_sorted) + 1) // 2\n",
                "    median = numerical_data_sorted[idx]\n",
                "\n",
                "print(median)"
            ]
        },
        {
            "cell_type": "markdown",
            "id": "2fce9234",
            "metadata": {},
            "source": [
                "3. **Mode**: The mode is the value that appears most frequently in a dataset. A dataset may have one mode, more than one mode, or no mode at all."
            ]
        }
    ],
    "metadata": {
        "kernelspec": {
            "display_name": "pt-env",
            "language": "python",
            "name": "python3"
        },
        "language_info": {
            "codemirror_mode": {
                "name": "ipython",
                "version": 3
            },
            "file_extension": ".py",
            "mimetype": "text/x-python",
            "name": "python",
            "nbconvert_exporter": "python",
            "pygments_lexer": "ipython3",
            "version": "3.12.0"
        }
    },
    "nbformat": 4,
    "nbformat_minor": 5
}
