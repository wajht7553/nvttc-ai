{
 "cells": [
  {
   "cell_type": "markdown",
   "id": "cce0b3e7",
   "metadata": {},
   "source": [
    "# Summer of Code - Artificial Intelligence\n",
    "## Week 02: Descriptive Statistics and Probability\n",
    "### Day 05: Measure of Dispersion\n",
    "\n",
    "In this notebook, we will learn about **Measures of Dispersion** using Python."
   ]
  },
  {
   "cell_type": "markdown",
   "id": "3f40ddef",
   "metadata": {},
   "source": [
    "## `scipy` Library\n",
    "The `scipy` library is a powerful library for scientific and technical computing in Python.\n",
    "### `scipy.stats` Module\n",
    "The `scipy.stats` module provides a wide range of statistical functions and tools."
   ]
  },
  {
   "cell_type": "markdown",
   "id": "4c34f208",
   "metadata": {
    "vscode": {
     "languageId": "plaintext"
    }
   },
   "source": [
    "# Measures of Dispersion\n",
    "Dispersion or variability describes the extent to which a data distribution is spread out or clustered together. It provides insights into the spread of data points around a central value, such as the mean or median. Common measures of dispersion include:\n",
    "- **Range**\n",
    "- **Variance**\n",
    "- **Standard Deviation**"
   ]
  },
  {
   "cell_type": "markdown",
   "id": "b3be4521",
   "metadata": {},
   "source": [
    "## Range\n",
    "The range is the simplest measure of dispersion, calculated as the difference between the maximum and minimum values in a dataset. Mathematically, it is expressed as:\n",
    "$$\\text{Range} = \\text{Max} - \\text{Min}$$"
   ]
  },
  {
   "cell_type": "code",
   "execution_count": null,
   "id": "fa215257",
   "metadata": {},
   "outputs": [],
   "source": [
    "age = [12, 30, 40, 25, 10, 35, 24]\n",
    "age"
   ]
  },
  {
   "cell_type": "code",
   "execution_count": null,
   "id": "30a7b879",
   "metadata": {},
   "outputs": [],
   "source": [
    "max(age) - min(age)"
   ]
  },
  {
   "cell_type": "code",
   "execution_count": null,
   "id": "cb5b1e2e",
   "metadata": {},
   "outputs": [],
   "source": [
    "mean_age = sum(age) / len(age)\n",
    "print(mean_age)"
   ]
  },
  {
   "cell_type": "markdown",
   "id": "e6784978",
   "metadata": {},
   "source": [
    "## Variance\n",
    "Variance quantifies the average squared deviation of each data point from the mean. It provides a measure of how much the data points vary around the mean. The formula for variance (σ²) is:\n",
    "$$\\sigma^2 = \\frac{1}{N} \\sum_{i=1}^{N} (x_i - \\mu)^2$$\n",
    "where:\n",
    "- $N$ is the number of data points\n",
    "- $x_i$ is each individual data point\n",
    "- $\\mu$ is the mean of the data points"
   ]
  },
  {
   "cell_type": "code",
   "execution_count": null,
   "id": "08a0857c",
   "metadata": {},
   "outputs": [],
   "source": [
    "sum_of_squared_deviation = 0\n",
    "for item in age:\n",
    "    deviation = (item - mean_age) ** 2\n",
    "    sum_of_squared_deviation += deviation\n",
    "sum_of_squared_deviation"
   ]
  },
  {
   "cell_type": "code",
   "execution_count": null,
   "id": "89d45a3f",
   "metadata": {},
   "outputs": [],
   "source": [
    "variance = sum_of_squared_deviation / len(age)\n",
    "print(variance)"
   ]
  },
  {
   "cell_type": "markdown",
   "id": "86c94518",
   "metadata": {},
   "source": [
    "## Standard Deviation\n",
    "Standard deviation is the square root of the variance and provides a measure of dispersion in the same units as the original data. It indicates how much the data points typically deviate from the mean. The formula for standard deviation (σ) is:\n",
    "$$\\sigma = \\sqrt{\\sigma^2} = \\sqrt{\\frac{1}{N} \\sum_{i=1}^{N} (x_i - \\mu)^2}$$\n",
    "where:\n",
    "- $N$ is the number of data points\n",
    "- $x_i$ is each individual data point\n",
    "- $\\mu$ is the mean of the data points"
   ]
  },
  {
   "cell_type": "code",
   "execution_count": null,
   "id": "0a7cc7e6",
   "metadata": {},
   "outputs": [],
   "source": [
    "# standard deviation in statistics\n",
    "std = variance**0.5\n",
    "std"
   ]
  },
  {
   "cell_type": "markdown",
   "id": "4f1f3af9",
   "metadata": {},
   "source": [
    "## Skewness\n",
    "Skewness measures the asymmetry of a data distribution around its mean.\n"
   ]
  },
  {
   "cell_type": "code",
   "execution_count": 13,
   "id": "df5f7c9b",
   "metadata": {},
   "outputs": [
    {
     "name": "stdout",
     "output_type": "stream",
     "text": [
      "Requirement already satisfied: scipy in c:\\users\\diplab\\.conda\\envs\\pt-env\\lib\\site-packages (1.16.1)\n",
      "Requirement already satisfied: numpy<2.6,>=1.25.2 in c:\\users\\diplab\\.conda\\envs\\pt-env\\lib\\site-packages (from scipy) (1.26.3)\n"
     ]
    }
   ],
   "source": [
    "!pip install scipy"
   ]
  },
  {
   "cell_type": "code",
   "execution_count": 12,
   "id": "8373a5bd",
   "metadata": {},
   "outputs": [
    {
     "data": {
      "text/plain": [
       "<module 'scipy.stats' from 'c:\\\\Users\\\\DIPLAB\\\\.conda\\\\envs\\\\pt-env\\\\Lib\\\\site-packages\\\\scipy\\\\stats\\\\__init__.py'>"
      ]
     },
     "execution_count": 12,
     "metadata": {},
     "output_type": "execute_result"
    }
   ],
   "source": [
    "# skewness using scipy library\n",
    "from scipy import stats\n",
    "\n",
    "stats"
   ]
  },
  {
   "cell_type": "code",
   "execution_count": 15,
   "id": "e87e4fb4",
   "metadata": {},
   "outputs": [
    {
     "data": {
      "text/plain": [
       "[1, 2, 3, 4, 5, 6, 7, 8, 9, 10]"
      ]
     },
     "execution_count": 15,
     "metadata": {},
     "output_type": "execute_result"
    }
   ],
   "source": [
    "data = list(range(1, 102))\n",
    "data[:10]"
   ]
  },
  {
   "cell_type": "code",
   "execution_count": 16,
   "id": "22223aa5",
   "metadata": {},
   "outputs": [
    {
     "data": {
      "text/plain": [
       "0.0"
      ]
     },
     "execution_count": 16,
     "metadata": {},
     "output_type": "execute_result"
    }
   ],
   "source": [
    "stats.skew(data)"
   ]
  },
  {
   "cell_type": "code",
   "execution_count": 21,
   "id": "54ca68c3",
   "metadata": {},
   "outputs": [
    {
     "data": {
      "text/plain": [
       "-2.003813521290219"
      ]
     },
     "execution_count": 21,
     "metadata": {},
     "output_type": "execute_result"
    }
   ],
   "source": [
    "data = [-1000, -990, 10, 10, 3, 2, 5, 10, 15, 20, 25, 10, 110, 100]\n",
    "stats.skew(data)"
   ]
  },
  {
   "cell_type": "markdown",
   "id": "3cc238ca",
   "metadata": {},
   "source": [
    "## Kurtosis\n",
    "Kurtosis measures the \"tailedness\" of a data distribution, indicating the presence of outliers."
   ]
  },
  {
   "cell_type": "code",
   "execution_count": null,
   "id": "99b44383",
   "metadata": {},
   "outputs": [],
   "source": [
    "# kurtosis using scipy library"
   ]
  },
  {
   "cell_type": "markdown",
   "id": "62cacfce",
   "metadata": {},
   "source": [
    "# Measures of Position\n",
    "Measures of position describe the relative standing of a data point within a dataset. They help to identify where a particular value lies in relation to the rest of the data. Common measures of position include:\n",
    "- ***z* scores**\n",
    "- **Percentiles**\n",
    "- **Quartiles**"
   ]
  },
  {
   "cell_type": "markdown",
   "id": "fd9e4c78",
   "metadata": {},
   "source": [
    "## Percentiles, Deciles, and Quartiles\n",
    "Percentiles indicate the value below which a given percentage of observations in a dataset fall. For example, the 25th percentile (P25) is the value below which 25% of the data points lie.\n",
    "To calculate the pth percentile, the formula is:\n",
    "$$P_p = \\left( \\frac{p}{100} \\right) \\times (N)$$\n",
    "where:\n",
    "- $P_p$ is the index of pth percentile\n",
    "- $p$ is the desired percentile (e.g., 25 for the 25th percentile)\n",
    "- $N$ is the number of data points\n"
   ]
  },
  {
   "cell_type": "code",
   "execution_count": 24,
   "id": "9bdd9dcb",
   "metadata": {},
   "outputs": [
    {
     "data": {
      "text/plain": [
       "101"
      ]
     },
     "execution_count": 24,
     "metadata": {},
     "output_type": "execute_result"
    }
   ],
   "source": [
    "data = list(range(1, 102))\n",
    "len(data)"
   ]
  },
  {
   "cell_type": "code",
   "execution_count": null,
   "id": "73297b05",
   "metadata": {},
   "outputs": [
    {
     "data": {
      "text/plain": [
       "52"
      ]
     },
     "execution_count": 27,
     "metadata": {},
     "output_type": "execute_result"
    }
   ],
   "source": [
    "median = data[(len(data) + 1)//2]\n"
   ]
  },
  {
   "cell_type": "code",
   "execution_count": 29,
   "id": "a0f01efd",
   "metadata": {},
   "outputs": [
    {
     "data": {
      "text/plain": [
       "50.5"
      ]
     },
     "execution_count": 29,
     "metadata": {},
     "output_type": "execute_result"
    }
   ],
   "source": [
    "pos = 50/100 * len(data)\n",
    "pos"
   ]
  },
  {
   "cell_type": "code",
   "execution_count": 31,
   "id": "b590dfbd",
   "metadata": {},
   "outputs": [
    {
     "data": {
      "text/plain": [
       "52"
      ]
     },
     "execution_count": 31,
     "metadata": {},
     "output_type": "execute_result"
    }
   ],
   "source": [
    "data[51]"
   ]
  },
  {
   "cell_type": "code",
   "execution_count": 33,
   "id": "55645729",
   "metadata": {},
   "outputs": [
    {
     "data": {
      "text/plain": [
       "51.0"
      ]
     },
     "execution_count": 33,
     "metadata": {},
     "output_type": "execute_result"
    }
   ],
   "source": [
    "import numpy as np\n",
    "\n",
    "\n",
    "np.percentile(data, 50)"
   ]
  },
  {
   "cell_type": "markdown",
   "id": "e9fe8831",
   "metadata": {},
   "source": [
    "## Interquartile Range (IQR)\n",
    "The interquartile range (IQR) is the difference between the third quartile (Q3) and the first quartile (Q1). It measures the spread of the middle 50% of the data and is calculated as:\n",
    "$$\\text{IQR} = Q3 - Q1$$\n",
    "It is useful for identifying outliers in a dataset."
   ]
  },
  {
   "cell_type": "markdown",
   "id": "ff3b7c4a",
   "metadata": {},
   "source": [
    "# The Normal Distribution\n",
    "The normal distribution, also known as the Gaussian distribution, is a continuous probability distribution characterized by its bell-shaped curve. It is defined by two parameters: the mean (μ) and the standard deviation (σ). The normal distribution is symmetric around the mean, with approximately 68% of the data falling within one standard deviation of the mean, 95% within two standard deviations, and 99.7% within three standard deviations.\n",
    "- Mean, Median, and Mode: In a normal distribution, the mean, median, and mode are all equal.\n"
   ]
  },
  {
   "cell_type": "markdown",
   "id": "5f9c8960",
   "metadata": {},
   "source": [
    "# Standard Normal Distribution and *z* Scores\n",
    "The standard normal distribution is a special case of the normal distribution with a mean of 0 and a standard deviation of 1. It is often denoted as N(0, 1). The standard normal distribution is used to calculate z-scores, which indicate how many standard deviations a data point is from the mean. The formula for calculating a z-score is:\n",
    "$$z = \\frac{(x - \\mu)}{\\sigma}$$\n",
    "where:\n",
    "- $x$ is the individual data point\n",
    "- $\\mu$ is the mean of the data points\n",
    "- $\\sigma$ is the standard deviation"
   ]
  },
  {
   "cell_type": "code",
   "execution_count": 3,
   "id": "a6921d26",
   "metadata": {},
   "outputs": [
    {
     "data": {
      "text/plain": [
       "array([-1.41421356, -0.70710678,  0.        ,  0.70710678,  1.41421356])"
      ]
     },
     "execution_count": 3,
     "metadata": {},
     "output_type": "execute_result"
    }
   ],
   "source": [
    "# calculating z scores\n",
    "from scipy import stats\n",
    "data = [5, 10, 15, 20, 25]\n",
    "stats.zscore(data)"
   ]
  }
 ],
 "metadata": {
  "kernelspec": {
   "display_name": "pt-env",
   "language": "python",
   "name": "python3"
  },
  "language_info": {
   "codemirror_mode": {
    "name": "ipython",
    "version": 3
   },
   "file_extension": ".py",
   "mimetype": "text/x-python",
   "name": "python",
   "nbconvert_exporter": "python",
   "pygments_lexer": "ipython3",
   "version": "3.12.0"
  }
 },
 "nbformat": 4,
 "nbformat_minor": 5
}
