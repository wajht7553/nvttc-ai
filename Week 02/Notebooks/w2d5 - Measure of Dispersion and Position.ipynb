{
 "cells": [
  {
   "cell_type": "markdown",
   "id": "cce0b3e7",
   "metadata": {},
   "source": [
    "# Summer of Code - Artificial Intelligence\n",
    "## Week 02: Descriptive Statistics and Probability\n",
    "### Day 05: Measure of Dispersion\n",
    "\n",
    "In this notebook, we will learn about **Measures of Dispersion** using Python."
   ]
  },
  {
   "cell_type": "markdown",
   "id": "3f40ddef",
   "metadata": {},
   "source": [
    "## `scipy` Library\n",
    "The `scipy` library is a powerful library for scientific and technical computing in Python.\n",
    "### `scipy.stats` Module\n",
    "The `scipy.stats` module provides a wide range of statistical functions and tools."
   ]
  },
  {
   "cell_type": "markdown",
   "id": "4c34f208",
   "metadata": {
    "vscode": {
     "languageId": "plaintext"
    }
   },
   "source": [
    "# Measures of Dispersion\n",
    "Dispersion or variability describes the extent to which a data distribution is spread out or clustered together. It provides insights into the spread of data points around a central value, such as the mean or median. Common measures of dispersion include:\n",
    "- **Range**\n",
    "- **Variance**\n",
    "- **Standard Deviation**"
   ]
  },
  {
   "cell_type": "markdown",
   "id": "b3be4521",
   "metadata": {},
   "source": [
    "## Range\n",
    "The range is the simplest measure of dispersion, calculated as the difference between the maximum and minimum values in a dataset. Mathematically, it is expressed as:\n",
    "$$\\text{Range} = \\text{Max} - \\text{Min}$$"
   ]
  },
  {
   "cell_type": "code",
   "execution_count": null,
   "id": "fa215257",
   "metadata": {},
   "outputs": [],
   "source": []
  },
  {
   "cell_type": "markdown",
   "id": "e6784978",
   "metadata": {},
   "source": [
    "## Variance\n",
    "Variance quantifies the average squared deviation of each data point from the mean. It provides a measure of how much the data points vary around the mean. The formula for variance (σ²) is:\n",
    "$$\\sigma^2 = \\frac{1}{N} \\sum_{i=1}^{N} (x_i - \\mu)^2$$\n",
    "where:\n",
    "- $N$ is the number of data points\n",
    "- $x_i$ is each individual data point\n",
    "- $\\mu$ is the mean of the data points"
   ]
  },
  {
   "cell_type": "code",
   "execution_count": null,
   "id": "08a0857c",
   "metadata": {},
   "outputs": [],
   "source": []
  },
  {
   "cell_type": "markdown",
   "id": "86c94518",
   "metadata": {},
   "source": [
    "## Standard Deviation\n",
    "Standard deviation is the square root of the variance and provides a measure of dispersion in the same units as the original data. It indicates how much the data points typically deviate from the mean. The formula for standard deviation (σ) is:\n",
    "$$\\sigma = \\sqrt{\\sigma^2} = \\sqrt{\\frac{1}{N} \\sum_{i=1}^{N} (x_i - \\mu)^2}$$\n",
    "where:\n",
    "- $N$ is the number of data points\n",
    "- $x_i$ is each individual data point\n",
    "- $\\mu$ is the mean of the data points"
   ]
  },
  {
   "cell_type": "code",
   "execution_count": null,
   "id": "0a7cc7e6",
   "metadata": {},
   "outputs": [],
   "source": []
  },
  {
   "cell_type": "markdown",
   "id": "87e61b24",
   "metadata": {},
   "source": [
    "### Cofficient of Variation\n",
    "The coefficient of variation (CV) is a standardized measure of spread that expresses the standard deviation as a percentage of the mean. It is useful for comparing the relative variability of datasets with different units or scales. The formula for CV is:\n",
    "$$\\text{CV} = \\left( \\frac{\\sigma}{\\mu} \\right) \\times 100\\%$$\n",
    "where:\n",
    "- $\\sigma$ is the standard deviation\n",
    "- $\\mu$ is the mean of the data points\n"
   ]
  },
  {
   "cell_type": "code",
   "execution_count": null,
   "id": "6c062584",
   "metadata": {},
   "outputs": [],
   "source": []
  },
  {
   "cell_type": "markdown",
   "id": "4f1f3af9",
   "metadata": {},
   "source": [
    "## Skewness\n",
    "Skewness measures the asymmetry of a data distribution around its mean.\n"
   ]
  },
  {
   "cell_type": "code",
   "execution_count": null,
   "id": "8373a5bd",
   "metadata": {},
   "outputs": [],
   "source": []
  },
  {
   "cell_type": "markdown",
   "id": "3cc238ca",
   "metadata": {},
   "source": [
    "## Kurtosis\n",
    "Kurtosis measures the \"tailedness\" of a data distribution, indicating the presence of outliers."
   ]
  },
  {
   "cell_type": "code",
   "execution_count": null,
   "id": "99b44383",
   "metadata": {},
   "outputs": [],
   "source": []
  },
  {
   "cell_type": "markdown",
   "id": "62cacfce",
   "metadata": {},
   "source": [
    "# Measures of Position\n",
    "Measures of position describe the relative standing of a data point within a dataset. They help to identify where a particular value lies in relation to the rest of the data. Common measures of position include:\n",
    "- ***z* scores**\n",
    "- **Percentiles**\n",
    "- **Quartiles**"
   ]
  },
  {
   "cell_type": "markdown",
   "id": "fbbee7d5",
   "metadata": {},
   "source": [
    "## *z* scores\n",
    "*z* scores standardize data points by expressing them in terms of standard deviations from the mean. A *z* score indicates how many standard deviations a data point is from the mean. The formula for calculating the *z* score is:\n",
    "$$z = \\frac{(x - \\mu)}{\\sigma}$$\n",
    "where:\n",
    "- $x$ is the individual data point\n",
    "- $\\mu$ is the mean of the data points\n",
    "- $\\sigma$ is the standard deviation\n"
   ]
  },
  {
   "cell_type": "code",
   "execution_count": null,
   "id": "17ebfbcc",
   "metadata": {},
   "outputs": [],
   "source": []
  },
  {
   "cell_type": "markdown",
   "id": "fd9e4c78",
   "metadata": {},
   "source": [
    "## Percentiles\n",
    "Percentiles indicate the value below which a given percentage of observations in a dataset fall. For example, the 25th percentile (P25) is the value below which 25% of the data points lie.\n",
    "To calculate the pth percentile, the formula is:\n",
    "$$P_p = \\left( \\frac{p}{100} \\right) \\times (N + 1)$$\n",
    "where:\n",
    "- $P_p$ is the pth percentile\n",
    "- $p$ is the desired percentile (e.g., 25 for the 25th percentile)\n",
    "- $N$ is the number of data points\n"
   ]
  },
  {
   "cell_type": "code",
   "execution_count": null,
   "id": "9bdd9dcb",
   "metadata": {},
   "outputs": [],
   "source": []
  },
  {
   "cell_type": "markdown",
   "id": "64408595",
   "metadata": {},
   "source": [
    "## Quartiles\n",
    "Quartiles divide a dataset into four equal parts. The first quartile (Q1) is the 25th percentile, the second quartile (Q2) is the median (50th percentile), and the third quartile (Q3) is the 75th percentile."
   ]
  },
  {
   "cell_type": "markdown",
   "id": "e9fe8831",
   "metadata": {},
   "source": [
    "### Interquartile Range (IQR)\n",
    "The interquartile range (IQR) is the difference between the third quartile (Q3) and the first quartile (Q1). It measures the spread of the middle 50% of the data and is calculated as:\n",
    "$$\\text{IQR} = Q3 - Q1$$\n",
    "It is useful for identifying outliers in a dataset."
   ]
  },
  {
   "cell_type": "code",
   "execution_count": null,
   "id": "7ad10274",
   "metadata": {},
   "outputs": [],
   "source": []
  }
 ],
 "metadata": {
  "kernelspec": {
   "display_name": "pt-env",
   "language": "python",
   "name": "python3"
  },
  "language_info": {
   "codemirror_mode": {
    "name": "ipython",
    "version": 3
   },
   "file_extension": ".py",
   "mimetype": "text/x-python",
   "name": "python",
   "nbconvert_exporter": "python",
   "pygments_lexer": "ipython3",
   "version": "3.12.0"
  }
 },
 "nbformat": 4,
 "nbformat_minor": 5
}
