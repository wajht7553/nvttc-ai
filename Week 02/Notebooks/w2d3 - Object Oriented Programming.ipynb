{
 "cells": [
  {
   "cell_type": "markdown",
   "id": "8428efa5",
   "metadata": {},
   "source": [
    "# Summer of Code - Artificial Intelligence\n",
    "## Week 02: Object Oriented Programming\n",
    "### Day 03: Classes & Objects, and Inheritance\n",
    "In this notebook, we will learn about **Object Oriented Programming (OOP)** in Python.\n"
   ]
  },
  {
   "cell_type": "markdown",
   "id": "f03dd837",
   "metadata": {},
   "source": [
    "# Object Oriented Programming (OOP)\n",
    "Object Oriented Programming (OOP) is a programming paradigm.\n",
    "- It uses \"objects\" to represent data and methods to manipulate that data.\n",
    "- It helps in organizing code, making it reusable, and easier to maintain.\n",
    "- OOP is based on four main principles: Encapsulation, Abstraction, Inheritance, and Polymorphism."
   ]
  },
  {
   "cell_type": "markdown",
   "id": "11bffbc2",
   "metadata": {},
   "source": [
    "## Classes and Objects\n",
    "- A class is a blueprint for creating objects. It defines attributes (data) and methods (functions) that the objects created from the class will have.\n",
    "- An object is an instance of a class. It contains data and can perform actions defined by the class.\n",
    "\n",
    "In Python, you can define a class using the `class` keyword. Here's an example:\n",
    "\n",
    "```python\n",
    "class ClassName:\n",
    "    # Constructor method to initialize attributes\n",
    "    def __init__(self, attribute1, attribute2):\n",
    "        self.attribute1 = attribute1  # Attribute\n",
    "        self.attribute2 = attribute2    # Attribute\n",
    "\n",
    "    # Method of the class (functions inside a class are called methods)\n",
    "    def method1(self):\n",
    "      pass\n",
    "\n",
    "    def method2(self, param):\n",
    "        pass\n",
    "```\n"
   ]
  },
  {
   "cell_type": "code",
   "execution_count": 23,
   "id": "d72216da",
   "metadata": {},
   "outputs": [],
   "source": [
    "class Person:\n",
    "    # properties/data => attributes\n",
    "    def __init__(self, name, age): # Constructor\n",
    "        self.name = name\n",
    "        self.age = age\n",
    "        print(\"Constructor is called\")\n",
    "        # other attributes\n",
    "\n",
    "    # behaviour/functions => methods\n",
    "    def walk(self):\n",
    "        print(f\"{self.name} is walking\")\n",
    "        print(self)\n",
    "\n",
    "    # other behaviours"
   ]
  },
  {
   "cell_type": "code",
   "execution_count": 24,
   "id": "8d4f7c31",
   "metadata": {},
   "outputs": [
    {
     "name": "stdout",
     "output_type": "stream",
     "text": [
      "Constructor is called\n"
     ]
    }
   ],
   "source": [
    "p3 = Person(\"Ahmad\", 30)"
   ]
  },
  {
   "cell_type": "code",
   "execution_count": 22,
   "id": "4429f98f",
   "metadata": {},
   "outputs": [
    {
     "name": "stdout",
     "output_type": "stream",
     "text": [
      "Ahmad is walking\n"
     ]
    }
   ],
   "source": [
    "Person.walk(p3)"
   ]
  },
  {
   "cell_type": "code",
   "execution_count": 3,
   "id": "340f4301",
   "metadata": {},
   "outputs": [
    {
     "name": "stdout",
     "output_type": "stream",
     "text": [
      "<class '__main__.Person'>\n"
     ]
    }
   ],
   "source": [
    "print(Person)"
   ]
  },
  {
   "cell_type": "code",
   "execution_count": 12,
   "id": "4b637d37",
   "metadata": {},
   "outputs": [
    {
     "name": "stdout",
     "output_type": "stream",
     "text": [
      "Constructor is called\n"
     ]
    }
   ],
   "source": [
    "p = Person(\"Alice\", 15)"
   ]
  },
  {
   "cell_type": "code",
   "execution_count": 8,
   "id": "dbba7696",
   "metadata": {},
   "outputs": [
    {
     "data": {
      "text/plain": [
       "'Alice'"
      ]
     },
     "execution_count": 8,
     "metadata": {},
     "output_type": "execute_result"
    }
   ],
   "source": [
    "p.name"
   ]
  },
  {
   "cell_type": "code",
   "execution_count": 9,
   "id": "4af9d04f",
   "metadata": {},
   "outputs": [
    {
     "data": {
      "text/plain": [
       "15"
      ]
     },
     "execution_count": 9,
     "metadata": {},
     "output_type": "execute_result"
    }
   ],
   "source": [
    "p.age"
   ]
  },
  {
   "cell_type": "code",
   "execution_count": 10,
   "id": "50d8668d",
   "metadata": {},
   "outputs": [
    {
     "name": "stdout",
     "output_type": "stream",
     "text": [
      "Alice is walking\n"
     ]
    }
   ],
   "source": [
    "p.walk()"
   ]
  },
  {
   "cell_type": "code",
   "execution_count": 26,
   "id": "ea75f74e",
   "metadata": {},
   "outputs": [
    {
     "name": "stdout",
     "output_type": "stream",
     "text": [
      "Alice is walking\n"
     ]
    }
   ],
   "source": [
    "p.walk()"
   ]
  },
  {
   "cell_type": "code",
   "execution_count": 13,
   "id": "4a39ad69",
   "metadata": {},
   "outputs": [
    {
     "name": "stdout",
     "output_type": "stream",
     "text": [
      "Constructor is called\n"
     ]
    }
   ],
   "source": [
    "p2 = Person(\"Ali\", 12)"
   ]
  },
  {
   "cell_type": "code",
   "execution_count": 14,
   "id": "b5f5f9a4",
   "metadata": {},
   "outputs": [
    {
     "name": "stdout",
     "output_type": "stream",
     "text": [
      "Ali is walking\n"
     ]
    }
   ],
   "source": [
    "p2.walk()"
   ]
  },
  {
   "cell_type": "code",
   "execution_count": 20,
   "id": "4a22d351",
   "metadata": {},
   "outputs": [
    {
     "name": "stdout",
     "output_type": "stream",
     "text": [
      "Constructor is called\n",
      "<__main__.Person object at 0x00000279E5A482F0>\n"
     ]
    }
   ],
   "source": [
    "# Object initialization\n",
    "person1 = Person(\"Ahmad\", 25) # Creating Object, __init__ Constructor is called automatically\n",
    "print(person1)"
   ]
  },
  {
   "cell_type": "code",
   "execution_count": 21,
   "id": "01963add",
   "metadata": {},
   "outputs": [
    {
     "name": "stdout",
     "output_type": "stream",
     "text": [
      "Ahmad is walking\n"
     ]
    }
   ],
   "source": [
    "person1.walk()"
   ]
  },
  {
   "cell_type": "code",
   "execution_count": 22,
   "id": "bc920c0b",
   "metadata": {},
   "outputs": [
    {
     "name": "stdout",
     "output_type": "stream",
     "text": [
      "Constructor is called\n",
      "Qasim\n",
      "30\n"
     ]
    }
   ],
   "source": [
    "person2 = Person(\"Qasim\", 30)\n",
    "print(person2.name)\n",
    "print(person2.age)"
   ]
  },
  {
   "cell_type": "markdown",
   "id": "a118d03f",
   "metadata": {},
   "source": [
    "## Instance Variables and Methods\n",
    "\n",
    "- Instance variables are attributes that belong to an instance (object) of a class.\n",
    "- They are defined in the constructor method `__init__`.\n",
    "- Instance methods are functions that operate on the instance of the class.\n",
    "- They can access and modify instance variables.\n",
    "\n",
    "Here's an example of a class with instance variables and methods:\n",
    "\n",
    "```python\n",
    "class BankAccount:\n",
    "    def __init__(self, account_holder, balance=0):\n",
    "        self.account_holder = account_holder  # Instance variable\n",
    "        self.balance = balance  # Instance variable\n",
    "\n",
    "    def deposit(self, amount):  # Instance method\n",
    "        pass\n",
    "\n",
    "    def withdraw(self, amount):  # Instance method\n",
    "        pass\n",
    "\n",
    "    def get_balance(self):  # Instance method\n",
    "        pass\n",
    "```\n"
   ]
  },
  {
   "cell_type": "code",
   "execution_count": null,
   "id": "8dc8542a",
   "metadata": {},
   "outputs": [],
   "source": [
    "class BankAccount:\n",
    "    def __init__(self, account_holder, balance=0):\n",
    "        self.account_holder = account_holder\n",
    "        self.balance = balance\n",
    "        \n",
    "    def deposit(self, amount):\n",
    "        self.balance += amount\n",
    "        \n",
    "    def withdraw(self, amount):\n",
    "        if self.balance < amount:\n",
    "            print(\"Not enough blance\")\n",
    "            return\n",
    "        self.balance -= amount\n",
    "    \n",
    "    def get_balance(self):\n",
    "        print(f\"You current account balance is {self.balance}\")\n",
    "    \n",
    "    def check_self(self):\n",
    "        print(self)"
   ]
  },
  {
   "cell_type": "code",
   "execution_count": 38,
   "id": "5006af3b",
   "metadata": {},
   "outputs": [
    {
     "data": {
      "text/plain": [
       "'Ahmad'"
      ]
     },
     "execution_count": 38,
     "metadata": {},
     "output_type": "execute_result"
    }
   ],
   "source": [
    "my_account = BankAccount(\"Ahmad\", 50000)\n",
    "my_account.account_holder"
   ]
  },
  {
   "cell_type": "code",
   "execution_count": 39,
   "id": "0f3c6fe5",
   "metadata": {},
   "outputs": [
    {
     "name": "stdout",
     "output_type": "stream",
     "text": [
      "You current account balance is 60000\n"
     ]
    }
   ],
   "source": [
    "my_account.deposit(10000)\n",
    "my_account.get_balance()"
   ]
  },
  {
   "cell_type": "code",
   "execution_count": 41,
   "id": "2dfaf98c",
   "metadata": {},
   "outputs": [
    {
     "name": "stdout",
     "output_type": "stream",
     "text": [
      "<__main__.BankAccount object at 0x00000279E5A4B620>\n"
     ]
    }
   ],
   "source": [
    "print(my_account)"
   ]
  },
  {
   "cell_type": "code",
   "execution_count": 42,
   "id": "14970b32",
   "metadata": {},
   "outputs": [
    {
     "name": "stdout",
     "output_type": "stream",
     "text": [
      "<__main__.BankAccount object at 0x00000279E5A4B620>\n"
     ]
    }
   ],
   "source": [
    "my_account.check_self()"
   ]
  },
  {
   "cell_type": "markdown",
   "id": "1c7cf577",
   "metadata": {},
   "source": [
    "## Class Variables and Functions\n",
    "- Class variables are shared among all instances of a class.\n",
    "- They are defined within the class but outside any methods.\n",
    "- Class methods are methods that operate on the class itself rather than on instances of the class.\n",
    "- They are defined using the `@classmethod` decorator and take `cls` as the first parameter.\n",
    "\n",
    "Here's an example of a class with class variables and class methods:\n",
    "\n",
    "```python\n",
    "class ClassName:\n",
    "    class_var = None  # Class variable\n",
    "\n",
    "    def __init__(self, params):\n",
    "        # Attributes or instance variables\n",
    "        pass\n",
    "\n",
    "\n",
    "    @classmethod\n",
    "    def class_method(cls):  # Class functions\n",
    "        pass\n",
    "```"
   ]
  },
  {
   "cell_type": "code",
   "execution_count": 102,
   "id": "ca28b373",
   "metadata": {},
   "outputs": [],
   "source": [
    "class Player:\n",
    "    object_count = 0 # class\n",
    "\n",
    "    def __init__(self, name):\n",
    "        self.name = name\n",
    "        self.__class__.object_count += 1\n",
    "\n",
    "    def die(self):\n",
    "        pass\n"
   ]
  },
  {
   "cell_type": "code",
   "execution_count": 103,
   "id": "bc3d0a38",
   "metadata": {},
   "outputs": [],
   "source": [
    "p1 = Player(\"Ali\")"
   ]
  },
  {
   "cell_type": "code",
   "execution_count": 104,
   "id": "07a07f6e",
   "metadata": {},
   "outputs": [
    {
     "data": {
      "text/plain": [
       "1"
      ]
     },
     "execution_count": 104,
     "metadata": {},
     "output_type": "execute_result"
    }
   ],
   "source": [
    "p1.object_count"
   ]
  },
  {
   "cell_type": "code",
   "execution_count": 106,
   "id": "86841d8c",
   "metadata": {},
   "outputs": [],
   "source": [
    "p2 = Player(\"Waqas\")\n",
    "p3 = Player(\"Usman\")"
   ]
  },
  {
   "cell_type": "code",
   "execution_count": 108,
   "id": "ff8b8ce8",
   "metadata": {},
   "outputs": [
    {
     "data": {
      "text/plain": [
       "3"
      ]
     },
     "execution_count": 108,
     "metadata": {},
     "output_type": "execute_result"
    }
   ],
   "source": [
    "p1.object_count"
   ]
  },
  {
   "cell_type": "markdown",
   "id": "ed2ef65f",
   "metadata": {},
   "source": [
    "# Inheritance\n",
    "Inheritance is a mechanism in OOP that allows a new class (child class) to inherit attributes and methods from an existing class (parent class).\n",
    "- This promotes code reusability and establishes a hierarchical relationship between classes.\n",
    "- The child class can have its own attributes and methods in addition to those inherited from the parent class.\n",
    "\n",
    "In Python, inheritance is implemented as follows:\n",
    "\n",
    "```python\n",
    "class ParentClass:\n",
    "    def __init__(self, parent_attr):\n",
    "        self.parent_attr = parent_attr\n",
    "        print(\"parent class constructor called\")\n",
    "\n",
    "    def parent_method(self):\n",
    "        pass\n",
    "\n",
    "class ChildClass(ParentClass):  # Inheriting from ParentClass\n",
    "    def __init__(self, parent_attr, child_attr):\n",
    "        super().__init__(parent_attr)  # Call the constructor of the parent class\n",
    "        print(\"child class constructor called\")\n",
    "        self.child_attr = child_attr\n",
    "\n",
    "    def child_method(self):\n",
    "        pass\n",
    "```"
   ]
  },
  {
   "cell_type": "code",
   "execution_count": null,
   "id": "371cccb6",
   "metadata": {},
   "outputs": [],
   "source": [
    "class Vehicle:\n",
    "    def __init__(self, vechicle_type):\n",
    "        self.vehicle_type = vechicle_type\n",
    "\n",
    "    def start(self):\n",
    "        print(\"Engine started...\")"
   ]
  },
  {
   "cell_type": "code",
   "execution_count": 45,
   "id": "c4d764a8",
   "metadata": {},
   "outputs": [
    {
     "name": "stdout",
     "output_type": "stream",
     "text": [
      "Engine started...\n"
     ]
    }
   ],
   "source": [
    "vehicle = Vehicle(\"Bus\")\n",
    "vehicle.start()"
   ]
  },
  {
   "cell_type": "code",
   "execution_count": null,
   "id": "0cbb113f",
   "metadata": {},
   "outputs": [],
   "source": [
    "print()"
   ]
  },
  {
   "cell_type": "code",
   "execution_count": null,
   "id": "76d34e94",
   "metadata": {},
   "outputs": [],
   "source": [
    "class Bus(Vehicle):\n",
    "    def __init__(self, vehicle_type, make, model, year):\n",
    "        super().__init__(vehicle_type)\n",
    "        self.make = make\n",
    "        self.model = model\n",
    "        self.year = year\n",
    "        \n",
    "    def change_transmission_model(self, mode):\n",
    "        print(f\"Transmission switched to {mode}\")\n",
    "\n",
    "    # Overriding super().start() method\n",
    "    def start(self):\n",
    "        super().start()\n",
    "        print(\"Bus engine started\")"
   ]
  },
  {
   "cell_type": "code",
   "execution_count": 51,
   "id": "d3d9037b",
   "metadata": {},
   "outputs": [
    {
     "data": {
      "text/plain": [
       "<__main__.Bus at 0x1f3c324fa10>"
      ]
     },
     "execution_count": 51,
     "metadata": {},
     "output_type": "execute_result"
    }
   ],
   "source": [
    "bus = Bus(\"Bus\", \"Volvo\", \"abc\", 2025)\n",
    "bus"
   ]
  },
  {
   "cell_type": "code",
   "execution_count": 52,
   "id": "e84d01ab",
   "metadata": {},
   "outputs": [
    {
     "name": "stdout",
     "output_type": "stream",
     "text": [
      "Bus engine started\n"
     ]
    }
   ],
   "source": [
    "bus.start()"
   ]
  },
  {
   "cell_type": "code",
   "execution_count": 53,
   "id": "3fe26688",
   "metadata": {},
   "outputs": [
    {
     "name": "stdout",
     "output_type": "stream",
     "text": [
      "Transmission switched to auto\n"
     ]
    }
   ],
   "source": [
    "bus.change_transmission_model(\"auto\")"
   ]
  },
  {
   "cell_type": "code",
   "execution_count": 54,
   "id": "67fda50e",
   "metadata": {},
   "outputs": [
    {
     "name": "stdout",
     "output_type": "stream",
     "text": [
      "Engine started...\n"
     ]
    }
   ],
   "source": [
    "vehicle.start()"
   ]
  },
  {
   "cell_type": "code",
   "execution_count": 55,
   "id": "481dba5e",
   "metadata": {},
   "outputs": [
    {
     "name": "stdout",
     "output_type": "stream",
     "text": [
      "Bus engine started\n"
     ]
    }
   ],
   "source": [
    "bus.start()"
   ]
  },
  {
   "cell_type": "markdown",
   "id": "eb4adb4a",
   "metadata": {},
   "source": [
    "## Abstract Classes and Methods\n",
    "- An abstract class is a class that cannot be instantiated on its own and is meant to be subclassed.\n",
    "- It can contain abstract methods, which are methods that are declared but contain no implementation.\n",
    "- Abstract classes are used to define a common interface for a group of related classes.\n",
    "\n",
    "In Python, you can create abstract classes and methods using the `abc` module:\n",
    "\n",
    "```python\n",
    "from abc import ABC, abstractmethod\n",
    "\n",
    "class AbstractClass(ABC):\n",
    "    @abstractmethod\n",
    "    def abstract_method(self):\n",
    "        pass\n",
    "\n",
    "class ConcreteClass(AbstractClass):\n",
    "    def abstract_method(self):\n",
    "        print(\"Implementation of abstract method\")\n",
    "\n",
    "```"
   ]
  },
  {
   "cell_type": "code",
   "execution_count": 60,
   "id": "cedf6b86",
   "metadata": {},
   "outputs": [],
   "source": [
    "from abc import ABC, abstractmethod\n",
    "\n",
    "class Shape(ABC):\n",
    "    @abstractmethod # decorator\n",
    "    def area(self):\n",
    "        pass\n"
   ]
  },
  {
   "cell_type": "code",
   "execution_count": 61,
   "id": "6d6ba067",
   "metadata": {},
   "outputs": [
    {
     "name": "stdout",
     "output_type": "stream",
     "text": [
      "<class '__main__.Shape'>\n"
     ]
    }
   ],
   "source": [
    "print(Shape)"
   ]
  },
  {
   "cell_type": "code",
   "execution_count": 65,
   "id": "84bebcfb",
   "metadata": {},
   "outputs": [],
   "source": [
    "class Circle(Shape):\n",
    "    def __init__(self, radius):\n",
    "        self.radius = radius\n",
    "    \n",
    "    def get_radius(self):\n",
    "        return self.radius\n",
    "\n",
    "    def area(self):\n",
    "        return 3.14 * self.radius**2"
   ]
  },
  {
   "cell_type": "code",
   "execution_count": 66,
   "id": "226ec44a",
   "metadata": {},
   "outputs": [],
   "source": [
    "circle = Circle(2)"
   ]
  },
  {
   "cell_type": "code",
   "execution_count": 68,
   "id": "b8b26344",
   "metadata": {},
   "outputs": [
    {
     "data": {
      "text/plain": [
       "12.56"
      ]
     },
     "execution_count": 68,
     "metadata": {},
     "output_type": "execute_result"
    }
   ],
   "source": [
    "circle.area()"
   ]
  },
  {
   "cell_type": "markdown",
   "id": "e6bc4451",
   "metadata": {},
   "source": [
    "## Dunder Methods/Magic Functions\n",
    "Dunder methods (short for \"double underscore\" methods) are special methods in Python that have double underscores at the beginning and end of their names (e.g., `__init__`, `__str__`, `__repr__`, etc.).\n",
    "- They are used to define the behavior of objects for built-in operations and functions.\n",
    "- For example, the `__init__` method is called when an object is created, and the `__str__` method defines how an object is represented as a string.\n"
   ]
  },
  {
   "cell_type": "code",
   "execution_count": null,
   "id": "33999217",
   "metadata": {},
   "outputs": [],
   "source": [
    "class ComplexNumber:\n",
    "    def __init__(self, real, imag):\n",
    "        self.real = real\n",
    "        self.imag = imag\n",
    "\n",
    "    def __str__(self):\n",
    "        return f\"{self.real} + {self.imag}i\"\n",
    "\n",
    "    def __repr__(self):\n",
    "        return f\"{self.real} + {self.imag}i\"\n",
    "    \n",
    "    def __eq__(self, c):\n",
    "        if self.real == c.real and self.imag == c.imag:\n",
    "            return True\n",
    "        else:\n",
    "            return False\n",
    "\n",
    "    def __add__(self, c):\n",
    "        real = self.real + c.real\n",
    "        imag = self.imag + c.imag\n",
    "        \n",
    "        return ComplexNumber(real, imag)"
   ]
  },
  {
   "cell_type": "code",
   "execution_count": 130,
   "id": "746ae833",
   "metadata": {},
   "outputs": [],
   "source": [
    "c1 = ComplexNumber(2, 3)"
   ]
  },
  {
   "cell_type": "code",
   "execution_count": 131,
   "id": "deb7ac96",
   "metadata": {},
   "outputs": [
    {
     "name": "stdout",
     "output_type": "stream",
     "text": [
      "2 + 3i\n"
     ]
    }
   ],
   "source": [
    "# __str__\n",
    "print(c1)"
   ]
  },
  {
   "cell_type": "code",
   "execution_count": 132,
   "id": "1663f3b9",
   "metadata": {},
   "outputs": [
    {
     "data": {
      "text/plain": [
       "'2 + 3i'"
      ]
     },
     "execution_count": 132,
     "metadata": {},
     "output_type": "execute_result"
    }
   ],
   "source": [
    "str(c1)"
   ]
  },
  {
   "cell_type": "code",
   "execution_count": 133,
   "id": "0b942894",
   "metadata": {},
   "outputs": [
    {
     "data": {
      "text/plain": [
       "2 + 3i repr"
      ]
     },
     "execution_count": 133,
     "metadata": {},
     "output_type": "execute_result"
    }
   ],
   "source": [
    "# __repr__\n",
    "c1"
   ]
  },
  {
   "cell_type": "code",
   "execution_count": 134,
   "id": "a32ed0f0",
   "metadata": {},
   "outputs": [
    {
     "name": "stdout",
     "output_type": "stream",
     "text": [
      "2 + 4i\n"
     ]
    }
   ],
   "source": [
    "c2 = ComplexNumber(2, 4)\n",
    "print(c2)"
   ]
  },
  {
   "cell_type": "code",
   "execution_count": 135,
   "id": "739e687d",
   "metadata": {},
   "outputs": [
    {
     "data": {
      "text/plain": [
       "False"
      ]
     },
     "execution_count": 135,
     "metadata": {},
     "output_type": "execute_result"
    }
   ],
   "source": [
    "c1 == c2"
   ]
  },
  {
   "cell_type": "code",
   "execution_count": 136,
   "id": "efcf497e",
   "metadata": {},
   "outputs": [
    {
     "data": {
      "text/plain": [
       "True"
      ]
     },
     "execution_count": 136,
     "metadata": {},
     "output_type": "execute_result"
    }
   ],
   "source": [
    "c3 = ComplexNumber(2, 4)\n",
    "c2 == c3"
   ]
  },
  {
   "cell_type": "code",
   "execution_count": 138,
   "id": "d06b5482",
   "metadata": {},
   "outputs": [
    {
     "name": "stdout",
     "output_type": "stream",
     "text": [
      "4 + 8i\n"
     ]
    }
   ],
   "source": [
    "print(c2 + c3)"
   ]
  },
  {
   "cell_type": "markdown",
   "id": "14d21788",
   "metadata": {},
   "source": [
    "# Exercises\n",
    "\n",
    "## 1. Classes and Objects\n",
    "- Define a class called `Student` with attributes `name`, `age`, and `grade`.\n",
    "- Create an object of the `Student` class and print its attributes.\n"
   ]
  },
  {
   "cell_type": "markdown",
   "id": "07905fea",
   "metadata": {},
   "source": [
    "## 2. Instance Variables and Methods\n",
    "- Implement the `deposit`, `withdraw`, and `get_balance` methods in the `BankAccount` class.\n",
    "- Create a `BankAccount` object and perform deposit and withdrawal operations.\n"
   ]
  },
  {
   "cell_type": "markdown",
   "id": "d724d16e",
   "metadata": {},
   "source": [
    "## 3. Class Variables and Methods\n",
    "- Add a class variable to track the total number of `BankAccount` objects created.\n",
    "- Implement a method to return the total number of accounts.\n"
   ]
  },
  {
   "cell_type": "markdown",
   "id": "bf677d87",
   "metadata": {},
   "source": [
    "## 4. Inheritance\n",
    "- Create a parent class `Vehicle` with an attribute `make` and a method `start_engine`.\n",
    "- Create a child class `Car` that inherits from `Vehicle` and adds an attribute `model` and a method `drive`.\n"
   ]
  },
  {
   "cell_type": "markdown",
   "id": "af8190e6",
   "metadata": {},
   "source": [
    "\n",
    "## 5. Abstract Classes and Methods\n",
    "- Define an abstract class `Shape` with an abstract method `area`.\n",
    "- Create subclasses `Circle` and `Rectangle` that implement the `area` method.\n"
   ]
  },
  {
   "cell_type": "markdown",
   "id": "01b30030",
   "metadata": {},
   "source": [
    "\n",
    "## 6. Dunder Methods\n",
    "- Implement the `__str__` method in the `Student` class to display student information in a readable format.\n",
    "- Implement the `__eq__` method to compare two `Student` objects based on their attributes."
   ]
  }
 ],
 "metadata": {
  "kernelspec": {
   "display_name": "Python 3",
   "language": "python",
   "name": "python3"
  },
  "language_info": {
   "codemirror_mode": {
    "name": "ipython",
    "version": 3
   },
   "file_extension": ".py",
   "mimetype": "text/x-python",
   "name": "python",
   "nbconvert_exporter": "python",
   "pygments_lexer": "ipython3",
   "version": "3.12.6"
  }
 },
 "nbformat": 4,
 "nbformat_minor": 5
}
