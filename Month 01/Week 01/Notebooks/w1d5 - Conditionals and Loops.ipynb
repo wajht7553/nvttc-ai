{
 "cells": [
  {
   "cell_type": "markdown",
   "id": "1c92e751",
   "metadata": {},
   "source": [
    "# Summer of Code - Artificial Intelligence\n",
    "## Week 01\n",
    "### Day 05: Conditionals and Loops\n",
    "\n",
    "In this lecture, we'll cover the essential **control flow mechanisms** in Python, including **conditionals** and **loops**. Specifically, we'll explore:\n",
    "- Using `if`, `elif`, and `else` statements\n",
    "- Using `for` and `while` loops\n",
    "- Understanding loop control statements like `break` and `continue`\n",
    "- Iterating over different data structures with loops\n"
   ]
  },
  {
   "cell_type": "markdown",
   "id": "cbc76396",
   "metadata": {},
   "source": [
    "## What are Conditionals?\n",
    "- Conditionals allow you to execute certain blocks of code based on whether a condition is true or false.\n",
    "- The condition is typically an expression that evaluates to a boolean value (`True` or `False`)."
   ]
  },
  {
   "cell_type": "markdown",
   "id": "c16c5aca",
   "metadata": {},
   "source": [
    "### if Statement\n",
    "- The `if` statement is used to test a condition. If the condition is `True`, the block of code under the `if` statement is executed.\n",
    "```python\n",
    "if condition:\n",
    "    # Code to execute if the condition is True\n",
    "```"
   ]
  },
  {
   "cell_type": "code",
   "execution_count": 3,
   "id": "bcea1efc",
   "metadata": {},
   "outputs": [
    {
     "name": "stdout",
     "output_type": "stream",
     "text": [
      "3 is less than 5.\n",
      "Body of if executed\n",
      "exiting\n"
     ]
    }
   ],
   "source": [
    "num = 3\n",
    "\n",
    "if num < 5:\n",
    "    print(f\"{num} is less than 5.\")\n",
    "    print(\"Body of if executed\")\n",
    "\n",
    "print(\"exiting\")"
   ]
  },
  {
   "cell_type": "markdown",
   "id": "292baf83",
   "metadata": {},
   "source": [
    "### if-else Statement\n",
    "- The `if-else` statement provides an alternative block of code to execute if the condition is `False`.\n",
    "```python\n",
    "if condition:\n",
    "    # Code to execute if the condition is True\n",
    "else:\n",
    "    # Code to execute if the condition is False\n",
    "```"
   ]
  },
  {
   "cell_type": "code",
   "execution_count": 5,
   "id": "83ff18be",
   "metadata": {},
   "outputs": [
    {
     "name": "stdout",
     "output_type": "stream",
     "text": [
      "7 is greater than 5.\n"
     ]
    }
   ],
   "source": [
    "num = 7\n",
    "if num > 5:\n",
    "    print(f\"{num} is greater than 5.\")\n",
    "else:\n",
    "    print(f\"{num} is less than 5\")"
   ]
  },
  {
   "cell_type": "markdown",
   "id": "6303b47f",
   "metadata": {},
   "source": [
    "### if-elif-else Statement\n",
    "- The `if-elif-else` statement allows you to check multiple conditions in sequence. The first condition that evaluates to `True` will have its block executed, and the rest will be skipped.\n",
    "```python\n",
    "if condition1:\n",
    "    # Code to execute if condition1 is True\n",
    "elif condition2:\n",
    "    # Code to execute if condition2 is True\n",
    "else:\n",
    "    # Code to execute if none of the above conditions are True\n",
    "```"
   ]
  },
  {
   "cell_type": "code",
   "execution_count": 11,
   "id": "8deeec3d",
   "metadata": {},
   "outputs": [
    {
     "name": "stdout",
     "output_type": "stream",
     "text": [
      "Grade: B\n"
     ]
    }
   ],
   "source": [
    "score = float(input(\"Enter your marks\"))\n",
    "\n",
    "if score >= 90:\n",
    "  print(\"Grade: A\")\n",
    "elif score >= 80:\n",
    "  print(\"Grade: B\")\n",
    "elif score >= 70:\n",
    "  print(\"Grade: C\")\n",
    "else:\n",
    "  print(\"Grade: D\")"
   ]
  },
  {
   "cell_type": "markdown",
   "id": "55e84cc4",
   "metadata": {},
   "source": [
    "## Loops\n",
    "- Loops allow you to execute a block of code repeatedly based on a condition.\n",
    "- Python has two main types of loops: `for` loops and `while` loops."
   ]
  },
  {
   "cell_type": "markdown",
   "id": "1625ec5b",
   "metadata": {},
   "source": [
    "### while Loop\n",
    "- The `while` loop continues to execute as long as the specified condition is `True`.\n",
    "```python\n",
    "while condition:\n",
    "    # Code to execute as long as the condition is True\n",
    "```\n"
   ]
  },
  {
   "cell_type": "code",
   "execution_count": null,
   "id": "dd8c218a",
   "metadata": {},
   "outputs": [
    {
     "name": "stdout",
     "output_type": "stream",
     "text": [
      "1\n",
      "2\n",
      "3\n",
      "4\n",
      "5\n",
      "6\n",
      "7\n",
      "8\n",
      "9\n",
      "10\n",
      "Loop finished\n"
     ]
    }
   ],
   "source": [
    "i = 1 # control\n",
    "\n",
    "while i <= 10:\n",
    "  print(i)\n",
    "  i = i + 1\n",
    "else:\n",
    "  print(\"Loop finished\")"
   ]
  },
  {
   "cell_type": "markdown",
   "id": "bdf605cc",
   "metadata": {},
   "source": [
    "### for Loop\n",
    "- The `for` loop is used to iterate over a sequence (like a list, tuple, dictionary, set, or string) or other iterable objects.\n",
    "```python\n",
    "for item in collection:\n",
    "    # Code to execute for each item in the collection\n",
    "```"
   ]
  },
  {
   "cell_type": "code",
   "execution_count": 24,
   "id": "d697a32f",
   "metadata": {},
   "outputs": [
    {
     "name": "stdout",
     "output_type": "stream",
     "text": [
      "red\n",
      "green\n",
      "blue\n",
      "yellow\n"
     ]
    }
   ],
   "source": [
    "colors = ['red', 'green', 'blue', 'yellow']\n",
    "\n",
    "for color in colors:\n",
    "  print(color)"
   ]
  },
  {
   "cell_type": "code",
   "execution_count": 12,
   "id": "22ef1d2d",
   "metadata": {},
   "outputs": [
    {
     "name": "stdout",
     "output_type": "stream",
     "text": [
      "10\n",
      "8\n",
      "6\n",
      "4\n",
      "2\n"
     ]
    }
   ],
   "source": [
    "for i in range(10, 0, -2):\n",
    "  print(i)\n"
   ]
  },
  {
   "cell_type": "code",
   "execution_count": 17,
   "id": "0629e4fe",
   "metadata": {},
   "outputs": [
    {
     "name": "stdout",
     "output_type": "stream",
     "text": [
      "127\n",
      "255\n",
      "127\n"
     ]
    }
   ],
   "source": [
    "rgb_color = (127, 255, 127)\n",
    "for color_channel in rgb_color:\n",
    "  print(color_channel)"
   ]
  },
  {
   "cell_type": "code",
   "execution_count": 18,
   "id": "0582994f",
   "metadata": {},
   "outputs": [
    {
     "name": "stdout",
     "output_type": "stream",
     "text": [
      "P\n",
      "r\n",
      "o\n",
      "g\n",
      "r\n",
      "a\n",
      "m\n",
      "m\n",
      "i\n",
      "n\n",
      "g\n",
      " \n",
      "i\n",
      "s\n",
      " \n",
      "f\n",
      "u\n",
      "n\n"
     ]
    }
   ],
   "source": [
    "text = \"Programming is fun\"\n",
    "for char in text:\n",
    "  print(char)"
   ]
  },
  {
   "cell_type": "code",
   "execution_count": 20,
   "id": "f3cc89ea",
   "metadata": {},
   "outputs": [
    {
     "data": {
      "text/plain": [
       "[(0, 'red'), (1, 'green'), (2, 'blue'), (3, 'yellow')]"
      ]
     },
     "execution_count": 20,
     "metadata": {},
     "output_type": "execute_result"
    }
   ],
   "source": [
    "list(enumerate(colors))"
   ]
  },
  {
   "cell_type": "code",
   "execution_count": 23,
   "id": "bd25d2e8",
   "metadata": {},
   "outputs": [
    {
     "name": "stdout",
     "output_type": "stream",
     "text": [
      "3\n",
      "4\n"
     ]
    }
   ],
   "source": [
    "a, b = (3, 4)\n",
    "\n",
    "print(a)\n",
    "print(b)"
   ]
  },
  {
   "cell_type": "code",
   "execution_count": 27,
   "id": "0e0b1788",
   "metadata": {},
   "outputs": [
    {
     "name": "stdout",
     "output_type": "stream",
     "text": [
      "0 red\n",
      "1 green\n",
      "2 blue\n",
      "3 yellow\n"
     ]
    }
   ],
   "source": [
    "for index, color in enumerate(colors):\n",
    "  print(index, end=' ')\n",
    "  print(color)"
   ]
  },
  {
   "cell_type": "code",
   "execution_count": 29,
   "id": "c6a371b9",
   "metadata": {},
   "outputs": [
    {
     "name": "stdout",
     "output_type": "stream",
     "text": [
      "0\n",
      "1\n",
      "2\n",
      "3\n",
      "4\n",
      "5\n",
      "6\n",
      "7\n",
      "8\n",
      "9\n",
      "10\n",
      "11\n",
      "12\n",
      "13\n",
      "14\n",
      "15\n",
      "16\n",
      "17\n",
      "18\n",
      "19\n",
      "20\n",
      "21\n",
      "22\n",
      "23\n",
      "24\n",
      "25\n",
      "26\n",
      "27\n",
      "28\n",
      "29\n",
      "30\n",
      "31\n",
      "32\n",
      "33\n",
      "34\n",
      "35\n",
      "36\n",
      "37\n",
      "38\n",
      "39\n",
      "40\n",
      "41\n",
      "42\n",
      "43\n",
      "44\n",
      "45\n",
      "46\n",
      "47\n",
      "48\n",
      "49\n",
      "50\n",
      "Loop exited\n"
     ]
    }
   ],
   "source": [
    "i = 0\n",
    "\n",
    "while i <= 100:\n",
    "  print(i)\n",
    "  if i == 50:\n",
    "    break\n",
    "  i += 1 # i = i + 1\n",
    "  \n",
    "print(\"Loop exited\")"
   ]
  },
  {
   "cell_type": "markdown",
   "id": "4cd7d300",
   "metadata": {},
   "source": [
    "## Exercises: Conditionals and Loops\n",
    "\n",
    "1. **Even or Odd Checker**  \n",
    "  Write a program that takes an integer input from the user and prints whether the number is even or odd using an `if-else` statement.\n"
   ]
  },
  {
   "cell_type": "code",
   "execution_count": null,
   "id": "0bb49444",
   "metadata": {},
   "outputs": [
    {
     "name": "stdout",
     "output_type": "stream",
     "text": [
      "3 is odd number\n"
     ]
    }
   ],
   "source": [
    "number = int(input(\"Enter a positive number: \"))\n",
    "\n",
    "if number % 2 == 0:\n",
    "    print(f\"{number} is even number\")\n",
    "else:\n",
    "    print(f\"{number} is odd number\")"
   ]
  },
  {
   "cell_type": "markdown",
   "id": "b047bc28",
   "metadata": {},
   "source": [
    "2. **Grade Calculator**  \n",
    "  Given a score between 0 and 100, use `if-elif-else` statements to print the corresponding grade:\n",
    "  - 90 and above: A\n",
    "  - 80-89: B\n",
    "  - 70-79: C\n",
    "  - 60-69: D\n",
    "  - Below 60: F\n",
    "\n",
    "3. **Sum of Numbers**  \n",
    "  Use a `for` loop to calculate and print the sum of all numbers from 1 to 100.\n",
    "\n",
    "4. **Multiplication Table**  \n",
    "  Use a `for` loop to print the multiplication table for a number entered by the user (from 1 to 10).\n",
    "\n",
    "5. **List Filter**  \n",
    "  Given a list of numbers, use a `for` loop and an `if` statement to print only the numbers that even.\n"
   ]
  },
  {
   "cell_type": "code",
   "execution_count": 13,
   "id": "bcd99df4",
   "metadata": {},
   "outputs": [
    {
     "name": "stdout",
     "output_type": "stream",
     "text": [
      "0\n",
      "2\n",
      "4\n",
      "6\n",
      "8\n",
      "10\n",
      "12\n",
      "14\n",
      "16\n",
      "18\n",
      "20\n",
      "22\n",
      "24\n",
      "26\n",
      "28\n",
      "30\n",
      "32\n",
      "34\n",
      "36\n",
      "38\n",
      "40\n",
      "42\n",
      "44\n",
      "46\n",
      "48\n",
      "52\n",
      "54\n",
      "56\n",
      "58\n",
      "60\n",
      "62\n",
      "64\n",
      "66\n",
      "68\n",
      "70\n",
      "72\n",
      "74\n",
      "76\n",
      "78\n",
      "80\n",
      "82\n",
      "84\n",
      "86\n",
      "88\n",
      "90\n",
      "92\n",
      "94\n",
      "96\n",
      "98\n",
      "outside loop\n"
     ]
    }
   ],
   "source": [
    "numbers = list(range(100))\n",
    "\n",
    "for number in numbers:\n",
    "  if number == 50:\n",
    "    continue\n",
    "  if number % 2 == 0:\n",
    "    print(number)\n",
    "    \n",
    "print(\"outside loop\")"
   ]
  },
  {
   "cell_type": "code",
   "execution_count": 10,
   "id": "2ff9babb",
   "metadata": {},
   "outputs": [
    {
     "data": {
      "text/plain": [
       "[2, 4, 6, 8]"
      ]
     },
     "execution_count": 10,
     "metadata": {},
     "output_type": "execute_result"
    }
   ],
   "source": [
    "list(range(2, 10, 2))"
   ]
  },
  {
   "cell_type": "markdown",
   "id": "3b041112",
   "metadata": {},
   "source": [
    "\n",
    "6. **Countdown Timer**  \n",
    "  Use a `while` loop to print numbers from 10 down to 1, then print \"Go!\"."
   ]
  }
 ],
 "metadata": {
  "kernelspec": {
   "display_name": "Python 3",
   "language": "python",
   "name": "python3"
  },
  "language_info": {
   "codemirror_mode": {
    "name": "ipython",
    "version": 3
   },
   "file_extension": ".py",
   "mimetype": "text/x-python",
   "name": "python",
   "nbconvert_exporter": "python",
   "pygments_lexer": "ipython3",
   "version": "3.13.7"
  }
 },
 "nbformat": 4,
 "nbformat_minor": 5
}
