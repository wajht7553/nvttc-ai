{
  "cells": [
    {
      "cell_type": "markdown",
      "metadata": {},
      "source": [
        "# Summer of Code - Artificial Intelligence\n",
        "## Week 04: Exploratory Data Analysis\n",
        "### Day 02: NumPy\n",
        "\n",
        "In this lesson, we will learn more about NumPy Arrays."
      ]
    },
    {
      "cell_type": "code",
      "execution_count": 1,
      "metadata": {},
      "outputs": [],
      "source": [
        "import numpy as np"
      ]
    },
    {
      "cell_type": "code",
      "execution_count": 4,
      "metadata": {},
      "outputs": [
        {
          "data": {
            "text/plain": [
              "array([ 1,  2,  3,  4,  5,  6,  7,  8,  9, 10, 11, 12, 13, 14, 15, 16, 17,\n",
              "       18, 19, 20])"
            ]
          },
          "execution_count": 4,
          "metadata": {},
          "output_type": "execute_result"
        }
      ],
      "source": [
        "arr = np.arange(1, 21)\n",
        "arr"
      ]
    },
    {
      "cell_type": "code",
      "execution_count": 9,
      "metadata": {},
      "outputs": [
        {
          "data": {
            "text/plain": [
              "array([[ 1,  2,  3,  4,  5],\n",
              "       [ 6,  7,  8,  9, 10],\n",
              "       [11, 12, 13, 14, 15],\n",
              "       [16, 17, 18, 19, 20]])"
            ]
          },
          "execution_count": 9,
          "metadata": {},
          "output_type": "execute_result"
        }
      ],
      "source": [
        "arr = arr.reshape((4, 5))\n",
        "arr"
      ]
    },
    {
      "cell_type": "markdown",
      "metadata": {},
      "source": [
        "# Indexing and Selection\n",
        "How to select and modify subsets of data from NumPy arrays.\n"
      ]
    },
    {
      "cell_type": "markdown",
      "metadata": {},
      "source": [
        "## Scalar indexing vs slicing\n",
        "Scalar indexing is used to access a single element in an array, while slicing is used to access a range of elements."
      ]
    },
    {
      "cell_type": "code",
      "execution_count": null,
      "metadata": {},
      "outputs": [
        {
          "data": {
            "text/plain": [
              "array([1, 2])"
            ]
          },
          "execution_count": 18,
          "metadata": {},
          "output_type": "execute_result"
        }
      ],
      "source": [
        "arr[0][1]"
      ]
    },
    {
      "cell_type": "code",
      "execution_count": null,
      "metadata": {},
      "outputs": [
        {
          "data": {
            "text/plain": [
              "array([1, 2])"
            ]
          },
          "execution_count": 19,
          "metadata": {},
          "output_type": "execute_result"
        }
      ],
      "source": [
        "arr[0, 1].item()"
      ]
    },
    {
      "cell_type": "code",
      "execution_count": 21,
      "metadata": {},
      "outputs": [
        {
          "data": {
            "text/plain": [
              "array([[14, 15],\n",
              "       [19, 20]])"
            ]
          },
          "execution_count": 21,
          "metadata": {},
          "output_type": "execute_result"
        }
      ],
      "source": [
        "arr[2:, 3:]"
      ]
    },
    {
      "cell_type": "code",
      "execution_count": 25,
      "metadata": {},
      "outputs": [
        {
          "data": {
            "text/plain": [
              "array([ 2,  7, 12, 17])"
            ]
          },
          "execution_count": 25,
          "metadata": {},
          "output_type": "execute_result"
        }
      ],
      "source": [
        "arr[:, 1]"
      ]
    },
    {
      "cell_type": "code",
      "execution_count": 26,
      "metadata": {},
      "outputs": [
        {
          "data": {
            "text/plain": [
              "array([11, 12, 13, 14, 15])"
            ]
          },
          "execution_count": 26,
          "metadata": {},
          "output_type": "execute_result"
        }
      ],
      "source": [
        "arr[2, :]"
      ]
    },
    {
      "cell_type": "markdown",
      "metadata": {},
      "source": [
        "## Multidimensional indexing: row/column order\n",
        "In NumPy, when working with multidimensional arrays, it's important to understand the order in which elements are indexed. NumPy uses a row-major order (C-style) for indexing, meaning that elements are stored row by row."
      ]
    },
    {
      "cell_type": "code",
      "execution_count": 27,
      "metadata": {},
      "outputs": [
        {
          "data": {
            "text/plain": [
              "array([1, 2, 3, 4, 5])"
            ]
          },
          "execution_count": 27,
          "metadata": {},
          "output_type": "execute_result"
        }
      ],
      "source": [
        "arr[0] # returns first row"
      ]
    },
    {
      "cell_type": "markdown",
      "metadata": {},
      "source": [
        "## Fancy indexing (integer arrays)\n",
        "Fancy indexing is a way to access specific elements of an array using integer arrays (or lists) as indices. This allows for more flexible and powerful data selection compared to standard slicing."
      ]
    },
    {
      "cell_type": "code",
      "execution_count": 55,
      "metadata": {},
      "outputs": [
        {
          "data": {
            "text/plain": [
              "array([[ 1, 15, 13,  8,  8, 17],\n",
              "       [ 1, 13,  4,  1, 10, 19],\n",
              "       [14, 15, 14, 15, 10,  2],\n",
              "       [16,  9, 10,  7,  3, 18]])"
            ]
          },
          "execution_count": 55,
          "metadata": {},
          "output_type": "execute_result"
        }
      ],
      "source": [
        "rng = np.random.default_rng(seed=42)\n",
        "\n",
        "integers = rng.integers(0, 20, (4, 6))\n",
        "integers"
      ]
    },
    {
      "cell_type": "code",
      "execution_count": 58,
      "metadata": {},
      "outputs": [
        {
          "data": {
            "text/plain": [
              "array([15, 10, 14])"
            ]
          },
          "execution_count": 58,
          "metadata": {},
          "output_type": "execute_result"
        }
      ],
      "source": [
        "integers[[0, 3, 2], [1, 2, 0]]"
      ]
    },
    {
      "cell_type": "markdown",
      "metadata": {},
      "source": [
        "## Boolean masks\n",
        "Boolean masks are arrays of boolean values (True/False) that can be used to select elements from another array based on certain conditions. This technique is useful for filtering data.\n"
      ]
    },
    {
      "cell_type": "code",
      "execution_count": 59,
      "metadata": {},
      "outputs": [
        {
          "data": {
            "text/plain": [
              "array([[ 1, 15, 13,  8,  8, 17],\n",
              "       [ 1, 13,  4,  1, 10, 19],\n",
              "       [14, 15, 14, 15, 10,  2],\n",
              "       [16,  9, 10,  7,  3, 18]])"
            ]
          },
          "execution_count": 59,
          "metadata": {},
          "output_type": "execute_result"
        }
      ],
      "source": [
        "integers"
      ]
    },
    {
      "cell_type": "code",
      "execution_count": 61,
      "metadata": {},
      "outputs": [],
      "source": [
        "mask = integers < 5"
      ]
    },
    {
      "cell_type": "code",
      "execution_count": 62,
      "metadata": {},
      "outputs": [
        {
          "data": {
            "text/plain": [
              "array([[ True, False, False, False, False, False],\n",
              "       [ True, False,  True,  True, False, False],\n",
              "       [False, False, False, False, False,  True],\n",
              "       [False, False, False, False,  True, False]])"
            ]
          },
          "execution_count": 62,
          "metadata": {},
          "output_type": "execute_result"
        }
      ],
      "source": [
        "mask"
      ]
    },
    {
      "cell_type": "code",
      "execution_count": 64,
      "metadata": {},
      "outputs": [
        {
          "data": {
            "text/plain": [
              "array([1, 1, 4, 1, 2, 3])"
            ]
          },
          "execution_count": 64,
          "metadata": {},
          "output_type": "execute_result"
        }
      ],
      "source": [
        "integers[integers < 5]"
      ]
    },
    {
      "cell_type": "code",
      "execution_count": 66,
      "metadata": {},
      "outputs": [
        {
          "data": {
            "text/plain": [
              "array([ 8,  8,  4, 10, 14, 14, 10,  2, 16, 10, 18])"
            ]
          },
          "execution_count": 66,
          "metadata": {},
          "output_type": "execute_result"
        }
      ],
      "source": [
        "integers[integers % 2 == 0]"
      ]
    },
    {
      "cell_type": "markdown",
      "metadata": {},
      "source": [
        "## In-place assignment with selection\n",
        "In-place assignment allows you to modify specific elements of an array directly using indexing or boolean masks. This is useful for updating values without creating a new array."
      ]
    },
    {
      "cell_type": "code",
      "execution_count": 67,
      "metadata": {},
      "outputs": [
        {
          "data": {
            "text/plain": [
              "array([[ 1, 15, 13,  8,  8, 17],\n",
              "       [ 1, 13,  4,  1, 10, 19],\n",
              "       [14, 15, 14, 15, 10,  2],\n",
              "       [16,  9, 10,  7,  3, 18]])"
            ]
          },
          "execution_count": 67,
          "metadata": {},
          "output_type": "execute_result"
        }
      ],
      "source": [
        "integers"
      ]
    },
    {
      "cell_type": "code",
      "execution_count": 74,
      "metadata": {},
      "outputs": [
        {
          "data": {
            "text/plain": [
              "array([2, 3, 4])"
            ]
          },
          "execution_count": 74,
          "metadata": {},
          "output_type": "execute_result"
        }
      ],
      "source": [
        "np.array([1, 2, 3]) + 1"
      ]
    },
    {
      "cell_type": "code",
      "execution_count": null,
      "metadata": {},
      "outputs": [],
      "source": []
    },
    {
      "cell_type": "code",
      "execution_count": 69,
      "metadata": {},
      "outputs": [],
      "source": [
        "integers[0] = 10"
      ]
    },
    {
      "cell_type": "code",
      "execution_count": 71,
      "metadata": {},
      "outputs": [
        {
          "data": {
            "text/plain": [
              "array([[10, 10, 10, 10, 10, 10],\n",
              "       [ 1, 13,  4,  1, 10, 19],\n",
              "       [14, 15, 14, 15, 10,  2],\n",
              "       [16,  9, 10,  7,  3, 18]])"
            ]
          },
          "execution_count": 71,
          "metadata": {},
          "output_type": "execute_result"
        }
      ],
      "source": [
        "integers"
      ]
    },
    {
      "cell_type": "code",
      "execution_count": null,
      "metadata": {},
      "outputs": [],
      "source": [
        "integers[0, :2] = -1"
      ]
    },
    {
      "cell_type": "code",
      "execution_count": 73,
      "metadata": {},
      "outputs": [
        {
          "data": {
            "text/plain": [
              "array([[-1, -1, 10, 10, 10, 10],\n",
              "       [ 1, 13,  4,  1, 10, 19],\n",
              "       [14, 15, 14, 15, 10,  2],\n",
              "       [16,  9, 10,  7,  3, 18]])"
            ]
          },
          "execution_count": 73,
          "metadata": {},
          "output_type": "execute_result"
        }
      ],
      "source": [
        "integers"
      ]
    },
    {
      "cell_type": "markdown",
      "metadata": {},
      "source": [
        "# Views vs Copies\n",
        "\n",
        "- Slices are typically views: they reference the same memory as the original array.\n",
        "- Fancy indexing and boolean masks produce copies: independent memory.\n",
        "- Use `.copy()` to force a copy.\n",
        "- Inspect the `.base` attribute to see if an array owns its memory (`.base is None`) or is a view of another array.\n"
      ]
    },
    {
      "cell_type": "code",
      "execution_count": 77,
      "metadata": {},
      "outputs": [
        {
          "data": {
            "text/plain": [
              "array([[-1, -1, 10, 10, 10, 10],\n",
              "       [ 1, 13,  4,  1, 10, 19],\n",
              "       [14, 15, 14, 15, 10,  2],\n",
              "       [16,  9, 10,  7,  3, 18]])"
            ]
          },
          "execution_count": 77,
          "metadata": {},
          "output_type": "execute_result"
        }
      ],
      "source": [
        "arr = integers\n",
        "\n",
        "arr"
      ]
    },
    {
      "cell_type": "code",
      "execution_count": 78,
      "metadata": {},
      "outputs": [
        {
          "data": {
            "text/plain": [
              "array([[30, 30, 30, 30, 30, 30],\n",
              "       [ 1, 13,  4,  1, 10, 19],\n",
              "       [14, 15, 14, 15, 10,  2],\n",
              "       [16,  9, 10,  7,  3, 18]])"
            ]
          },
          "execution_count": 78,
          "metadata": {},
          "output_type": "execute_result"
        }
      ],
      "source": [
        "arr[0] = 30\n",
        "arr"
      ]
    },
    {
      "cell_type": "code",
      "execution_count": 79,
      "metadata": {},
      "outputs": [
        {
          "data": {
            "text/plain": [
              "array([[30, 30, 30, 30, 30, 30],\n",
              "       [ 1, 13,  4,  1, 10, 19],\n",
              "       [14, 15, 14, 15, 10,  2],\n",
              "       [16,  9, 10,  7,  3, 18]])"
            ]
          },
          "execution_count": 79,
          "metadata": {},
          "output_type": "execute_result"
        }
      ],
      "source": [
        "integers"
      ]
    },
    {
      "cell_type": "code",
      "execution_count": 109,
      "metadata": {},
      "outputs": [
        {
          "data": {
            "text/plain": [
              "array([[30, 30, 30, 30, 30, 30],\n",
              "       [ 1, 13,  4,  1, 10, 19],\n",
              "       [14, 15, 14, 15, 10,  2],\n",
              "       [16,  9, 10,  7,  3, 18]])"
            ]
          },
          "execution_count": 109,
          "metadata": {},
          "output_type": "execute_result"
        }
      ],
      "source": [
        "arr = integers.copy()\n",
        "\n",
        "arr"
      ]
    },
    {
      "cell_type": "code",
      "execution_count": 110,
      "metadata": {},
      "outputs": [
        {
          "data": {
            "text/plain": [
              "array([[ 0,  0,  0,  0,  0,  0],\n",
              "       [ 1, 13,  4,  1, 10, 19],\n",
              "       [14, 15, 14, 15, 10,  2],\n",
              "       [16,  9, 10,  7,  3, 18]])"
            ]
          },
          "execution_count": 110,
          "metadata": {},
          "output_type": "execute_result"
        }
      ],
      "source": [
        "arr[0] = 0\n",
        "arr"
      ]
    },
    {
      "cell_type": "code",
      "execution_count": 111,
      "metadata": {},
      "outputs": [],
      "source": [
        "b = arr[-2:, -2:]"
      ]
    },
    {
      "cell_type": "code",
      "execution_count": 112,
      "metadata": {},
      "outputs": [
        {
          "data": {
            "text/plain": [
              "array([[10,  2],\n",
              "       [ 3, 18]])"
            ]
          },
          "execution_count": 112,
          "metadata": {},
          "output_type": "execute_result"
        }
      ],
      "source": [
        "b"
      ]
    },
    {
      "cell_type": "code",
      "execution_count": 113,
      "metadata": {},
      "outputs": [],
      "source": [
        "b[0] = 0"
      ]
    },
    {
      "cell_type": "code",
      "execution_count": 114,
      "metadata": {},
      "outputs": [
        {
          "data": {
            "text/plain": [
              "array([[ 0,  0],\n",
              "       [ 3, 18]])"
            ]
          },
          "execution_count": 114,
          "metadata": {},
          "output_type": "execute_result"
        }
      ],
      "source": [
        "b"
      ]
    },
    {
      "cell_type": "code",
      "execution_count": 115,
      "metadata": {},
      "outputs": [
        {
          "data": {
            "text/plain": [
              "array([[ 0,  0,  0,  0,  0,  0],\n",
              "       [ 1, 13,  4,  1, 10, 19],\n",
              "       [14, 15, 14, 15,  0,  0],\n",
              "       [16,  9, 10,  7,  3, 18]])"
            ]
          },
          "execution_count": 115,
          "metadata": {},
          "output_type": "execute_result"
        }
      ],
      "source": [
        "arr"
      ]
    },
    {
      "cell_type": "code",
      "execution_count": 90,
      "metadata": {},
      "outputs": [
        {
          "data": {
            "text/plain": [
              "array([[ 0,  0,  0,  0,  0,  0],\n",
              "       [ 1, 13,  4,  1, 10, 19],\n",
              "       [14, 15, 14, 15, 10,  2],\n",
              "       [16,  9, 10,  7,  3, 18]])"
            ]
          },
          "execution_count": 90,
          "metadata": {},
          "output_type": "execute_result"
        }
      ],
      "source": [
        "arr"
      ]
    },
    {
      "cell_type": "code",
      "execution_count": 116,
      "metadata": {},
      "outputs": [
        {
          "data": {
            "text/plain": [
              "False"
            ]
          },
          "execution_count": 116,
          "metadata": {},
          "output_type": "execute_result"
        }
      ],
      "source": [
        "b.base is None"
      ]
    },
    {
      "cell_type": "code",
      "execution_count": 117,
      "metadata": {},
      "outputs": [
        {
          "data": {
            "text/plain": [
              "True"
            ]
          },
          "execution_count": 117,
          "metadata": {},
          "output_type": "execute_result"
        }
      ],
      "source": [
        "arr.base is None"
      ]
    },
    {
      "cell_type": "code",
      "execution_count": 118,
      "metadata": {},
      "outputs": [
        {
          "data": {
            "text/plain": [
              "True"
            ]
          },
          "execution_count": 118,
          "metadata": {},
          "output_type": "execute_result"
        }
      ],
      "source": [
        "arr2 = arr\n",
        "\n",
        "arr2.base is None"
      ]
    },
    {
      "cell_type": "code",
      "execution_count": 120,
      "metadata": {},
      "outputs": [
        {
          "data": {
            "text/plain": [
              "array([[10, 10, 10, 10, 10, 10],\n",
              "       [ 1, 13,  4,  1, 10, 19],\n",
              "       [14, 15, 14, 15,  0,  0],\n",
              "       [16,  9, 10,  7,  3, 18]])"
            ]
          },
          "execution_count": 120,
          "metadata": {},
          "output_type": "execute_result"
        }
      ],
      "source": [
        "arr"
      ]
    },
    {
      "cell_type": "code",
      "execution_count": 121,
      "metadata": {},
      "outputs": [
        {
          "data": {
            "text/plain": [
              "array([[10, 10, 10, 10, 10, 10],\n",
              "       [ 1, 13,  4,  1, 10, 19],\n",
              "       [14, 15, 14, 15,  0,  0],\n",
              "       [16,  9, 10,  7,  3, 18]])"
            ]
          },
          "execution_count": 121,
          "metadata": {},
          "output_type": "execute_result"
        }
      ],
      "source": [
        "arr2"
      ]
    },
    {
      "cell_type": "code",
      "execution_count": 122,
      "metadata": {},
      "outputs": [
        {
          "data": {
            "text/plain": [
              "array([[10, 10, 10, 10, 10, 10],\n",
              "       [ 1, 13,  4,  1, 10, 19],\n",
              "       [14, 15, 14, 15,  0,  0]])"
            ]
          },
          "execution_count": 122,
          "metadata": {},
          "output_type": "execute_result"
        }
      ],
      "source": [
        "c = arr2[:3]\n",
        "c"
      ]
    },
    {
      "cell_type": "code",
      "execution_count": 127,
      "metadata": {},
      "outputs": [
        {
          "data": {
            "text/plain": [
              "False"
            ]
          },
          "execution_count": 127,
          "metadata": {},
          "output_type": "execute_result"
        }
      ],
      "source": [
        "c.base is None"
      ]
    },
    {
      "cell_type": "markdown",
      "metadata": {},
      "source": [
        "# Broadcasting\n",
        "\n",
        "Broadcasting lets arrays with different shapes interact by virtually \"stretching\" dimensions of size 1. Rules (simplified):\n",
        "- Compare shapes from right to left.\n",
        "- Dimensions are compatible if equal or either is 1.\n",
        "- Result shape is the max along each dimension.\n",
        "- If any pair is incompatible, error.\n",
        "\n"
      ]
    },
    {
      "cell_type": "code",
      "execution_count": null,
      "metadata": {},
      "outputs": [],
      "source": []
    },
    {
      "cell_type": "markdown",
      "metadata": {},
      "source": [
        "# Typecasting and dtypes\n",
        "\n",
        "- Every `ndarray` has a `dtype` (e.g., `int64`, `float32`, `bool`).\n",
        "- `astype(new_dtype)` returns a copy with converted type.\n",
        "- Upcasting: mixing `int` and `float` often results in float.\n",
        "- Beware of overflow when casting from float to int and of truncation.\n",
        "- Common ML practice uses float32 to save memory and accelerate on GPUs.\n"
      ]
    },
    {
      "cell_type": "code",
      "execution_count": 131,
      "metadata": {},
      "outputs": [
        {
          "data": {
            "text/plain": [
              "array([2, 3, 4])"
            ]
          },
          "execution_count": 131,
          "metadata": {},
          "output_type": "execute_result"
        }
      ],
      "source": [
        "np.array([1, 2, 3]) + [1]"
      ]
    },
    {
      "cell_type": "code",
      "execution_count": 132,
      "metadata": {},
      "outputs": [
        {
          "ename": "ValueError",
          "evalue": "operands could not be broadcast together with shapes (3,) (2,) ",
          "output_type": "error",
          "traceback": [
            "\u001b[1;31m---------------------------------------------------------------------------\u001b[0m",
            "\u001b[1;31mValueError\u001b[0m                                Traceback (most recent call last)",
            "Cell \u001b[1;32mIn[132], line 1\u001b[0m\n\u001b[1;32m----> 1\u001b[0m \u001b[43mnp\u001b[49m\u001b[38;5;241;43m.\u001b[39;49m\u001b[43marray\u001b[49m\u001b[43m(\u001b[49m\u001b[43m[\u001b[49m\u001b[38;5;241;43m1\u001b[39;49m\u001b[43m,\u001b[49m\u001b[43m \u001b[49m\u001b[38;5;241;43m2\u001b[39;49m\u001b[43m,\u001b[49m\u001b[43m \u001b[49m\u001b[38;5;241;43m3\u001b[39;49m\u001b[43m]\u001b[49m\u001b[43m)\u001b[49m\u001b[43m \u001b[49m\u001b[38;5;241;43m+\u001b[39;49m\u001b[43m \u001b[49m\u001b[43m[\u001b[49m\u001b[38;5;241;43m2\u001b[39;49m\u001b[43m,\u001b[49m\u001b[43m \u001b[49m\u001b[38;5;241;43m2\u001b[39;49m\u001b[43m]\u001b[49m\n",
            "\u001b[1;31mValueError\u001b[0m: operands could not be broadcast together with shapes (3,) (2,) "
          ]
        }
      ],
      "source": [
        "np.array([1, 2, 3]) + [2, 2]"
      ]
    },
    {
      "cell_type": "code",
      "execution_count": 138,
      "metadata": {},
      "outputs": [
        {
          "data": {
            "text/plain": [
              "array([[2, 2, 2],\n",
              "       [3, 3, 3],\n",
              "       [4, 4, 4]])"
            ]
          },
          "execution_count": 138,
          "metadata": {},
          "output_type": "execute_result"
        }
      ],
      "source": [
        "a = np.array([\n",
        "    [1],\n",
        "    [2],\n",
        "    [3]\n",
        "])\n",
        "\n",
        "b = np.array([1, 1, 1])\n",
        "\n",
        "a + b"
      ]
    },
    {
      "cell_type": "markdown",
      "metadata": {},
      "source": [
        "# Saving and Loading Data\n",
        "\n",
        "- Native binary: `np.save('file.npy', arr)` and `np.load('file.npy')`\n",
        "- Multiple arrays: `np.savez('file.npz', a=arr1, b=arr2)` → returns dict-like when loading.\n",
        "- Control dtypes on load where possible for memory.\n",
        "\n"
      ]
    },
    {
      "cell_type": "code",
      "execution_count": 139,
      "metadata": {},
      "outputs": [
        {
          "data": {
            "text/plain": [
              "array([[10, 10, 10, 10, 10, 10],\n",
              "       [ 1, 13,  4,  1, 10, 19],\n",
              "       [14, 15, 14, 15,  0,  0],\n",
              "       [16,  9, 10,  7,  3, 18]])"
            ]
          },
          "execution_count": 139,
          "metadata": {},
          "output_type": "execute_result"
        }
      ],
      "source": [
        "arr"
      ]
    },
    {
      "cell_type": "code",
      "execution_count": 140,
      "metadata": {},
      "outputs": [],
      "source": [
        "np.save('integers.npy', arr)"
      ]
    },
    {
      "cell_type": "code",
      "execution_count": 142,
      "metadata": {},
      "outputs": [
        {
          "data": {
            "text/plain": [
              "array([[10, 10, 10, 10, 10, 10],\n",
              "       [ 1, 13,  4,  1, 10, 19],\n",
              "       [14, 15, 14, 15,  0,  0],\n",
              "       [16,  9, 10,  7,  3, 18]])"
            ]
          },
          "execution_count": 142,
          "metadata": {},
          "output_type": "execute_result"
        }
      ],
      "source": [
        "arr = np.load('integers.npy')\n",
        "arr"
      ]
    },
    {
      "cell_type": "code",
      "execution_count": 143,
      "metadata": {},
      "outputs": [
        {
          "data": {
            "text/plain": [
              "array([[ 0.0660307 ,  1.12724121],\n",
              "       [ 0.46750934, -0.85929246],\n",
              "       [ 0.36875078, -0.9588826 ],\n",
              "       [ 0.8784503 , -0.04992591],\n",
              "       [-0.18486236, -0.68092954],\n",
              "       [ 1.22254134, -0.15452948],\n",
              "       [-0.42832782, -0.35213355],\n",
              "       [ 0.53230919,  0.36544406],\n",
              "       [ 0.41273261,  0.430821  ],\n",
              "       [ 2.1416476 , -0.40641502]])"
            ]
          },
          "execution_count": 143,
          "metadata": {},
          "output_type": "execute_result"
        }
      ],
      "source": [
        "arr1 = rng.normal(0, 1, (10, 2))\n",
        "arr1"
      ]
    },
    {
      "cell_type": "code",
      "execution_count": 144,
      "metadata": {},
      "outputs": [
        {
          "data": {
            "text/plain": [
              "array([[3.25825358, 3.70459706, 4.69555811, 1.89471359, 1.29921505],\n",
              "       [4.75704926, 2.26909349, 6.69813995, 4.37151919, 8.32678196],\n",
              "       [7.00265102, 3.12366641, 8.32259801, 8.04764357, 3.87478379],\n",
              "       [2.88328104, 6.82495504, 1.39752484, 1.99908202, 0.0736227 ],\n",
              "       [7.86924378, 6.64850857, 7.05165379, 7.80729031, 4.58915776]])"
            ]
          },
          "execution_count": 144,
          "metadata": {},
          "output_type": "execute_result"
        }
      ],
      "source": [
        "arr2 = rng.uniform(0, 10, (5, 5))\n",
        "arr2"
      ]
    },
    {
      "cell_type": "code",
      "execution_count": 145,
      "metadata": {},
      "outputs": [],
      "source": [
        "np.savez('arrays.npz', a=arr1, b=arr2)\n"
      ]
    },
    {
      "cell_type": "code",
      "execution_count": 147,
      "metadata": {},
      "outputs": [],
      "source": [
        "data = np.load('arrays.npz')"
      ]
    },
    {
      "cell_type": "code",
      "execution_count": 148,
      "metadata": {},
      "outputs": [
        {
          "data": {
            "text/plain": [
              "array([[ 0.0660307 ,  1.12724121],\n",
              "       [ 0.46750934, -0.85929246],\n",
              "       [ 0.36875078, -0.9588826 ],\n",
              "       [ 0.8784503 , -0.04992591],\n",
              "       [-0.18486236, -0.68092954],\n",
              "       [ 1.22254134, -0.15452948],\n",
              "       [-0.42832782, -0.35213355],\n",
              "       [ 0.53230919,  0.36544406],\n",
              "       [ 0.41273261,  0.430821  ],\n",
              "       [ 2.1416476 , -0.40641502]])"
            ]
          },
          "execution_count": 148,
          "metadata": {},
          "output_type": "execute_result"
        }
      ],
      "source": [
        "arr1 = data['a']\n",
        "arr1"
      ]
    },
    {
      "cell_type": "code",
      "execution_count": 149,
      "metadata": {},
      "outputs": [
        {
          "data": {
            "text/plain": [
              "array([[3.25825358, 3.70459706, 4.69555811, 1.89471359, 1.29921505],\n",
              "       [4.75704926, 2.26909349, 6.69813995, 4.37151919, 8.32678196],\n",
              "       [7.00265102, 3.12366641, 8.32259801, 8.04764357, 3.87478379],\n",
              "       [2.88328104, 6.82495504, 1.39752484, 1.99908202, 0.0736227 ],\n",
              "       [7.86924378, 6.64850857, 7.05165379, 7.80729031, 4.58915776]])"
            ]
          },
          "execution_count": 149,
          "metadata": {},
          "output_type": "execute_result"
        }
      ],
      "source": [
        "data['b']"
      ]
    },
    {
      "cell_type": "code",
      "execution_count": 151,
      "metadata": {},
      "outputs": [
        {
          "data": {
            "text/plain": [
              "ValuesView(NpzFile 'arrays.npz' with keys: a, b)"
            ]
          },
          "execution_count": 151,
          "metadata": {},
          "output_type": "execute_result"
        }
      ],
      "source": [
        "data.values()"
      ]
    },
    {
      "cell_type": "code",
      "execution_count": 1,
      "metadata": {},
      "outputs": [],
      "source": [
        "import numpy as np"
      ]
    },
    {
      "cell_type": "markdown",
      "metadata": {},
      "source": [
        "# Practice: Short Exercises\n",
        "\n",
        "1) Create a 6×6 array and:\n",
        "   - Set the diagonal to 1 and anti-diagonal to 2 using slicing and fancy indexing.\n",
        "   - Replace all values > mean with their z-scores (broadcasting) and leave others unchanged.\n"
      ]
    },
    {
      "cell_type": "code",
      "execution_count": 54,
      "metadata": {},
      "outputs": [
        {
          "data": {
            "text/plain": [
              "dtype('int64')"
            ]
          },
          "execution_count": 54,
          "metadata": {},
          "output_type": "execute_result"
        }
      ],
      "source": [
        "arr = np.arange(36).reshape((6,6))\n",
        "arr.dtype"
      ]
    },
    {
      "cell_type": "code",
      "execution_count": 57,
      "metadata": {},
      "outputs": [
        {
          "data": {
            "text/plain": [
              "array([[ 0.,  1.,  2.,  3.,  4.,  5.],\n",
              "       [ 6.,  7.,  8.,  9., 10., 11.],\n",
              "       [12., 13., 14., 15., 16., 17.],\n",
              "       [18., 19., 20., 21., 22., 23.],\n",
              "       [24., 25., 26., 27., 28., 29.],\n",
              "       [30., 31., 32., 33., 34., 35.]], dtype=float32)"
            ]
          },
          "execution_count": 57,
          "metadata": {},
          "output_type": "execute_result"
        }
      ],
      "source": [
        "arr = arr.astype(dtype=np.float32)\n",
        "arr"
      ]
    },
    {
      "cell_type": "code",
      "execution_count": 58,
      "metadata": {},
      "outputs": [
        {
          "data": {
            "text/plain": [
              "dtype('float32')"
            ]
          },
          "execution_count": 58,
          "metadata": {},
          "output_type": "execute_result"
        }
      ],
      "source": [
        "arr.dtype"
      ]
    },
    {
      "cell_type": "code",
      "execution_count": 59,
      "metadata": {},
      "outputs": [],
      "source": [
        "# arr = np.linspace(0, 100, 10)\n",
        "# arr"
      ]
    },
    {
      "cell_type": "code",
      "execution_count": 60,
      "metadata": {},
      "outputs": [
        {
          "data": {
            "text/plain": [
              "array([[ 1.,  1.,  2.,  3.,  4.,  5.],\n",
              "       [ 6.,  1.,  8.,  9., 10., 11.],\n",
              "       [12., 13.,  1., 15., 16., 17.],\n",
              "       [18., 19., 20.,  1., 22., 23.],\n",
              "       [24., 25., 26., 27.,  1., 29.],\n",
              "       [30., 31., 32., 33., 34.,  1.]], dtype=float32)"
            ]
          },
          "execution_count": 60,
          "metadata": {},
          "output_type": "execute_result"
        }
      ],
      "source": [
        "arr[[0, 1, 2, 3, 4, 5], [0, 1, 2, 3, 4, 5]] = 1\n",
        "\n",
        "arr"
      ]
    },
    {
      "cell_type": "code",
      "execution_count": 61,
      "metadata": {},
      "outputs": [
        {
          "data": {
            "text/plain": [
              "np.float32(14.75)"
            ]
          },
          "execution_count": 61,
          "metadata": {},
          "output_type": "execute_result"
        }
      ],
      "source": [
        "arr.mean()"
      ]
    },
    {
      "cell_type": "code",
      "execution_count": 62,
      "metadata": {},
      "outputs": [
        {
          "data": {
            "text/plain": [
              "array([[False, False, False, False, False, False],\n",
              "       [False, False, False, False, False, False],\n",
              "       [False, False, False,  True,  True,  True],\n",
              "       [ True,  True,  True, False,  True,  True],\n",
              "       [ True,  True,  True,  True, False,  True],\n",
              "       [ True,  True,  True,  True,  True, False]])"
            ]
          },
          "execution_count": 62,
          "metadata": {},
          "output_type": "execute_result"
        }
      ],
      "source": [
        "arr > arr.mean()"
      ]
    },
    {
      "cell_type": "code",
      "execution_count": 63,
      "metadata": {},
      "outputs": [
        {
          "data": {
            "text/plain": [
              "array([15., 16., 17., 18., 19., 20., 22., 23., 24., 25., 26., 27., 29.,\n",
              "       30., 31., 32., 33., 34.], dtype=float32)"
            ]
          },
          "execution_count": 63,
          "metadata": {},
          "output_type": "execute_result"
        }
      ],
      "source": [
        "greater_than_mean = arr[arr > arr.mean()].copy()\n",
        "greater_than_mean"
      ]
    },
    {
      "cell_type": "code",
      "execution_count": 64,
      "metadata": {},
      "outputs": [
        {
          "data": {
            "text/plain": [
              "np.float32(11.041273)"
            ]
          },
          "execution_count": 64,
          "metadata": {},
          "output_type": "execute_result"
        }
      ],
      "source": [
        "arr.std()"
      ]
    },
    {
      "cell_type": "code",
      "execution_count": 65,
      "metadata": {},
      "outputs": [
        {
          "data": {
            "text/plain": [
              "array([-0.02264232, -0.11321158, -0.20378084, -0.29435012, -0.38491938,\n",
              "       -0.47548863, -0.6566272 , -0.74719644, -0.8377657 , -0.92833495,\n",
              "       -1.0189042 , -1.1094735 , -1.290612  , -1.3811814 , -1.4717506 ,\n",
              "       -1.5623199 , -1.6528891 , -1.7434584 ], dtype=float32)"
            ]
          },
          "execution_count": 65,
          "metadata": {},
          "output_type": "execute_result"
        }
      ],
      "source": [
        "greater_than_mean = (arr.mean() - greater_than_mean) / arr.std()\n",
        "greater_than_mean"
      ]
    },
    {
      "cell_type": "code",
      "execution_count": 66,
      "metadata": {},
      "outputs": [
        {
          "data": {
            "text/plain": [
              "array([[ 1.        ,  1.        ,  2.        ,  3.        ,  4.        ,\n",
              "         5.        ],\n",
              "       [ 6.        ,  1.        ,  8.        ,  9.        , 10.        ,\n",
              "        11.        ],\n",
              "       [12.        , 13.        ,  1.        , -0.02264232, -0.11321158,\n",
              "        -0.20378084],\n",
              "       [-0.29435012, -0.38491938, -0.47548863,  1.        , -0.6566272 ,\n",
              "        -0.74719644],\n",
              "       [-0.8377657 , -0.92833495, -1.0189042 , -1.1094735 ,  1.        ,\n",
              "        -1.290612  ],\n",
              "       [-1.3811814 , -1.4717506 , -1.5623199 , -1.6528891 , -1.7434584 ,\n",
              "         1.        ]], dtype=float32)"
            ]
          },
          "execution_count": 66,
          "metadata": {},
          "output_type": "execute_result"
        }
      ],
      "source": [
        "arr[arr > arr.mean()] = greater_than_mean\n",
        "arr"
      ]
    },
    {
      "cell_type": "code",
      "execution_count": 52,
      "metadata": {},
      "outputs": [
        {
          "data": {
            "text/plain": [
              "dtype('int64')"
            ]
          },
          "execution_count": 52,
          "metadata": {},
          "output_type": "execute_result"
        }
      ],
      "source": [
        "arr.dtype"
      ]
    },
    {
      "cell_type": "markdown",
      "metadata": {},
      "source": [
        "2) Given a 2D array of shape (N, D), standardize per feature using `keepdims=True`. Verify each column mean is ~0 and std is ~1.\n"
      ]
    },
    {
      "cell_type": "code",
      "execution_count": null,
      "metadata": {},
      "outputs": [],
      "source": []
    },
    {
      "cell_type": "markdown",
      "metadata": {},
      "source": [
        "3) Save three arrays `A`, `B`, `C` to a single `.npz`, load and reconstruct `A @ B + C`. Use `float32` dtypes.\n"
      ]
    },
    {
      "cell_type": "code",
      "execution_count": null,
      "metadata": {},
      "outputs": [],
      "source": []
    },
    {
      "cell_type": "markdown",
      "metadata": {},
      "source": [
        "\n",
        "4) Create a boolean mask that selects rows where the sum is divisible by 3, then set those rows to 0 in-place.\n",
        "\n"
      ]
    },
    {
      "cell_type": "code",
      "execution_count": null,
      "metadata": {},
      "outputs": [],
      "source": []
    }
  ],
  "metadata": {
    "kernelspec": {
      "display_name": "ul-env",
      "language": "python",
      "name": "python3"
    },
    "language_info": {
      "codemirror_mode": {
        "name": "ipython",
        "version": 3
      },
      "file_extension": ".py",
      "mimetype": "text/x-python",
      "name": "python",
      "nbconvert_exporter": "python",
      "pygments_lexer": "ipython3",
      "version": "3.12.0"
    }
  },
  "nbformat": 4,
  "nbformat_minor": 2
}
