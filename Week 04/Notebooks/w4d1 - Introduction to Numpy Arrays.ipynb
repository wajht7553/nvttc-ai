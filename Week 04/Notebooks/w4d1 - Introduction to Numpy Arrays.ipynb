{
  "cells": [
    {
      "cell_type": "markdown",
      "metadata": {},
      "source": [
        "# Summer of Code - Artificial Intelligence\n",
        "## Week 04: Exploratory Data Analysis\n",
        "### Day 01: Introduction to Numpy\n",
        "\n",
        "In this notebook, we will learn about **Numpy Arrays and Common Operations**."
      ]
    },
    {
      "cell_type": "markdown",
      "metadata": {},
      "source": [
        "# Installing Numpy (or any other package)\n",
        "To install Numpy, you can use the following command:\n",
        "`pip install numpy`"
      ]
    },
    {
      "cell_type": "code",
      "execution_count": 18,
      "metadata": {},
      "outputs": [
        {
          "name": "stdout",
          "output_type": "stream",
          "text": [
            "Requirement already satisfied: numpy in c:\\users\\diplab\\.conda\\envs\\ul-env\\lib\\site-packages (2.2.6)\n"
          ]
        }
      ],
      "source": [
        "!pip install numpy"
      ]
    },
    {
      "cell_type": "markdown",
      "metadata": {},
      "source": [
        "## But What is a Package?\n",
        "A Python package is a collection of related modules (Python files) organized in a directory with an `__init__.py` file.\n"
      ]
    },
    {
      "cell_type": "code",
      "execution_count": 20,
      "metadata": {},
      "outputs": [
        {
          "data": {
            "text/plain": [
              "'2.2.6'"
            ]
          },
          "execution_count": 20,
          "metadata": {},
          "output_type": "execute_result"
        }
      ],
      "source": [
        "# Check Installation\n",
        "import numpy\n",
        "\n",
        "numpy.__version__"
      ]
    },
    {
      "cell_type": "code",
      "execution_count": 22,
      "metadata": {},
      "outputs": [
        {
          "data": {
            "text/plain": [
              "'2.2.6'"
            ]
          },
          "execution_count": 22,
          "metadata": {},
          "output_type": "execute_result"
        }
      ],
      "source": [
        "import numpy as np\n",
        "np.__version__"
      ]
    },
    {
      "cell_type": "markdown",
      "metadata": {},
      "source": [
        "# What is NumPy?\n",
        "\n",
        "- NumPy is the fundamental package for numerical computing in Python.\n",
        "- Provides the `ndarray` (n-dimensional array) for fast, vectorized operations.\n",
        "- Written in C under the hood for performance; operations run much faster than pure Python loops.\n",
        "\n",
        "## NumPy arrays vs Python lists\n",
        "\n",
        "- Fixed-type, contiguous memory vs. variable-type, object arrays.\n",
        "- Vectorized operations (element-wise) vs. explicit Python loops.\n",
        "- Rich slicing, indexing, and memory views.\n"
      ]
    },
    {
      "cell_type": "code",
      "execution_count": 37,
      "metadata": {},
      "outputs": [],
      "source": [
        "numbers_list = list(range(1000000))\n",
        "numbers_array = np.array(numbers_list)"
      ]
    },
    {
      "cell_type": "code",
      "execution_count": 38,
      "metadata": {},
      "outputs": [
        {
          "data": {
            "text/plain": [
              "list"
            ]
          },
          "execution_count": 38,
          "metadata": {},
          "output_type": "execute_result"
        }
      ],
      "source": [
        "type(numbers_list)"
      ]
    },
    {
      "cell_type": "code",
      "execution_count": 39,
      "metadata": {},
      "outputs": [
        {
          "data": {
            "text/plain": [
              "numpy.ndarray"
            ]
          },
          "execution_count": 39,
          "metadata": {},
          "output_type": "execute_result"
        }
      ],
      "source": [
        "type(numbers_array)"
      ]
    },
    {
      "cell_type": "code",
      "execution_count": 40,
      "metadata": {},
      "outputs": [
        {
          "data": {
            "text/plain": [
              "1758538941.1334672"
            ]
          },
          "execution_count": 40,
          "metadata": {},
          "output_type": "execute_result"
        }
      ],
      "source": [
        "import time\n",
        "\n",
        "\n",
        "time.time()"
      ]
    },
    {
      "cell_type": "code",
      "execution_count": null,
      "metadata": {},
      "outputs": [
        {
          "name": "stdout",
          "output_type": "stream",
          "text": [
            "List operation: 0.06027\n",
            "Array operation: 0.00196\n"
          ]
        }
      ],
      "source": [
        "# Calculating execution time for list operation\n",
        "start_time = time.time()\n",
        "sum_of_list = sum(numbers_list)\n",
        "end_time = time.time()\n",
        "\n",
        "list_exec_time = end_time - start_time\n",
        "\n",
        "# Calculating execution time for numpy array operation\n",
        "start_time = time.time()\n",
        "sum_of_list = np.sum(numbers_array)\n",
        "end_time = time.time()\n",
        "\n",
        "arr_exec_time = end_time - start_time\n",
        "\n",
        "\n",
        "print(f\"List operation: {list_exec_time:.5f}\")\n",
        "print(f\"Array operation: {arr_exec_time:.5f}\")"
      ]
    },
    {
      "cell_type": "markdown",
      "metadata": {},
      "source": [
        "# Creating NumPy arrays\n",
        "\n",
        "You can create arrays from Python lists, or using NumPy's array-creation utilities.\n"
      ]
    },
    {
      "cell_type": "code",
      "execution_count": 44,
      "metadata": {},
      "outputs": [
        {
          "name": "stdout",
          "output_type": "stream",
          "text": [
            "[1 2 3]\n"
          ]
        }
      ],
      "source": [
        "arr = np.array([1, 2, 3])\n",
        "print(arr)"
      ]
    },
    {
      "cell_type": "code",
      "execution_count": 45,
      "metadata": {},
      "outputs": [
        {
          "data": {
            "text/plain": [
              "numpy.ndarray"
            ]
          },
          "execution_count": 45,
          "metadata": {},
          "output_type": "execute_result"
        }
      ],
      "source": [
        "type(arr)"
      ]
    },
    {
      "cell_type": "code",
      "execution_count": 46,
      "metadata": {},
      "outputs": [
        {
          "data": {
            "text/plain": [
              "array([1, 2, 3, 4])"
            ]
          },
          "execution_count": 46,
          "metadata": {},
          "output_type": "execute_result"
        }
      ],
      "source": [
        "a_list = [1, 2, 3, 4]\n",
        "arr = np.array(a_list)\n",
        "arr"
      ]
    },
    {
      "cell_type": "code",
      "execution_count": 47,
      "metadata": {},
      "outputs": [
        {
          "data": {
            "text/plain": [
              "array([0, 1, 2, 3, 4, 5, 6, 7, 8, 9])"
            ]
          },
          "execution_count": 47,
          "metadata": {},
          "output_type": "execute_result"
        }
      ],
      "source": [
        "arr = np.array(range(10))\n",
        "arr"
      ]
    },
    {
      "cell_type": "code",
      "execution_count": 51,
      "metadata": {},
      "outputs": [
        {
          "data": {
            "text/plain": [
              "array([2, 5, 8])"
            ]
          },
          "execution_count": 51,
          "metadata": {},
          "output_type": "execute_result"
        }
      ],
      "source": [
        "arr = np.arange(2, 10, 3)\n",
        "arr"
      ]
    },
    {
      "cell_type": "code",
      "execution_count": 57,
      "metadata": {},
      "outputs": [
        {
          "data": {
            "text/plain": [
              "array([[0., 0., 0.],\n",
              "       [0., 0., 0.]])"
            ]
          },
          "execution_count": 57,
          "metadata": {},
          "output_type": "execute_result"
        }
      ],
      "source": [
        "# array of zeros (0)\n",
        "np.zeros((2, 3))"
      ]
    },
    {
      "cell_type": "code",
      "execution_count": 58,
      "metadata": {},
      "outputs": [
        {
          "data": {
            "text/plain": [
              "array([1., 1., 1., 1.])"
            ]
          },
          "execution_count": 58,
          "metadata": {},
          "output_type": "execute_result"
        }
      ],
      "source": [
        "np.ones(4)"
      ]
    },
    {
      "cell_type": "code",
      "execution_count": 59,
      "metadata": {},
      "outputs": [
        {
          "data": {
            "text/plain": [
              "array([[1., 1., 1.],\n",
              "       [1., 1., 1.],\n",
              "       [1., 1., 1.]])"
            ]
          },
          "execution_count": 59,
          "metadata": {},
          "output_type": "execute_result"
        }
      ],
      "source": [
        "np.ones((3, 3))"
      ]
    },
    {
      "cell_type": "code",
      "execution_count": 62,
      "metadata": {},
      "outputs": [
        {
          "data": {
            "text/plain": [
              "array([[10, 10, 10, 10, 10],\n",
              "       [10, 10, 10, 10, 10]])"
            ]
          },
          "execution_count": 62,
          "metadata": {},
          "output_type": "execute_result"
        }
      ],
      "source": [
        "np.full((2, 5), 10)"
      ]
    },
    {
      "cell_type": "code",
      "execution_count": 63,
      "metadata": {},
      "outputs": [
        {
          "data": {
            "text/plain": [
              "array([5, 5, 5, 5, 5])"
            ]
          },
          "execution_count": 63,
          "metadata": {},
          "output_type": "execute_result"
        }
      ],
      "source": [
        "np.full(5, 5)"
      ]
    },
    {
      "cell_type": "code",
      "execution_count": 65,
      "metadata": {},
      "outputs": [
        {
          "data": {
            "text/plain": [
              "array([[1., 0., 0., 0.],\n",
              "       [0., 1., 0., 0.],\n",
              "       [0., 0., 1., 0.],\n",
              "       [0., 0., 0., 1.]])"
            ]
          },
          "execution_count": 65,
          "metadata": {},
          "output_type": "execute_result"
        }
      ],
      "source": [
        "np.eye(4)"
      ]
    },
    {
      "cell_type": "markdown",
      "metadata": {},
      "source": [
        "## Random arrays"
      ]
    },
    {
      "cell_type": "code",
      "execution_count": 117,
      "metadata": {},
      "outputs": [
        {
          "data": {
            "text/plain": [
              "Generator(PCG64) at 0x2A364D90900"
            ]
          },
          "execution_count": 117,
          "metadata": {},
          "output_type": "execute_result"
        }
      ],
      "source": [
        "rng = np.random.default_rng()\n",
        "rng"
      ]
    },
    {
      "cell_type": "code",
      "execution_count": 138,
      "metadata": {},
      "outputs": [
        {
          "data": {
            "text/plain": [
              "array([[0.45568715, 0.77925921, 0.4863272 ],\n",
              "       [0.81900088, 0.38214844, 0.58665039]])"
            ]
          },
          "execution_count": 138,
          "metadata": {},
          "output_type": "execute_result"
        }
      ],
      "source": [
        "rng.random((2, 3))"
      ]
    },
    {
      "cell_type": "code",
      "execution_count": 140,
      "metadata": {},
      "outputs": [
        {
          "data": {
            "text/plain": [
              "array([[9, 4, 1],\n",
              "       [5, 0, 0]])"
            ]
          },
          "execution_count": 140,
          "metadata": {},
          "output_type": "execute_result"
        }
      ],
      "source": [
        "rng.integers(0, 10, (2, 3))"
      ]
    },
    {
      "cell_type": "code",
      "execution_count": 143,
      "metadata": {},
      "outputs": [
        {
          "data": {
            "text/plain": [
              "array([[ 0.41728445,  0.7541373 , -0.1847521 ],\n",
              "       [-0.27199782,  0.42009481,  1.05093212]])"
            ]
          },
          "execution_count": 143,
          "metadata": {},
          "output_type": "execute_result"
        }
      ],
      "source": [
        "rng.normal(0.5, 0.5, (2, 3))"
      ]
    },
    {
      "cell_type": "markdown",
      "metadata": {},
      "source": [
        "## Array attributes and reshaping\n",
        "\n",
        "Key attributes:\n",
        "- `ndim`: number of dimensions\n",
        "- `shape`: size along each dimension\n",
        "- `size`: total number of elements\n",
        "- `dtype`: data type of elements\n",
        "\n",
        "Reshaping changes the view of the data without changing the underlying memory when possible.\n"
      ]
    },
    {
      "cell_type": "code",
      "execution_count": 145,
      "metadata": {},
      "outputs": [
        {
          "data": {
            "text/plain": [
              "3"
            ]
          },
          "execution_count": 145,
          "metadata": {},
          "output_type": "execute_result"
        }
      ],
      "source": [
        "arr = np.array([1, 2, 3])\n",
        "arr.size"
      ]
    },
    {
      "cell_type": "code",
      "execution_count": 146,
      "metadata": {},
      "outputs": [
        {
          "data": {
            "text/plain": [
              "1"
            ]
          },
          "execution_count": 146,
          "metadata": {},
          "output_type": "execute_result"
        }
      ],
      "source": [
        "arr.ndim"
      ]
    },
    {
      "cell_type": "code",
      "execution_count": 147,
      "metadata": {},
      "outputs": [
        {
          "data": {
            "text/plain": [
              "(3,)"
            ]
          },
          "execution_count": 147,
          "metadata": {},
          "output_type": "execute_result"
        }
      ],
      "source": [
        "arr.shape"
      ]
    },
    {
      "cell_type": "code",
      "execution_count": 148,
      "metadata": {},
      "outputs": [
        {
          "data": {
            "text/plain": [
              "dtype('int64')"
            ]
          },
          "execution_count": 148,
          "metadata": {},
          "output_type": "execute_result"
        }
      ],
      "source": [
        "arr.dtype"
      ]
    },
    {
      "cell_type": "code",
      "execution_count": 150,
      "metadata": {},
      "outputs": [
        {
          "data": {
            "text/plain": [
              "dtype('int8')"
            ]
          },
          "execution_count": 150,
          "metadata": {},
          "output_type": "execute_result"
        }
      ],
      "source": [
        "arr = np.array([1, 2, 3], dtype='int8')\n",
        "arr.dtype"
      ]
    },
    {
      "cell_type": "code",
      "execution_count": 152,
      "metadata": {},
      "outputs": [
        {
          "name": "stdout",
          "output_type": "stream",
          "text": [
            "[[1 2 3]\n",
            " [4 5 6]]\n"
          ]
        }
      ],
      "source": [
        "arr_2d = np.array([[1, 2, 3], [4, 5, 6]])\n",
        "print(arr_2d)"
      ]
    },
    {
      "cell_type": "code",
      "execution_count": 154,
      "metadata": {},
      "outputs": [
        {
          "data": {
            "text/plain": [
              "6"
            ]
          },
          "execution_count": 154,
          "metadata": {},
          "output_type": "execute_result"
        }
      ],
      "source": [
        "arr_2d.size"
      ]
    },
    {
      "cell_type": "code",
      "execution_count": 155,
      "metadata": {},
      "outputs": [
        {
          "data": {
            "text/plain": [
              "(2, 3)"
            ]
          },
          "execution_count": 155,
          "metadata": {},
          "output_type": "execute_result"
        }
      ],
      "source": [
        "arr_2d.shape"
      ]
    },
    {
      "cell_type": "code",
      "execution_count": 156,
      "metadata": {},
      "outputs": [
        {
          "data": {
            "text/plain": [
              "2"
            ]
          },
          "execution_count": 156,
          "metadata": {},
          "output_type": "execute_result"
        }
      ],
      "source": [
        "arr_2d.ndim"
      ]
    },
    {
      "cell_type": "code",
      "execution_count": 157,
      "metadata": {},
      "outputs": [
        {
          "name": "stdout",
          "output_type": "stream",
          "text": [
            "[[0. 0. 0.]\n",
            " [0. 0. 0.]\n",
            " [0. 0. 0.]\n",
            " [0. 0. 0.]\n",
            " [0. 0. 0.]]\n"
          ]
        }
      ],
      "source": [
        "arr_2d = np.zeros((5, 3))\n",
        "print(arr_2d)"
      ]
    },
    {
      "cell_type": "code",
      "execution_count": 158,
      "metadata": {},
      "outputs": [
        {
          "data": {
            "text/plain": [
              "(5, 3)"
            ]
          },
          "execution_count": 158,
          "metadata": {},
          "output_type": "execute_result"
        }
      ],
      "source": [
        "arr_2d.shape"
      ]
    },
    {
      "cell_type": "code",
      "execution_count": 159,
      "metadata": {},
      "outputs": [
        {
          "data": {
            "text/plain": [
              "2"
            ]
          },
          "execution_count": 159,
          "metadata": {},
          "output_type": "execute_result"
        }
      ],
      "source": [
        "arr_2d.ndim"
      ]
    },
    {
      "cell_type": "markdown",
      "metadata": {},
      "source": [
        "# Array Operations"
      ]
    },
    {
      "cell_type": "markdown",
      "metadata": {},
      "source": [
        "## Aggregations and reductions\n",
        "\n",
        "Common methods:\n",
        "- `max`: maximum value\n",
        "- `min` : minimum value\n",
        "- `argmax` : index of maximum value\n",
        "- `argmin` : index of minimum value\n",
        "- `sum` : sum of values\n",
        "- `mean` : mean (average) of values\n",
        "- `std` : standard deviation\n",
        "- `var` : variance\n",
        "\n",
        "These use the `axis` parameter to compute along rows or columns.\n"
      ]
    },
    {
      "cell_type": "code",
      "execution_count": 165,
      "metadata": {},
      "outputs": [],
      "source": [
        "arr1 = np.array([1, 2, 3])\n",
        "arr2 = np.array([1, 1, 1])\n"
      ]
    },
    {
      "cell_type": "code",
      "execution_count": 166,
      "metadata": {},
      "outputs": [
        {
          "data": {
            "text/plain": [
              "array([1, 2, 3])"
            ]
          },
          "execution_count": 166,
          "metadata": {},
          "output_type": "execute_result"
        }
      ],
      "source": [
        "arr1 * arr2"
      ]
    },
    {
      "cell_type": "code",
      "execution_count": 167,
      "metadata": {},
      "outputs": [
        {
          "data": {
            "text/plain": [
              "array([1, 4, 9])"
            ]
          },
          "execution_count": 167,
          "metadata": {},
          "output_type": "execute_result"
        }
      ],
      "source": [
        "arr1 ** 2"
      ]
    },
    {
      "cell_type": "code",
      "execution_count": 177,
      "metadata": {},
      "outputs": [
        {
          "data": {
            "text/plain": [
              "np.int64(3)"
            ]
          },
          "execution_count": 177,
          "metadata": {},
          "output_type": "execute_result"
        }
      ],
      "source": [
        "arr1.max()"
      ]
    },
    {
      "cell_type": "code",
      "execution_count": 178,
      "metadata": {},
      "outputs": [
        {
          "data": {
            "text/plain": [
              "np.int64(3)"
            ]
          },
          "execution_count": 178,
          "metadata": {},
          "output_type": "execute_result"
        }
      ],
      "source": [
        "np.max(arr1)"
      ]
    },
    {
      "cell_type": "code",
      "execution_count": 179,
      "metadata": {},
      "outputs": [
        {
          "data": {
            "text/plain": [
              "np.int64(2)"
            ]
          },
          "execution_count": 179,
          "metadata": {},
          "output_type": "execute_result"
        }
      ],
      "source": [
        "arr1.argmax()"
      ]
    },
    {
      "cell_type": "code",
      "execution_count": null,
      "metadata": {},
      "outputs": [
        {
          "data": {
            "text/plain": [
              "2.0"
            ]
          },
          "execution_count": 181,
          "metadata": {},
          "output_type": "execute_result"
        }
      ],
      "source": [
        "arr1.mean()"
      ]
    },
    {
      "cell_type": "code",
      "execution_count": 182,
      "metadata": {},
      "outputs": [
        {
          "data": {
            "text/plain": [
              "array([[2, 2, 2, 2],\n",
              "       [2, 2, 2, 2],\n",
              "       [2, 2, 2, 2]])"
            ]
          },
          "execution_count": 182,
          "metadata": {},
          "output_type": "execute_result"
        }
      ],
      "source": [
        "arr2 = np.full((3, 4), 2)\n",
        "arr2"
      ]
    },
    {
      "cell_type": "code",
      "execution_count": 186,
      "metadata": {},
      "outputs": [
        {
          "data": {
            "text/plain": [
              "array([8, 8, 8])"
            ]
          },
          "execution_count": 186,
          "metadata": {},
          "output_type": "execute_result"
        }
      ],
      "source": [
        "arr2.sum(axis=1)"
      ]
    },
    {
      "cell_type": "code",
      "execution_count": 184,
      "metadata": {},
      "outputs": [
        {
          "data": {
            "text/plain": [
              "np.int64(2)"
            ]
          },
          "execution_count": 184,
          "metadata": {},
          "output_type": "execute_result"
        }
      ],
      "source": [
        "arr2.max()"
      ]
    },
    {
      "cell_type": "markdown",
      "metadata": {},
      "source": [
        "## Copying vs views and structural operations\n",
        "\n",
        "- Indexing and slicing often return views (share memory) not copies.\n",
        "- Use `.copy()` to force a real copy.\n",
        "- Structural operations: `append`, `insert`, `delete` return new arrays (they do not modify in place).\n"
      ]
    },
    {
      "cell_type": "code",
      "execution_count": 187,
      "metadata": {},
      "outputs": [
        {
          "name": "stdout",
          "output_type": "stream",
          "text": [
            "[[ 9  0  6 16]\n",
            " [ 7  9  5 14]\n",
            " [17  6  5  6]]\n"
          ]
        }
      ],
      "source": [
        "arr2d = rng.integers(0, 20, (3, 4))\n",
        "print(arr2d)"
      ]
    },
    {
      "cell_type": "code",
      "execution_count": 198,
      "metadata": {},
      "outputs": [
        {
          "name": "stdout",
          "output_type": "stream",
          "text": [
            "[11 17  7 19 11 15  5 13  0 14  1 13 11 17 16 15  8  0]\n"
          ]
        }
      ],
      "source": [
        "arr = rng.integers(0, 20, (18))\n",
        "print(arr)"
      ]
    },
    {
      "cell_type": "code",
      "execution_count": 192,
      "metadata": {},
      "outputs": [
        {
          "data": {
            "text/plain": [
              "array([[ 8, 15,  4,  6, 14, 18, 18,  6, 18],\n",
              "       [ 5, 16, 19, 10, 10, 15,  3,  3, 16]])"
            ]
          },
          "execution_count": 192,
          "metadata": {},
          "output_type": "execute_result"
        }
      ],
      "source": [
        "arr.reshape(2, 9)"
      ]
    },
    {
      "cell_type": "code",
      "execution_count": 194,
      "metadata": {},
      "outputs": [
        {
          "data": {
            "text/plain": [
              "array([[ 8, 15,  4,  6, 14, 18],\n",
              "       [18,  6, 18,  5, 16, 19],\n",
              "       [10, 10, 15,  3,  3, 16]])"
            ]
          },
          "execution_count": 194,
          "metadata": {},
          "output_type": "execute_result"
        }
      ],
      "source": [
        "arr.reshape(3, 6)"
      ]
    },
    {
      "cell_type": "code",
      "execution_count": 200,
      "metadata": {},
      "outputs": [
        {
          "data": {
            "text/plain": [
              "array([[11, 17],\n",
              "       [ 7, 19],\n",
              "       [11, 15],\n",
              "       [ 5, 13],\n",
              "       [ 0, 14],\n",
              "       [ 1, 13],\n",
              "       [11, 17],\n",
              "       [16, 15],\n",
              "       [ 8,  0]])"
            ]
          },
          "execution_count": 200,
          "metadata": {},
          "output_type": "execute_result"
        }
      ],
      "source": [
        "arr.reshape(9, -1)"
      ]
    },
    {
      "cell_type": "code",
      "execution_count": 201,
      "metadata": {},
      "outputs": [
        {
          "name": "stdout",
          "output_type": "stream",
          "text": [
            "[[ 9  0  6 16]\n",
            " [ 7  9  5 14]\n",
            " [17  6  5  6]]\n"
          ]
        }
      ],
      "source": [
        "print(arr2d)"
      ]
    },
    {
      "cell_type": "code",
      "execution_count": null,
      "metadata": {},
      "outputs": [
        {
          "data": {
            "text/plain": [
              "np.int64(14)"
            ]
          },
          "execution_count": 207,
          "metadata": {},
          "output_type": "execute_result"
        }
      ],
      "source": [
        "arr2d[1, 3] # arr[row, col]"
      ]
    },
    {
      "cell_type": "code",
      "execution_count": 209,
      "metadata": {},
      "outputs": [
        {
          "data": {
            "text/plain": [
              "array([16, 14])"
            ]
          },
          "execution_count": 209,
          "metadata": {},
          "output_type": "execute_result"
        }
      ],
      "source": [
        "arr2d[:2, 3]"
      ]
    },
    {
      "cell_type": "code",
      "execution_count": 212,
      "metadata": {},
      "outputs": [
        {
          "name": "stdout",
          "output_type": "stream",
          "text": [
            "[[3 9 6 6 0 3 9 5 4 7 7 3 0 1 4 2 5 8 5 4]\n",
            " [7 6 7 3 5 0 2 9 4 4 7 2 7 0 7 2 1 3 4 0]\n",
            " [4 8 1 7 7 6 0 5 2 7 9 2 3 5 1 6 8 8 1 4]\n",
            " [9 8 6 0 0 3 0 9 7 9 0 3 4 6 8 9 2 5 0 3]\n",
            " [3 1 4 8 7 4 1 1 3 4 0 3 3 6 7 4 5 9 4 6]\n",
            " [1 6 0 7 5 2 3 9 0 8 0 8 4 7 6 1 7 3 7 6]\n",
            " [5 2 4 4 1 8 3 8 8 3 5 8 4 2 9 1 8 4 4 0]\n",
            " [6 5 4 0 7 7 5 4 9 8 2 4 2 9 5 3 8 8 5 1]\n",
            " [3 5 8 6 9 1 3 7 1 9 4 2 5 8 5 1 3 3 4 0]\n",
            " [4 8 1 6 5 8 4 5 1 5 0 4 6 1 8 1 5 4 5 9]\n",
            " [5 2 6 4 9 6 2 7 9 8 3 3 1 8 5 5 8 0 0 8]\n",
            " [5 2 6 9 9 4 8 1 7 6 1 3 4 3 5 1 9 9 9 1]\n",
            " [2 4 2 5 2 6 1 1 5 8 9 1 8 5 0 5 3 2 8 9]\n",
            " [2 0 6 3 0 9 1 9 1 3 8 0 2 5 9 1 1 4 0 6]\n",
            " [5 0 3 5 2 6 9 3 6 8 0 9 5 8 9 6 9 0 2 2]\n",
            " [9 1 6 7 1 4 9 7 2 0 4 0 8 1 6 4 2 1 3 6]\n",
            " [2 1 3 7 5 7 0 1 0 2 3 0 1 6 9 0 3 3 1 1]\n",
            " [9 5 7 1 9 2 8 5 1 1 6 6 6 4 6 9 8 3 7 0]\n",
            " [0 1 2 2 2 3 2 8 1 7 3 7 0 5 7 3 6 3 3 3]\n",
            " [9 3 6 3 7 9 8 9 6 6 8 7 1 8 7 2 7 8 8 9]]\n"
          ]
        }
      ],
      "source": [
        "arr2d = rng.integers(0, 10, (20, 20))\n",
        "print(arr2d)"
      ]
    },
    {
      "cell_type": "code",
      "execution_count": 213,
      "metadata": {},
      "outputs": [
        {
          "data": {
            "text/plain": [
              "array([[1, 6, 0, 7, 5, 2, 3, 9, 0, 8, 0, 8, 4, 7, 6, 1, 7, 3, 7, 6],\n",
              "       [5, 2, 6, 4, 9, 6, 2, 7, 9, 8, 3, 3, 1, 8, 5, 5, 8, 0, 0, 8],\n",
              "       [9, 1, 6, 7, 1, 4, 9, 7, 2, 0, 4, 0, 8, 1, 6, 4, 2, 1, 3, 6]])"
            ]
          },
          "execution_count": 213,
          "metadata": {},
          "output_type": "execute_result"
        }
      ],
      "source": [
        "arr2d[[5, 10, 15]]"
      ]
    },
    {
      "cell_type": "code",
      "execution_count": 217,
      "metadata": {},
      "outputs": [
        {
          "name": "stdout",
          "output_type": "stream",
          "text": [
            "[[ True False False False  True  True False False  True False False  True\n",
            "   True  True  True  True False False False  True]\n",
            " [False False False  True False  True  True False  True  True False  True\n",
            "  False  True False  True  True  True  True  True]\n",
            " [ True False  True False False False  True False  True False False  True\n",
            "   True False  True False False False  True  True]\n",
            " [False False False  True  True  True  True False False False  True  True\n",
            "   True False False False  True False  True  True]\n",
            " [ True  True  True False False  True  True  True  True  True  True  True\n",
            "   True False False  True False False  True False]\n",
            " [ True False  True False False  True  True False  True False  True False\n",
            "   True False False  True False  True False False]\n",
            " [False  True  True  True  True False  True False False  True False False\n",
            "   True  True False  True False  True  True  True]\n",
            " [False False  True  True False False False  True False False  True  True\n",
            "   True False False  True False False False  True]\n",
            " [ True False False False False  True  True False  True False  True  True\n",
            "  False False False  True  True  True  True  True]\n",
            " [ True False  True False False False  True False  True False  True  True\n",
            "  False  True False  True False  True False False]\n",
            " [False  True False  True False False  True False False False  True  True\n",
            "   True False False False False  True  True False]\n",
            " [False  True False False False  True False  True False False  True  True\n",
            "   True  True False  True False False False  True]\n",
            " [ True  True  True False  True False  True  True False False False  True\n",
            "  False False  True False  True  True False False]\n",
            " [ True  True False  True  True False  True False  True  True False  True\n",
            "   True False False  True  True  True  True False]\n",
            " [False  True  True False  True False False  True False False  True False\n",
            "  False False False False False  True  True  True]\n",
            " [False  True False False  True  True False False  True  True  True  True\n",
            "  False  True False  True  True  True  True False]\n",
            " [ True  True  True False False False  True  True  True  True  True  True\n",
            "   True False False  True  True  True  True  True]\n",
            " [False False False  True False  True False False  True  True False False\n",
            "  False  True False False False  True False  True]\n",
            " [ True  True  True  True  True  True  True False  True False  True False\n",
            "   True False False  True False  True  True  True]\n",
            " [False  True False  True False False False False False False False False\n",
            "   True False False  True False False False False]]\n"
          ]
        }
      ],
      "source": [
        "print(arr2d < 5)"
      ]
    },
    {
      "cell_type": "code",
      "execution_count": 220,
      "metadata": {},
      "outputs": [
        {
          "name": "stdout",
          "output_type": "stream",
          "text": [
            "[[4 5 1]\n",
            " [5 7 1]\n",
            " [7 2 0]]\n"
          ]
        }
      ],
      "source": [
        "arr2d = rng.integers(0, 10, (3, 3))\n",
        "print(arr2d)"
      ]
    },
    {
      "cell_type": "code",
      "execution_count": 221,
      "metadata": {},
      "outputs": [
        {
          "data": {
            "text/plain": [
              "array([[False, False,  True],\n",
              "       [False, False,  True],\n",
              "       [False,  True,  True]])"
            ]
          },
          "execution_count": 221,
          "metadata": {},
          "output_type": "execute_result"
        }
      ],
      "source": [
        "arr2d < 3"
      ]
    },
    {
      "cell_type": "code",
      "execution_count": 223,
      "metadata": {},
      "outputs": [
        {
          "data": {
            "text/plain": [
              "array([1, 1, 2, 0])"
            ]
          },
          "execution_count": 223,
          "metadata": {},
          "output_type": "execute_result"
        }
      ],
      "source": [
        "arr2d[arr2d<3]"
      ]
    },
    {
      "cell_type": "markdown",
      "metadata": {},
      "source": [
        "## Sorting arrays\n",
        "- `array.sort()`: sorts the array in place.\n",
        "- `np.sort(array)`: returns a sorted copy of the array."
      ]
    },
    {
      "cell_type": "code",
      "execution_count": 224,
      "metadata": {},
      "outputs": [
        {
          "data": {
            "text/plain": [
              "array([11, 17,  7, 19, 11, 15,  5, 13,  0, 14,  1, 13, 11, 17, 16, 15,  8,\n",
              "        0])"
            ]
          },
          "execution_count": 224,
          "metadata": {},
          "output_type": "execute_result"
        }
      ],
      "source": [
        "arr"
      ]
    },
    {
      "cell_type": "code",
      "execution_count": 225,
      "metadata": {},
      "outputs": [],
      "source": [
        "arr.sort()"
      ]
    },
    {
      "cell_type": "code",
      "execution_count": 226,
      "metadata": {},
      "outputs": [
        {
          "data": {
            "text/plain": [
              "array([ 0,  0,  1,  5,  7,  8, 11, 11, 11, 13, 13, 14, 15, 15, 16, 17, 17,\n",
              "       19])"
            ]
          },
          "execution_count": 226,
          "metadata": {},
          "output_type": "execute_result"
        }
      ],
      "source": [
        "arr"
      ]
    },
    {
      "cell_type": "code",
      "execution_count": 227,
      "metadata": {},
      "outputs": [
        {
          "data": {
            "text/plain": [
              "array([0, 3, 4, 2, 0, 3, 8, 2, 8, 7, 8, 4, 0, 5, 5, 7, 6, 0, 9, 0])"
            ]
          },
          "execution_count": 227,
          "metadata": {},
          "output_type": "execute_result"
        }
      ],
      "source": [
        "arr = rng.integers(0, 10, 20)\n",
        "arr"
      ]
    },
    {
      "cell_type": "code",
      "execution_count": 228,
      "metadata": {},
      "outputs": [
        {
          "data": {
            "text/plain": [
              "array([0, 0, 0, 0, 0, 2, 2, 3, 3, 4, 4, 5, 5, 6, 7, 7, 8, 8, 8, 9])"
            ]
          },
          "execution_count": 228,
          "metadata": {},
          "output_type": "execute_result"
        }
      ],
      "source": [
        "np.sort(arr)"
      ]
    },
    {
      "cell_type": "code",
      "execution_count": 229,
      "metadata": {},
      "outputs": [
        {
          "data": {
            "text/plain": [
              "array([0, 3, 4, 2, 0, 3, 8, 2, 8, 7, 8, 4, 0, 5, 5, 7, 6, 0, 9, 0])"
            ]
          },
          "execution_count": 229,
          "metadata": {},
          "output_type": "execute_result"
        }
      ],
      "source": [
        "arr"
      ]
    },
    {
      "cell_type": "markdown",
      "metadata": {},
      "source": [
        "## Uniqueness\n",
        "- `np.unique(array)`: returns the unique elements of an array.\n",
        "- `return_counts=True`: also returns the counts of each unique element."
      ]
    },
    {
      "cell_type": "code",
      "execution_count": null,
      "metadata": {},
      "outputs": [],
      "source": []
    },
    {
      "cell_type": "markdown",
      "metadata": {},
      "source": [
        "# Combining Arrays\n",
        "- `np.concatenate`: join a sequence of arrays along an existing axis.\n",
        "- `np.stack`: join a sequence of arrays along a new axis.\n",
        "- `np.hstack`: stack arrays in sequence horizontally (column-wise).\n",
        "- `np.vstack`: stack arrays in sequence vertically (row-wise)."
      ]
    },
    {
      "cell_type": "code",
      "execution_count": null,
      "metadata": {},
      "outputs": [
        {
          "data": {
            "text/plain": [
              "array([1, 2, 3, 4, 5, 6])"
            ]
          },
          "execution_count": 234,
          "metadata": {},
          "output_type": "execute_result"
        }
      ],
      "source": [
        "arr1 = np.array([1, 2, 3])\n",
        "arr2 = np.array([4, 5, 6])\n",
        "\n",
        "np.concatenate([arr1, arr2])"
      ]
    },
    {
      "cell_type": "code",
      "execution_count": 237,
      "metadata": {},
      "outputs": [
        {
          "data": {
            "text/plain": [
              "array([[1, 2, 4, 5],\n",
              "       [2, 3, 6, 7]])"
            ]
          },
          "execution_count": 237,
          "metadata": {},
          "output_type": "execute_result"
        }
      ],
      "source": [
        "arr1 = np.array([[1, 2],\n",
        "                 [2, 3]])\n",
        "arr2 = np.array([[4, 5],\n",
        "                 [6, 7]])\n",
        "\n",
        "np.concatenate([arr1, arr2], axis=1)"
      ]
    },
    {
      "cell_type": "markdown",
      "metadata": {},
      "source": [
        "## Splitting\n",
        "- `np.split`: split an array into multiple sub-arrays.\n",
        "- `np.hsplit`: split an array into multiple sub-arrays horizontally.\n",
        "- `np.vsplit`: split an array into multiple sub-arrays vertically.\n",
        "- `np.array_split`: split an array into multiple sub-arrays of equal or near-equal size."
      ]
    },
    {
      "cell_type": "code",
      "execution_count": null,
      "metadata": {},
      "outputs": [],
      "source": []
    },
    {
      "cell_type": "markdown",
      "metadata": {},
      "source": [
        "## Exercises\n",
        "\n",
        "Try these exercises. Each has a hidden or following solution cell.\n",
        "\n",
        "1) Create a 1D array of the even numbers from 2 to 40 inclusive using two different methods.\n",
        "2) Create a 3x3 identity-like array but with 5s on the diagonal.\n",
        "3) Generate a 5x4 matrix of random integers from 10 to 99, then compute column-wise max and the index of the min in each row.\n",
        "4) Given `a = np.arange(24)`, reshape it to shape `(4, 3, 2)`, then compute the sum along axis 2.\n",
        "5) Concatenate two arrays `p = [1,2,3]` and `q = [4,5,6]` as:\n",
        "   - a) a single 1D array\n",
        "   - b) a 2x3 stacked array\n",
        "   - c) a 3x2 stacked array\n",
        "6) Split `np.arange(20)` into 3 nearly equal parts and sort each part descending.\n",
        "7) Demonstrate view vs copy by slicing and modifying the original array vs a copy.\n",
        "\n"
      ]
    }
  ],
  "metadata": {
    "kernelspec": {
      "display_name": "ul-env",
      "language": "python",
      "name": "python3"
    },
    "language_info": {
      "codemirror_mode": {
        "name": "ipython",
        "version": 3
      },
      "file_extension": ".py",
      "mimetype": "text/x-python",
      "name": "python",
      "nbconvert_exporter": "python",
      "pygments_lexer": "ipython3",
      "version": "3.12.0"
    }
  },
  "nbformat": 4,
  "nbformat_minor": 2
}
